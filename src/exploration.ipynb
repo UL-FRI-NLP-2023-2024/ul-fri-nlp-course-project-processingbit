{
 "cells": [
  {
   "cell_type": "markdown",
   "metadata": {},
   "source": [
    "# Collab Write Analysis dataset"
   ]
  },
  {
   "cell_type": "code",
   "execution_count": 70,
   "metadata": {},
   "outputs": [],
   "source": [
    "import pandas as pd\n",
    "import itertools\n",
    "\n",
    "fill_with_r1 = False\n",
    "nan_if_multilabels = True"
   ]
  },
  {
   "cell_type": "markdown",
   "metadata": {},
   "source": [
    "## Data Exploration and cleaning"
   ]
  },
  {
   "cell_type": "code",
   "execution_count": 71,
   "metadata": {},
   "outputs": [],
   "source": [
    "# read the data (format xlsm)\n",
    "data = pd.read_excel('data/CollabWriteAnalysisCountCodesLadyorTigerF20nS21S22wGSAnalysis27Jan2023_14Mar2024CleanF.xlsm', sheet_name='Combined Discussions')"
   ]
  },
  {
   "cell_type": "code",
   "execution_count": 72,
   "metadata": {},
   "outputs": [
    {
     "data": {
      "text/plain": [
       "Index(['Course', 'Book ID', 'Topic', 'Bookclub', 'Chat0CREW1', 'Pseudonym',\n",
       "       'Message', 'Message Time', 'Is Answer', 'Page', 'Response Number',\n",
       "       'R1 Discussion type', 'R2DiscussionType',\n",
       "       'R2DiscussionTypeInterpNothers', 'CollapsR2DiscussionTypeInterpNothers',\n",
       "       'Chat0CREW1B', 'R1 Dialogic spell', 'BinaryR1DialogicSpell',\n",
       "       'R1 Uptake', 'BinaryR1Uptake', 'R2DialogicSpell',\n",
       "       'BinaryR2DialogicSpell', 'R2Uptake', 'BinaryR2Uptake', 'Pseudonym.1',\n",
       "       'Message.1', 'Bookclub.1', 'R1 Question', 'R2 Question', 'R1 Pivot',\n",
       "       'R2 Pivot', 'Memo', 'Old Code Book'],\n",
       "      dtype='object')"
      ]
     },
     "execution_count": 72,
     "metadata": {},
     "output_type": "execute_result"
    }
   ],
   "source": [
    "# retrieve the columns\n",
    "data.columns"
   ]
  },
  {
   "cell_type": "code",
   "execution_count": 73,
   "metadata": {},
   "outputs": [
    {
     "name": "stdout",
     "output_type": "stream",
     "text": [
      "Bookclub is equal to Bookclub.1\n",
      "Chat0CREW1 is equal to Chat0CREW1B\n",
      "Pseudonym is equal to Pseudonym.1\n",
      "Message is equal to Message.1\n",
      "BinaryR1DialogicSpell is equal to BinaryR1Uptake\n",
      "BinaryR1DialogicSpell is equal to BinaryR2Uptake\n",
      "BinaryR1Uptake is equal to BinaryR2Uptake\n"
     ]
    }
   ],
   "source": [
    "columns_to_delete = []\n",
    "\n",
    "# Find the columns which content is equal to each other (and erase them)\n",
    "for column, column2 in itertools.combinations(data.columns, 2):\n",
    "    if data[column].equals(data[column2]):\n",
    "        print(f'{column} is equal to {column2}')\n",
    "        columns_to_delete.append(column2)\n",
    "\n",
    "# Delete the columns\n",
    "data.drop(columns=columns_to_delete, inplace=True)"
   ]
  },
  {
   "cell_type": "markdown",
   "metadata": {},
   "source": [
    "Value count:"
   ]
  },
  {
   "cell_type": "code",
   "execution_count": 74,
   "metadata": {},
   "outputs": [
    {
     "name": "stdout",
     "output_type": "stream",
     "text": [
      "Course\n",
      "PIM P1                    452\n",
      "? S22 Chat Synch Data      98\n",
      "Outreach P1                53\n",
      "? S22 Chat Asynch Data      8\n",
      "Name: count, dtype: int64\n",
      "611\n",
      "\n",
      "Book ID\n",
      "260    421\n",
      "261    190\n",
      "Name: count, dtype: int64\n",
      "611\n",
      "\n",
      "Topic\n",
      "Part 1: What happens next? What is behind the door, the lady or the tiger?  Part 2: Later, the King discovers that his daughter has broken the law.  How does the King respond? What happens?                                                                                                                                                                                                               519\n",
      "Part 1: Discuss what would happens next and why, providing evidence or logic. What is behind the door, the lady of the tiger?  Part 2: Later, the King discovers that his daughter had broken the law, by first finding out what was behind the doors & then signaling to her lover which door to open. What would the king do, and why? Do NOT write fiction, but rather speculate and provide support.     46\n",
      "Part 1: What happens next? What is behind the door, the lady of the tiger?  Part 2: Later, the King discovers that his daughter had broken the law, by first finding out what was behind the doors and then signaling to her lover which door to open. What does the king do, and what happens?                                                                                                              38\n",
      "Name: count, dtype: int64\n",
      "603\n",
      "\n",
      "Bookclub\n",
      "Book Club One      277\n",
      "Book Club Four     192\n",
      "Book Club Two       94\n",
      "Book Club Three     30\n",
      "Book Club Five      18\n",
      "Name: count, dtype: int64\n",
      "611\n",
      "\n",
      "Chat0CREW1\n",
      "1    421\n",
      "0    190\n",
      "Name: count, dtype: int64\n",
      "611\n",
      "\n",
      "Is Answer\n",
      "No    503\n",
      "        2\n",
      "Name: count, dtype: int64\n",
      "505\n",
      "\n",
      "Page\n",
      "10    334\n",
      "?      98\n",
      "9      96\n",
      "13     46\n",
      "8      32\n",
      "        2\n",
      "3       1\n",
      "Name: count, dtype: int64\n",
      "609\n",
      "\n",
      "Response Number\n",
      "3.4    97\n",
      "2.4    94\n",
      "3.2    63\n",
      "2.1    60\n",
      "2.2    24\n",
      "3.5    18\n",
      "1.1    18\n",
      "1.3    12\n",
      "2.3    12\n",
      "3.1     9\n",
      "1.2     7\n",
      "3.3     6\n",
      "        1\n",
      "Name: count, dtype: int64\n",
      "421\n",
      "\n",
      "R1 Discussion type\n",
      "Seminar                              199\n",
      "Social/Procedure/UX                  116\n",
      "Deliberation                          82\n",
      "Social/Procedure/UX, Seminar           8\n",
      "Imaginative                            4\n",
      "Deliberation, Seminar                  3\n",
      "Seminar, Deliberation                  1\n",
      "Deliberation, Social/Procedure/UX      1\n",
      "Imaginative entry                      1\n",
      "Seminar, Social/Procedure/UX           1\n",
      "Name: count, dtype: int64\n",
      "416\n",
      "\n",
      "R2DiscussionType\n",
      "Seminar                  333\n",
      "Deliberation              85\n",
      "Social                    69\n",
      "UX                        47\n",
      "Procedure                 46\n",
      "Imaginative entry         17\n",
      "Other                      6\n",
      "Seminar, Deliberation      2\n",
      "Imaginative                2\n",
      "Social, Deliberation       1\n",
      "Deliberation, Seminar      1\n",
      "Social, Procedure          1\n",
      "Imaginative Entry          1\n",
      "Name: count, dtype: int64\n",
      "611\n",
      "\n",
      "R2DiscussionTypeInterpNothers\n",
      "Interpretation    335\n",
      "Deliberation       87\n",
      "Social             71\n",
      "UX                 47\n",
      "Procedure          46\n",
      "Other              25\n",
      "Name: count, dtype: int64\n",
      "611\n",
      "\n",
      "CollapsR2DiscussionTypeInterpNothers\n",
      "Interpretation          335\n",
      "Social/Procedural/UX    164\n",
      "Deliberation             87\n",
      "Other                    25\n",
      "Name: count, dtype: int64\n",
      "611\n",
      "\n",
      "R1 Dialogic spell\n",
      "         85\n",
      "2        23\n",
      "1        19\n",
      "Begin    18\n",
      "End      18\n",
      "5        18\n",
      "9        11\n",
      "3        10\n",
      "7         9\n",
      "6         7\n",
      "8         6\n",
      "Break     3\n",
      "4         3\n",
      "Name: count, dtype: int64\n",
      "230\n",
      "\n",
      "Series([], Name: count, dtype: int64)\n",
      "0\n",
      "\n",
      "R1 Uptake\n",
      "Affirm                         66\n",
      "Elaborate                      20\n",
      "Affirm, Elaborate               8\n",
      "Disagree                        4\n",
      "Prompt                          4\n",
      "Clarify                         2\n",
      "Disagree, Elaborate             2\n",
      "Clarify, Affirm                 1\n",
      "Affirm, Prompt                  1\n",
      "Affirm, Disagree, Elaborate     1\n",
      "Affirm, Prompt, Elaborate       1\n",
      "Affirm, Disagree                1\n",
      "Filler                          1\n",
      "Name: count, dtype: int64\n",
      "112\n",
      "\n",
      "R2DialogicSpell\n",
      "1.0    198\n",
      "2.0    126\n",
      "3.0     64\n",
      "4.0     29\n",
      "7.0     21\n",
      "5.0     13\n",
      "6.0     10\n",
      "Name: count, dtype: int64\n",
      "461\n",
      "\n",
      "BinaryR2DialogicSpell\n",
      "1.0    7\n",
      "2.0    3\n",
      "Name: count, dtype: int64\n",
      "10\n",
      "\n",
      "R2Uptake\n",
      "Affirm       140\n",
      "Elaborate    107\n",
      "Filler        61\n",
      "Clarify       50\n",
      "Disagree      10\n",
      "Name: count, dtype: int64\n",
      "368\n",
      "\n",
      "R1 Question\n",
      "C-LOT           33\n",
      "C-HOT           12\n",
      "O-LOT            7\n",
      "O-HOT            5\n",
      "C-HOT, C-HOT     2\n",
      "C-LOT, C-LOT     2\n",
      "O-HOT, C-HOT     1\n",
      "O-HOT, C-LOT     1\n",
      "Name: count, dtype: int64\n",
      "63\n",
      "\n",
      "R2 Question\n",
      "C-LOT            36\n",
      "C-HOT            22\n",
      "O-HOT            11\n",
      "O-LOT             8\n",
      "C-LOT, C-LOT      3\n",
      "O-COT             1\n",
      "C-HOT, C-HOT      1\n",
      "O-HOT, C-LOT      1\n",
      "C-LOT? C-HOT?     1\n",
      "Name: count, dtype: int64\n",
      "84\n",
      "\n",
      "R1 Pivot\n",
      "Seminar to Deliberation                                       11\n",
      "Deliberation to Seminar                                        7\n",
      "Seminar to Social/Procedure/UX                                 6\n",
      "Deliberation to Social/Procedure/UX                            6\n",
      "Social/Procedure/UX to Deliberation                            5\n",
      "Social/Procedure/UX to Social/Procedure/UX                     4\n",
      "Seminar to Social/Procedure/UX to Seminar                      4\n",
      "Deliberation to seminar                                        2\n",
      "Seminar to Socal to Seminar                                    1\n",
      "Imaginative to seminar                                         1\n",
      "Seminar to Imaginative                                         1\n",
      "Social/Procedure/UX to seminar                                 1\n",
      "Social/Procedure/UX to Deliberation to Social/Procedure/UX     1\n",
      "Seminar to Deliberation to Seminar                             1\n",
      "Social/Procedure/UX to Social/Procedure/UX                     1\n",
      "Imaginative to Social/Procedure/UX                             1\n",
      "Deliberation to Imaginative                                    1\n",
      "Imaginative to Deliberation/Social/Procedure/UX                1\n",
      "Social/Procedure/UX to Imaginative                             1\n",
      "Social/Procedure/UX to Seminar                                 1\n",
      "Name: count, dtype: int64\n",
      "57\n",
      "\n",
      "R2 Pivot\n",
      "Seminar to Social/Procedure/UX                10\n",
      "Social/Procedure/UX to Seminar                 8\n",
      "Seminar to Deliberation                        7\n",
      "Deliberation to Social/Procedure/UX            4\n",
      "Social/Procedure/UX to Social/Procedure/UX     4\n",
      "Social/Procedure/UX to Deliberation            3\n",
      "Deliberation to Seminar                        3\n",
      "Seminar to Imaginative entry                   2\n",
      "Imaginative entry to Seminar                   2\n",
      "Seminar to Imaginative                         1\n",
      "Imaginative to Seminar                         1\n",
      "Delibration to Seminar                         1\n",
      "Deliberationa to Seminar                       1\n",
      "Name: count, dtype: int64\n",
      "47\n",
      "\n",
      "Memo\n",
      "They're spending a lot of time trying to figure out what to do, so perhaps we should be more explicit in the instructions.    1\n",
      "Should the name \"victoria\" be switched for a pseudonym?                                                                       1\n",
      "We coded PIM P1 Book Club 4 together, which is why R2 is blacked out.                                                         1\n",
      "Name: count, dtype: int64\n",
      "3\n",
      "\n",
      "Old Code Book\n",
      "Content Discussion         121\n",
      "Response                    30\n",
      "Feedback                    15\n",
      "Logistics                   14\n",
      "General Comment             13\n",
      "Incomplete/Typo             11\n",
      "Content Question            10\n",
      "Emoticon/Non-verbal          6\n",
      "Assignment Instructions      3\n",
      "Greeting                     2\n",
      "Instruction Question         2\n",
      "Assignment Question          2\n",
      "Opening statement            2\n",
      "Instuction Question          1\n",
      "Name: count, dtype: int64\n",
      "232\n",
      "\n"
     ]
    }
   ],
   "source": [
    "for column in data.columns:\n",
    "    if column in ['Message', 'Pseudonym', 'Message Time']:\n",
    "        continue\n",
    "    # value counts\n",
    "    print(data[column].value_counts())\n",
    "    \n",
    "    # print the number of items not nan\n",
    "    print(data[column].count())\n",
    "    print()"
   ]
  },
  {
   "cell_type": "code",
   "execution_count": 75,
   "metadata": {},
   "outputs": [],
   "source": [
    "# Memo, old code book, topic are not needed\n",
    "data.drop(columns=['Memo', 'Old Code Book', 'Topic'], inplace=True)"
   ]
  },
  {
   "cell_type": "code",
   "execution_count": 76,
   "metadata": {},
   "outputs": [],
   "source": [
    "# remove the first ? if present\n",
    "data['Course'] = data['Course'].apply(lambda x: x[2:] if x[0] == '?' else x)"
   ]
  },
  {
   "cell_type": "code",
   "execution_count": 77,
   "metadata": {},
   "outputs": [],
   "source": [
    "# if Is Answer is nan or ' ' then it is True, otherwise False\n",
    "data['Is Answer'] = data['Is Answer'].isna() | data['Is Answer'].str.isspace()"
   ]
  },
  {
   "cell_type": "code",
   "execution_count": 78,
   "metadata": {},
   "outputs": [],
   "source": [
    "str_to_int = {'One': 1, 'Two': 2, 'Three': 3, 'Four': 4, 'Five': 5}\n",
    "# change bookclub to the number of book club (format Book Club n)\n",
    "data['Bookclub'] = data['Bookclub'].map(lambda x: str_to_int[x.split(' ')[-1]])"
   ]
  },
  {
   "cell_type": "code",
   "execution_count": 79,
   "metadata": {},
   "outputs": [],
   "source": [
    "# Page number is NaN if ' ' or nan or ? \n",
    "data['Page'] = data['Page'].map(lambda x: pd.NA if str(x) in ['?'] or pd.isna(x) or str(x).isspace() else x)"
   ]
  },
  {
   "cell_type": "code",
   "execution_count": 80,
   "metadata": {},
   "outputs": [],
   "source": [
    "# response number is 0 if ' '\n",
    "data['Response Number'] = data['Response Number'].map(lambda x: pd.NA if str(x).isspace() or pd.isna(x) else x)"
   ]
  },
  {
   "cell_type": "markdown",
   "metadata": {},
   "source": [
    "Rename classes:"
   ]
  },
  {
   "cell_type": "code",
   "execution_count": 81,
   "metadata": {},
   "outputs": [],
   "source": [
    "# rename Book ID and Chat0CREW1 to book_id and chat_crew\n",
    "columns_to_rename = {'Book ID': 'book_id', \n",
    "                     'Chat0CREW1': 'chat_crew',\n",
    "                     'Bookclub': 'bookclub',\n",
    "                     'Course': 'course',\n",
    "                     'Pseudonym': 'pseudonym',\n",
    "                     'Message': 'message',\n",
    "                     'Message Time': 'time',\n",
    "                     'Is Answer': 'is_answer', \n",
    "                     'Page': 'page', \n",
    "                     'Response Number': 'response_number', \n",
    "                     'R1 Discussion type': 'r1_discussion_type',\n",
    "                     'R2DiscussionType': 'r2_discussion_type',\n",
    "                     'R2DiscussionTypeInterpNothers': 'r2_discussion_type_interp_nothers',\n",
    "                     'CollapsR2DiscussionTypeInterpNothers': 'collaps_r2_discussion_type_interp_nothers',\n",
    "                     'R1 Dialogic spell': 'r1_dialogic_spell',\n",
    "                     'BinaryR1DialogicSpell': 'binary_r1_dialogic_spell',\n",
    "                     'R1 Uptake': 'r1_uptake',\n",
    "                     'BinaryR1Uptake': 'binary_r1_uptake',\n",
    "                     'R2DialogicSpell': 'r2_dialogic_spell',\n",
    "                     'BinaryR2DialogicSpell': 'binary_r2_dialogic_spell',\n",
    "                     'R2Uptake': 'r2_uptake',\n",
    "                     'BinaryR2Uptake': 'binary_r2_uptake',\n",
    "                     'R1 Question': 'r1_question',\n",
    "                     'R2 Question': 'r2_question',\n",
    "                     'R1 Pivot': 'r1_pivot',\n",
    "                     'R2 Pivot': 'r2_pivot'\n",
    "                     }\n",
    "data.rename(columns=columns_to_rename, inplace=True)"
   ]
  },
  {
   "cell_type": "code",
   "execution_count": 82,
   "metadata": {},
   "outputs": [],
   "source": [
    "if fill_with_r1:\n",
    "    # copy R1 to R2 if R2 is nan\n",
    "    for column in data.columns:\n",
    "        if column.startswith('r2'):\n",
    "            corr_r1_column = column.replace('r2', 'r1')\n",
    "            if corr_r1_column in data.columns:\n",
    "                data[column] = data[column].fillna(data[corr_r1_column])\n",
    "\n",
    "                # if r2 contains a question mark, then take the value from r1\n",
    "                for i, row in data.iterrows():\n",
    "                    if '?' in str(row[column]):\n",
    "                        data.at[i, column] = row[corr_r1_column]"
   ]
  },
  {
   "cell_type": "markdown",
   "metadata": {},
   "source": [
    "Drop R1 and binary classes"
   ]
  },
  {
   "cell_type": "code",
   "execution_count": 83,
   "metadata": {},
   "outputs": [],
   "source": [
    "# remove r1 columns and binary columns\n",
    "data = data[[column for column in data.columns if not column.startswith('r1')]]\n",
    "data = data[[column for column in data.columns if not column.startswith('binary')]]"
   ]
  },
  {
   "cell_type": "markdown",
   "metadata": {},
   "source": [
    "Check the values of all the classes:"
   ]
  },
  {
   "cell_type": "code",
   "execution_count": 84,
   "metadata": {},
   "outputs": [
    {
     "name": "stdout",
     "output_type": "stream",
     "text": [
      "course\n",
      "PIM P1                  452\n",
      "S22 Chat Synch Data      98\n",
      "Outreach P1              53\n",
      "S22 Chat Asynch Data      8\n",
      "Name: count, dtype: int64\n",
      "611\n",
      "\n",
      "book_id\n",
      "260    421\n",
      "261    190\n",
      "Name: count, dtype: int64\n",
      "611\n",
      "\n",
      "bookclub\n",
      "1    277\n",
      "4    192\n",
      "2     94\n",
      "3     30\n",
      "5     18\n",
      "Name: count, dtype: int64\n",
      "611\n",
      "\n",
      "chat_crew\n",
      "1    421\n",
      "0    190\n",
      "Name: count, dtype: int64\n",
      "611\n",
      "\n",
      "is_answer\n",
      "False    503\n",
      "True     108\n",
      "Name: count, dtype: int64\n",
      "611\n",
      "\n",
      "page\n",
      "10      334\n",
      "<NA>    102\n",
      "9        96\n",
      "13       46\n",
      "8        32\n",
      "3         1\n",
      "Name: count, dtype: int64\n",
      "509\n",
      "\n",
      "response_number\n",
      "<NA>    191\n",
      "3.4      97\n",
      "2.4      94\n",
      "3.2      63\n",
      "2.1      60\n",
      "2.2      24\n",
      "3.5      18\n",
      "1.1      18\n",
      "1.3      12\n",
      "2.3      12\n",
      "3.1       9\n",
      "1.2       7\n",
      "3.3       6\n",
      "Name: count, dtype: int64\n",
      "420\n",
      "\n",
      "r2_discussion_type\n",
      "Seminar                  333\n",
      "Deliberation              85\n",
      "Social                    69\n",
      "UX                        47\n",
      "Procedure                 46\n",
      "Imaginative entry         17\n",
      "Other                      6\n",
      "Seminar, Deliberation      2\n",
      "Imaginative                2\n",
      "Social, Deliberation       1\n",
      "Deliberation, Seminar      1\n",
      "Social, Procedure          1\n",
      "Imaginative Entry          1\n",
      "Name: count, dtype: int64\n",
      "611\n",
      "\n",
      "r2_discussion_type_interp_nothers\n",
      "Interpretation    335\n",
      "Deliberation       87\n",
      "Social             71\n",
      "UX                 47\n",
      "Procedure          46\n",
      "Other              25\n",
      "Name: count, dtype: int64\n",
      "611\n",
      "\n",
      "collaps_r2_discussion_type_interp_nothers\n",
      "Interpretation          335\n",
      "Social/Procedural/UX    164\n",
      "Deliberation             87\n",
      "Other                    25\n",
      "Name: count, dtype: int64\n",
      "611\n",
      "\n",
      "r2_dialogic_spell\n",
      "1.0    198\n",
      "NaN    150\n",
      "2.0    126\n",
      "3.0     64\n",
      "4.0     29\n",
      "7.0     21\n",
      "5.0     13\n",
      "6.0     10\n",
      "Name: count, dtype: int64\n",
      "461\n",
      "\n",
      "r2_uptake\n",
      "NaN          243\n",
      "Affirm       140\n",
      "Elaborate    107\n",
      "Filler        61\n",
      "Clarify       50\n",
      "Disagree      10\n",
      "Name: count, dtype: int64\n",
      "368\n",
      "\n",
      "r2_question\n",
      "NaN              527\n",
      "C-LOT             36\n",
      "C-HOT             22\n",
      "O-HOT             11\n",
      "O-LOT              8\n",
      "C-LOT, C-LOT       3\n",
      "O-COT              1\n",
      "C-HOT, C-HOT       1\n",
      "O-HOT, C-LOT       1\n",
      "C-LOT? C-HOT?      1\n",
      "Name: count, dtype: int64\n",
      "84\n",
      "\n",
      "r2_pivot\n",
      "NaN                                           564\n",
      "Seminar to Social/Procedure/UX                 10\n",
      "Social/Procedure/UX to Seminar                  8\n",
      "Seminar to Deliberation                         7\n",
      "Deliberation to Social/Procedure/UX             4\n",
      "Social/Procedure/UX to Social/Procedure/UX      4\n",
      "Social/Procedure/UX to Deliberation             3\n",
      "Deliberation to Seminar                         3\n",
      "Seminar to Imaginative entry                    2\n",
      "Imaginative entry to Seminar                    2\n",
      "Seminar to Imaginative                          1\n",
      "Imaginative to Seminar                          1\n",
      "Delibration to Seminar                          1\n",
      "Deliberationa to Seminar                        1\n",
      "Name: count, dtype: int64\n",
      "47\n",
      "\n"
     ]
    }
   ],
   "source": [
    "for column in data.columns:\n",
    "    if column in ['message', 'pseudonym', 'time']:\n",
    "        continue\n",
    "    # value counts\n",
    "    print(data[column].value_counts(dropna=False))\n",
    "    \n",
    "    # print the number of items not nan\n",
    "    print(data[column].count())\n",
    "    print()"
   ]
  },
  {
   "cell_type": "markdown",
   "metadata": {},
   "source": [
    "Creating a mapping from discussion type to collaps discussion type interp nothers:"
   ]
  },
  {
   "cell_type": "code",
   "execution_count": 85,
   "metadata": {},
   "outputs": [],
   "source": [
    "discussion_to_collaps = {}\n",
    "for index, row in data.iterrows():\n",
    "    if row['r2_discussion_type'] not in discussion_to_collaps:\n",
    "        discussion_to_collaps[row['r2_discussion_type']] = row['collaps_r2_discussion_type_interp_nothers']\n",
    "    else:\n",
    "        # check if the value is the same\n",
    "        if discussion_to_collaps[row['r2_discussion_type']] != row['collaps_r2_discussion_type_interp_nothers']:\n",
    "            print(f'Error in {row[\"r2_discussion_type\"]}, {discussion_to_collaps[row[\"r2_discussion_type\"]]} != {row[\"collaps_r2_discussion_type_interp_nothers\"]}')"
   ]
  },
  {
   "cell_type": "markdown",
   "metadata": {},
   "source": [
    "These are probable errors in the collaps. I will mantain the mapping."
   ]
  },
  {
   "cell_type": "code",
   "execution_count": 86,
   "metadata": {},
   "outputs": [
    {
     "data": {
      "text/plain": [
       "{'Social': 'Social/Procedural/UX',\n",
       " 'Seminar': 'Interpretation',\n",
       " 'Procedure': 'Social/Procedural/UX',\n",
       " 'Other': 'Other',\n",
       " 'Deliberation': 'Deliberation',\n",
       " 'UX': 'Social/Procedural/UX',\n",
       " 'Imaginative entry': 'Other',\n",
       " 'Seminar, Deliberation': 'Interpretation',\n",
       " 'Social, Deliberation': 'Social/Procedural/UX',\n",
       " 'Deliberation, Seminar': 'Deliberation',\n",
       " 'Social, Procedure': 'Social/Procedural/UX',\n",
       " 'Imaginative': 'Other',\n",
       " 'Imaginative Entry': 'Deliberation'}"
      ]
     },
     "execution_count": 86,
     "metadata": {},
     "output_type": "execute_result"
    }
   ],
   "source": [
    "data.drop(columns=['collaps_r2_discussion_type_interp_nothers', 'r2_discussion_type_interp_nothers'], inplace=True)\n",
    "discussion_to_collaps"
   ]
  },
  {
   "cell_type": "markdown",
   "metadata": {},
   "source": [
    "### Class cleaning"
   ]
  },
  {
   "cell_type": "markdown",
   "metadata": {},
   "source": [
    "Split the messages or duplicate them if they contain more classes (best split is based on '\\n', '.', '?', '!', ';', ',', ' '; it is not possible to split only by successive split_char, so the order matter)."
   ]
  },
  {
   "cell_type": "code",
   "execution_count": 87,
   "metadata": {},
   "outputs": [],
   "source": [
    "def check_class(data_to_check, column, possible_splits = ['\\n', '.', '?', '!', ';', ',', ' '], divide_also =[], take_last_of = [], change_to = pd.NA):\n",
    "    new_data = data_to_check.copy()\n",
    "\n",
    "    rows_added = 0\n",
    "    rows_without_splitting = 0\n",
    "    \n",
    "    # I want to see if the r2_discussion_type is a list of discussion types\n",
    "    rows_to_check = new_data[new_data[column].notna() & new_data[column].str.contains(',')].iterrows()\n",
    "\n",
    "    for index, row in rows_to_check:\n",
    "        types = row[column].split(',')\n",
    "        n_types = len(types)\n",
    "\n",
    "        # remove multiple spaces\n",
    "        message = [' '.join(row['message'].split())]\n",
    "\n",
    "        for split_char in possible_splits:\n",
    "            message = [item for message_part in message for item in message_part.split(split_char) if message_part]\n",
    "            \n",
    "            # if both the parts are not empty and the number of parts is equal to the number of types\n",
    "            if len(message) == n_types and all(message_part for message_part in message):\n",
    "                # I have found the right split, add rows to the data and remove the old row\n",
    "                data_to_insert = pd.DataFrame(columns=new_data.columns)\n",
    "                data_index = index + rows_added\n",
    "\n",
    "                for type_index, (type_, message_part) in enumerate(zip(types, message)):\n",
    "                    data_to_insert.loc[len(data_to_insert.index)] = row\n",
    "                    data_to_insert.loc[data_to_insert.index[-1], column] = type_.strip()\n",
    "                    data_to_insert.loc[data_to_insert.index[-1], 'message'] = message_part\n",
    "\n",
    "                    if type_index < n_types - 1:\n",
    "                        for column_to_remove in take_last_of:\n",
    "                            data_to_insert.loc[data_to_insert.index[-1], column_to_remove] = pd.NA\n",
    "\n",
    "                    for column_to_check in divide_also:\n",
    "                        other_column = new_data.loc[data_index, column_to_check]\n",
    "                        if other_column and not pd.isna(other_column):\n",
    "                            other_column = str(other_column).split(',')\n",
    "                            if len(other_column) == n_types:\n",
    "                                data_to_insert.loc[data_to_insert.index[-1], column_to_check] = other_column[type_index].strip()\n",
    "\n",
    "                    rows_added += 1\n",
    "                \n",
    "                new_data = pd.concat([new_data.loc[:data_index - 1], data_to_insert, new_data.loc[data_index + 1:]]).reset_index(drop=True)\n",
    "                rows_added -= 1\n",
    "                break\n",
    "        else:\n",
    "            # check if all the types are the same\n",
    "            if len(set(types)) != 1:\n",
    "                if nan_if_multilabels:\n",
    "                    new_data.loc[index + rows_added, column] = change_to\n",
    "                else:\n",
    "                    rows_without_splitting += 1\n",
    "                    # if I did not find the right split, duplicate the row and remove the multiple types\n",
    "                    data_to_insert = pd.DataFrame(columns=new_data.columns)\n",
    "                    data_index = index + rows_added\n",
    "                    for type_index, type_ in enumerate(types):\n",
    "                        data_to_insert.loc[len(data_to_insert.index)] = row\n",
    "                        data_to_insert.loc[data_to_insert.index[-1], column] = type_.strip()\n",
    "\n",
    "                        if type_index < n_types - 1:\n",
    "                            for column_to_remove in take_last_of:\n",
    "                                data_to_insert.loc[data_to_insert.index[-1], column_to_remove] = pd.NA\n",
    "\n",
    "                        for column_to_check in divide_also:\n",
    "                            other_column = new_data.loc[data_index, column_to_check]\n",
    "                            if other_column and not pd.isna(other_column):\n",
    "                                other_column = str(other_column).split(',')\n",
    "                                if len(other_column) == n_types:\n",
    "                                    data_to_insert.loc[data_to_insert.index[-1], column_to_check] = other_column[type_index].strip()\n",
    "\n",
    "                        rows_added += 1\n",
    "\n",
    "                    new_data = pd.concat([new_data.loc[:data_index - 1], data_to_insert, new_data.loc[data_index + 1:]]).reset_index(drop=True)\n",
    "                    rows_added -= 1\n",
    "            else:\n",
    "                # remove the multiple types\n",
    "                new_data.loc[index, column] = types[0].strip()\n",
    "                \n",
    "    return new_data"
   ]
  },
  {
   "cell_type": "markdown",
   "metadata": {},
   "source": [
    "Discussion Type"
   ]
  },
  {
   "cell_type": "code",
   "execution_count": 88,
   "metadata": {},
   "outputs": [
    {
     "name": "stdout",
     "output_type": "stream",
     "text": [
      "r2_discussion_type\n",
      "Seminar              335\n",
      "Deliberation          87\n",
      "Social                70\n",
      "Procedure             47\n",
      "UX                    47\n",
      "Imaginative Entry     20\n",
      "Other                  8\n",
      "Name: count, dtype: int64\n"
     ]
    }
   ],
   "source": [
    "data = check_class(data, 'r2_discussion_type', divide_also=['r2_question'], take_last_of=['r2_pivot'], change_to = 'Other')\n",
    "\n",
    "wrong_types = {'Imaginative entry' : 'Imaginative Entry',\n",
    "               'Imaginative': 'Imaginative Entry'}\n",
    "\n",
    "data['r2_discussion_type'] = data['r2_discussion_type'].replace(wrong_types)\n",
    "\n",
    "# strip the values\n",
    "data['r2_discussion_type'] = data['r2_discussion_type'].str.strip()\n",
    "\n",
    "print(data['r2_discussion_type'].value_counts(dropna=False))"
   ]
  },
  {
   "cell_type": "markdown",
   "metadata": {},
   "source": [
    "Dialogic spell"
   ]
  },
  {
   "cell_type": "code",
   "execution_count": 89,
   "metadata": {},
   "outputs": [
    {
     "name": "stdout",
     "output_type": "stream",
     "text": [
      "r2_dialogic_spell\n",
      "1       200\n",
      "<NA>    150\n",
      "2       126\n",
      "3        65\n",
      "4        29\n",
      "7        21\n",
      "5        13\n",
      "6        10\n",
      "Name: count, dtype: int64\n"
     ]
    }
   ],
   "source": [
    "# Page number is NaN if ' ' or nan or ? \n",
    "data['r2_dialogic_spell'] = data['r2_dialogic_spell'].map(lambda x: pd.NA if str(x) in ['?', '\\xa0'] or pd.isna(x) or str(x).isspace() else x)\n",
    "\n",
    "# change Begin to 1 if not NA\n",
    "data['r2_dialogic_spell'] = data['r2_dialogic_spell'].map(lambda x: 1 if pd.notna(x) and x == 'Begin' else x)\n",
    "\n",
    "for i, row in data.iterrows():\n",
    "    if pd.notna(row['r2_dialogic_spell']) and row['r2_dialogic_spell'] in ['End', 'Break']:\n",
    "        data.at[i, 'r2_dialogic_spell'] = data.at[i - 1, 'r2_dialogic_spell']\n",
    "\n",
    "# change everything to integers\n",
    "data['r2_dialogic_spell'] = data['r2_dialogic_spell'].map(lambda x: int(x) if pd.notna(x) else x)\n",
    "\n",
    "print(data['r2_dialogic_spell'].value_counts(dropna=False))"
   ]
  },
  {
   "cell_type": "markdown",
   "metadata": {},
   "source": [
    "Uptake:"
   ]
  },
  {
   "cell_type": "code",
   "execution_count": 90,
   "metadata": {},
   "outputs": [
    {
     "name": "stdout",
     "output_type": "stream",
     "text": [
      "r2_uptake\n",
      "<NA>         243\n",
      "Affirm       142\n",
      "Elaborate    108\n",
      "Filler        61\n",
      "Clarify       50\n",
      "Disagree      10\n",
      "Name: count, dtype: int64\n"
     ]
    }
   ],
   "source": [
    "data['r2_uptake'] = data['r2_uptake'].map(lambda x: pd.NA if str(x) in ['?', '\\xa0'] or pd.isna(x) or str(x).isspace() else x)\n",
    "\n",
    "print(data['r2_uptake'].value_counts(dropna=False))"
   ]
  },
  {
   "cell_type": "markdown",
   "metadata": {},
   "source": [
    "Questions"
   ]
  },
  {
   "cell_type": "code",
   "execution_count": 91,
   "metadata": {},
   "outputs": [
    {
     "name": "stdout",
     "output_type": "stream",
     "text": [
      "r2_question\n",
      "<NA>     536\n",
      "C-LOT     37\n",
      "C-HOT     22\n",
      "O-HOT     11\n",
      "O-LOT      8\n",
      "Name: count, dtype: int64\n"
     ]
    }
   ],
   "source": [
    "data = check_class(data, 'r2_question', possible_splits=['?'], take_last_of=['r2_pivot'])\n",
    "\n",
    "right_types = ['C-HOT', 'O-HOT', 'C-LOT', 'O-LOT']\n",
    "\n",
    "# pd.NA if ' ' or nan or ?\n",
    "data['r2_question'] = data['r2_question'].map(lambda x: pd.NA if pd.isna(x) or str(x) in ['?', '\\xa0'] or str(x).isspace() or '?' in str(x) or str(x) not in right_types else x)\n",
    "\n",
    "print(data['r2_question'].value_counts(dropna=False))"
   ]
  },
  {
   "cell_type": "markdown",
   "metadata": {},
   "source": [
    "Pivot"
   ]
  },
  {
   "cell_type": "code",
   "execution_count": 92,
   "metadata": {},
   "outputs": [
    {
     "name": "stdout",
     "output_type": "stream",
     "text": [
      "from_pivot\n",
      "<NA>                   567\n",
      "Seminar                 20\n",
      "Social/Procedure/UX     15\n",
      "Deliberation             9\n",
      "Imaginative Entry        3\n",
      "Name: count, dtype: int64\n",
      "\n",
      "to_pivot\n",
      "<NA>                   567\n",
      "Social/Procedure/UX     18\n",
      "Seminar                 16\n",
      "Deliberation            10\n",
      "Imaginative Entry        3\n",
      "Name: count, dtype: int64\n"
     ]
    }
   ],
   "source": [
    "# create from pivot column\n",
    "data['r2_pivot'] = data['r2_pivot'].map(lambda x: pd.NA if str(x) in ['?', '\\xa0'] or pd.isna(x) or str(x).isspace() else x)\n",
    "\n",
    "# Make not possible to have a pivot with more to\n",
    "data['r2_pivot'] = data['r2_pivot'].map(lambda x: pd.NA if pd.isna(x) or len(x.split(' to ')) > 2 else x)\n",
    "\n",
    "data['from_pivot'] = data['r2_pivot'].map(lambda x: pd.NA if pd.isna(x) else x.split(' to ')[0].strip())\n",
    "data['to_pivot'] = data['r2_pivot'].map(lambda x: pd.NA if pd.isna(x) else x.split(' to ')[1].strip())\n",
    "\n",
    "misspellings = {\n",
    "    'Imaginative' : 'Imaginative Entry',\n",
    "    'Imaginative entry' : 'Imaginative Entry',\n",
    "    'Delibration' : 'Deliberation',\n",
    "    'Deliberationa' : 'Deliberation',\n",
    "    'Deliberation/Social/Procedure/UX' : 'Social/Procedure/UX',\n",
    "    'Socal' : 'Social/Procedure/UX',\n",
    "}\n",
    "\n",
    "data['from_pivot'] = data['from_pivot'].replace(misspellings)\n",
    "data['to_pivot'] = data['to_pivot'].replace(misspellings)\n",
    "data.drop(columns=['r2_pivot'], inplace=True)\n",
    "\n",
    "print(data['from_pivot'].value_counts(dropna=False))\n",
    "print()\n",
    "print(data['to_pivot'].value_counts(dropna=False))"
   ]
  },
  {
   "cell_type": "code",
   "execution_count": 93,
   "metadata": {},
   "outputs": [
    {
     "name": "stdout",
     "output_type": "stream",
     "text": [
      "Misplaced Seminar to Social/Procedure/UX\n",
      "Guessed Seminar to Seminar\n",
      "\n",
      "Misplaced Social/Procedure/UX to Seminar\n",
      "Guessed Seminar to Social/Procedure/UX\n",
      "\n",
      "Misplaced Social/Procedure/UX to Deliberation\n",
      "Guessed Deliberation to Deliberation\n",
      "\n",
      "Misplaced Seminar to Deliberation\n",
      "Guessed Seminar to Other\n",
      "\n",
      "Misplaced Seminar to Social/Procedure/UX\n",
      "Guessed Deliberation to Seminar\n",
      "\n",
      "Misplaced Deliberation to Seminar\n",
      "Guessed Social/Procedure/UX to Seminar\n",
      "\n",
      "Corrected: 41, Misplaced: 6\n"
     ]
    }
   ],
   "source": [
    "misplaced = 0\n",
    "corrected = 0\n",
    "\n",
    "small_collaps = {\n",
    "    'Imaginative Entry': 'Imaginative Entry',\n",
    "    'Deliberation': 'Deliberation',\n",
    "    'Social' : 'Social/Procedure/UX',\n",
    "    'Procedure' : 'Social/Procedure/UX',\n",
    "    'UX' : 'Social/Procedure/UX',\n",
    "    'Seminar' : 'Seminar',\n",
    "    'Other': 'Other'\n",
    "}\n",
    "\n",
    "for index, row in data.iterrows():\n",
    "    if pd.notna(row['from_pivot']) and pd.notna(row['to_pivot']):\n",
    "        current_type = row['r2_discussion_type']\n",
    "\n",
    "        previous_row = data.loc[index - 1]\n",
    "        previous_type = previous_row['r2_discussion_type']\n",
    "\n",
    "        if previous_type not in small_collaps or current_type not in small_collaps:\n",
    "            continue\n",
    "\n",
    "        if row['from_pivot'] == small_collaps[previous_row['r2_discussion_type']] and row['to_pivot'] == small_collaps[row['r2_discussion_type']]:\n",
    "            corrected += 1\n",
    "        else:\n",
    "            from_pivot = row['from_pivot']\n",
    "            to_pivot = row['to_pivot']\n",
    "            print(f'Misplaced {from_pivot} to {to_pivot}')\n",
    "\n",
    "            guess_from_pivot = small_collaps[previous_row[\"r2_discussion_type\"]]\n",
    "            guess_to_pivot = small_collaps[row[\"r2_discussion_type\"]]\n",
    "\n",
    "            print(f'Guessed {guess_from_pivot} to {guess_to_pivot}')\n",
    "            print()\n",
    "            misplaced += 1\n",
    "\n",
    "print(f'Corrected: {corrected}, Misplaced: {misplaced}')"
   ]
  },
  {
   "cell_type": "markdown",
   "metadata": {},
   "source": [
    "### Save and try history"
   ]
  },
  {
   "cell_type": "code",
   "execution_count": 94,
   "metadata": {},
   "outputs": [
    {
     "data": {
      "text/plain": [
       "Index(['course', 'book_id', 'bookclub', 'chat_crew', 'pseudonym', 'message',\n",
       "       'time', 'is_answer', 'page', 'response_number', 'r2_discussion_type',\n",
       "       'r2_dialogic_spell', 'r2_uptake', 'r2_question', 'from_pivot',\n",
       "       'to_pivot'],\n",
       "      dtype='object')"
      ]
     },
     "execution_count": 94,
     "metadata": {},
     "output_type": "execute_result"
    }
   ],
   "source": [
    "data.columns"
   ]
  },
  {
   "cell_type": "code",
   "execution_count": 95,
   "metadata": {},
   "outputs": [],
   "source": [
    "columns_to_predict = ['r2_discussion_type', 'r2_dialogic_spell', 'r2_uptake', 'r2_question', 'from_pivot', 'to_pivot']"
   ]
  },
  {
   "cell_type": "code",
   "execution_count": 101,
   "metadata": {},
   "outputs": [],
   "source": [
    "# Discussion type without history\n",
    "discussion_data = data.copy()\n",
    "columns_to_drop = [column for column in columns_to_predict if column != 'r2_discussion_type']\n",
    "discussion_data.drop(columns= columns_to_drop, inplace=True)\n",
    "\n",
    "# copy only message and r2_discussion_type\n",
    "discussion_data = discussion_data[['message', 'r2_discussion_type']]\n",
    "discussion_data.rename(columns={'r2_discussion_type': 'y',\n",
    "                                'message': 'X'\n",
    "                                }, inplace=True)\n",
    "\n",
    "# save to csv\n",
    "discussion_data.to_csv('cleaned_data/discussion_data.csv', index=False)"
   ]
  },
  {
   "cell_type": "markdown",
   "metadata": {},
   "source": [
    "## Plots"
   ]
  },
  {
   "cell_type": "code",
   "execution_count": null,
   "metadata": {},
   "outputs": [],
   "source": []
  }
 ],
 "metadata": {
  "kernelspec": {
   "display_name": "base",
   "language": "python",
   "name": "python3"
  },
  "language_info": {
   "codemirror_mode": {
    "name": "ipython",
    "version": 3
   },
   "file_extension": ".py",
   "mimetype": "text/x-python",
   "name": "python",
   "nbconvert_exporter": "python",
   "pygments_lexer": "ipython3",
   "version": "3.11.7"
  }
 },
 "nbformat": 4,
 "nbformat_minor": 2
}
