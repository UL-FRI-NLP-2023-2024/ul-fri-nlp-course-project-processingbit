{
 "cells": [
  {
   "cell_type": "markdown",
   "id": "8b64d678",
   "metadata": {
    "papermill": {
     "duration": 0.020369,
     "end_time": "2024-05-03T00:13:46.803106",
     "exception": false,
     "start_time": "2024-05-03T00:13:46.782737",
     "status": "completed"
    },
    "tags": []
   },
   "source": [
    "# Training"
   ]
  },
  {
   "cell_type": "code",
   "execution_count": 1,
   "id": "88ec1d5d",
   "metadata": {
    "execution": {
     "iopub.execute_input": "2024-05-03T00:13:46.844663Z",
     "iopub.status.busy": "2024-05-03T00:13:46.844301Z",
     "iopub.status.idle": "2024-05-03T00:13:56.046621Z",
     "shell.execute_reply": "2024-05-03T00:13:56.045649Z"
    },
    "executionInfo": {
     "elapsed": 9,
     "status": "ok",
     "timestamp": 1702260884884,
     "user": {
      "displayName": "Cristian Bassotto",
      "userId": "01183163487853409209"
     },
     "user_tz": -60
    },
    "id": "VCMzJGrR4kv3",
    "papermill": {
     "duration": 9.225726,
     "end_time": "2024-05-03T00:13:56.048964",
     "exception": false,
     "start_time": "2024-05-03T00:13:46.823238",
     "status": "completed"
    },
    "tags": []
   },
   "outputs": [],
   "source": [
    "import pandas as pd\n",
    "import numpy as np\n",
    "from tqdm import tqdm\n",
    "import torch\n",
    "from transformers import BertForSequenceClassification, BertTokenizer, BertConfig\n",
    "from transformers import RobertaForSequenceClassification, RobertaTokenizer, RobertaConfig\n",
    "from transformers import XLNetForSequenceClassification, XLNetTokenizer, XLNetConfig\n",
    "from transformers import XLMForSequenceClassification, XLMTokenizer, XLMConfig\n",
    "from transformers import DistilBertForSequenceClassification, DistilBertTokenizer, DistilBertConfig\n",
    "from transformers import AlbertForSequenceClassification, AlbertTokenizer, AlbertConfig\n",
    "from transformers import AdamW\n",
    "from torch.utils.data import DataLoader, Dataset\n",
    "from sklearn.preprocessing import OneHotEncoder\n",
    "from sklearn.utils import compute_class_weight\n",
    "from sklearn.metrics import recall_score, precision_score, f1_score\n",
    "from torch import cuda\n",
    "from sklearn.metrics import accuracy_score, precision_recall_fscore_support, classification_report, confusion_matrix"
   ]
  },
  {
   "cell_type": "markdown",
   "id": "1d2814cd",
   "metadata": {
    "papermill": {
     "duration": 0.021708,
     "end_time": "2024-05-03T00:13:56.091436",
     "exception": false,
     "start_time": "2024-05-03T00:13:56.069728",
     "status": "completed"
    },
    "tags": []
   },
   "source": [
    "## Parameters"
   ]
  },
  {
   "cell_type": "code",
   "execution_count": 2,
   "id": "3db94a62",
   "metadata": {
    "execution": {
     "iopub.execute_input": "2024-05-03T00:13:56.133294Z",
     "iopub.status.busy": "2024-05-03T00:13:56.132610Z",
     "iopub.status.idle": "2024-05-03T00:13:56.140449Z",
     "shell.execute_reply": "2024-05-03T00:13:56.139598Z"
    },
    "executionInfo": {
     "elapsed": 8,
     "status": "ok",
     "timestamp": 1702260884884,
     "user": {
      "displayName": "Cristian Bassotto",
      "userId": "01183163487853409209"
     },
     "user_tz": -60
    },
    "id": "XHD6GUfLmeEY",
    "papermill": {
     "duration": 0.030993,
     "end_time": "2024-05-03T00:13:56.142290",
     "exception": false,
     "start_time": "2024-05-03T00:13:56.111297",
     "status": "completed"
    },
    "tags": []
   },
   "outputs": [],
   "source": [
    "DATA_SAVE_PATH = \"./cleaned_data/discussion_data.csv\"\n",
    "SAVE_MODEL_TO_PATH = \"./models/\"\n",
    "best_model_path = SAVE_MODEL_TO_PATH + 'best_model.pt'\n",
    "\n",
    "#DATA_SAVE_PATH = \"/kaggle/input/imap-classification/discussion_data.csv\"\n",
    "#SAVE_MODEL_TO_PATH = \"/kaggle/working/\"\n",
    "\n",
    "PRETRAINED_MODELS = {\n",
    "    'bert': 'bert-large-uncased',\n",
    "    'roberta': 'roberta-base',\n",
    "    'xlnet': 'xlnet-large-cased',\n",
    "    'xlm': 'xlm-mlm-en-2048',\n",
    "    'distilbert': 'distilbert-base-uncased',\n",
    "    'albert':'albert-base-v2'\n",
    "}\n",
    "\n",
    "MODEL_CLASSES = {\n",
    "    'bert': (BertForSequenceClassification, BertTokenizer, BertConfig),\n",
    "    'roberta': (RobertaForSequenceClassification, RobertaTokenizer, RobertaConfig),\n",
    "    'xlnet': (XLNetForSequenceClassification, XLNetTokenizer, XLNetConfig),\n",
    "    'xlm': (XLMForSequenceClassification, XLMTokenizer, XLMConfig),\n",
    "    'distilbert': (DistilBertForSequenceClassification, DistilBertTokenizer, DistilBertConfig),\n",
    "    'albert':(AlbertForSequenceClassification,AlbertTokenizer, AlbertConfig)\n",
    "}\n",
    "\n",
    "MODEL_TYPE = 'roberta'\n",
    "PRETRAINED_MODEL_NAME = PRETRAINED_MODELS[MODEL_TYPE]\n",
    "\n",
    "model_class, tokenizer_class, config_class = MODEL_CLASSES[MODEL_TYPE]\n",
    "\n",
    "BALANCED_WEIGHTS = False\n",
    "\n",
    "LEARNING_RATE = 1e-5\n",
    "BATCH_SIZE = 32\n",
    "EPOCHS = 50\n",
    "WEIGHT_DECAY = 0.01\n",
    "HIDDEN_SIZE = 768\n",
    "DROP_OUT = 0.3"
   ]
  },
  {
   "cell_type": "markdown",
   "id": "903790f2",
   "metadata": {
    "papermill": {
     "duration": 0.020273,
     "end_time": "2024-05-03T00:13:56.182713",
     "exception": false,
     "start_time": "2024-05-03T00:13:56.162440",
     "status": "completed"
    },
    "tags": []
   },
   "source": [
    "## Loading preprocessed data"
   ]
  },
  {
   "cell_type": "code",
   "execution_count": 3,
   "id": "cc39c731",
   "metadata": {
    "execution": {
     "iopub.execute_input": "2024-05-03T00:13:56.223912Z",
     "iopub.status.busy": "2024-05-03T00:13:56.223621Z",
     "iopub.status.idle": "2024-05-03T00:13:56.240404Z",
     "shell.execute_reply": "2024-05-03T00:13:56.239637Z"
    },
    "executionInfo": {
     "elapsed": 458,
     "status": "ok",
     "timestamp": 1702260885335,
     "user": {
      "displayName": "Cristian Bassotto",
      "userId": "01183163487853409209"
     },
     "user_tz": -60
    },
    "id": "9La38LT64kwA",
    "outputId": "9a32a5db-8163-432f-b24f-1658499bfb47",
    "papermill": {
     "duration": 0.039484,
     "end_time": "2024-05-03T00:13:56.242460",
     "exception": false,
     "start_time": "2024-05-03T00:13:56.202976",
     "status": "completed"
    },
    "tags": []
   },
   "outputs": [],
   "source": [
    "data = pd.read_csv(DATA_SAVE_PATH)"
   ]
  },
  {
   "cell_type": "code",
   "execution_count": 4,
   "id": "fb4d2440",
   "metadata": {
    "execution": {
     "iopub.execute_input": "2024-05-03T00:13:56.287101Z",
     "iopub.status.busy": "2024-05-03T00:13:56.286816Z",
     "iopub.status.idle": "2024-05-03T00:13:56.298991Z",
     "shell.execute_reply": "2024-05-03T00:13:56.298157Z"
    },
    "executionInfo": {
     "elapsed": 352,
     "status": "ok",
     "timestamp": 1702260885683,
     "user": {
      "displayName": "Cristian Bassotto",
      "userId": "01183163487853409209"
     },
     "user_tz": -60
    },
    "id": "ExoqLooUFnlJ",
    "outputId": "720850de-7114-4320-cca0-18ee378e47e0",
    "papermill": {
     "duration": 0.035822,
     "end_time": "2024-05-03T00:13:56.301072",
     "exception": false,
     "start_time": "2024-05-03T00:13:56.265250",
     "status": "completed"
    },
    "tags": []
   },
   "outputs": [
    {
     "name": "stdout",
     "output_type": "stream",
     "text": [
      "Longest utterance length: 188\n",
      "Labels: ['Deliberation', 'Imaginative Entry', 'Other', 'Procedure', 'Seminar', 'Social', 'UX']\n"
     ]
    }
   ],
   "source": [
    "X = data['X']\n",
    "y = data['y']\n",
    "\n",
    "longest_train_data = max(X, key=lambda x: len(x.split()))\n",
    "print('Longest utterance length:', len(longest_train_data.split()))\n",
    "\n",
    "num_labels = len(set([label for label in y]))\n",
    "\n",
    "all_labels = sorted(set([label for label in y]))\n",
    "print('Labels:', all_labels)"
   ]
  },
  {
   "cell_type": "markdown",
   "id": "a5db25c9",
   "metadata": {
    "papermill": {
     "duration": 0.019855,
     "end_time": "2024-05-03T00:13:56.341175",
     "exception": false,
     "start_time": "2024-05-03T00:13:56.321320",
     "status": "completed"
    },
    "tags": []
   },
   "source": [
    "## Tokenizing and creating dataloader"
   ]
  },
  {
   "cell_type": "code",
   "execution_count": 5,
   "id": "4fd63ef4",
   "metadata": {
    "execution": {
     "iopub.execute_input": "2024-05-03T00:13:56.383460Z",
     "iopub.status.busy": "2024-05-03T00:13:56.382667Z",
     "iopub.status.idle": "2024-05-03T00:13:56.387896Z",
     "shell.execute_reply": "2024-05-03T00:13:56.387014Z"
    },
    "papermill": {
     "duration": 0.028474,
     "end_time": "2024-05-03T00:13:56.389922",
     "exception": false,
     "start_time": "2024-05-03T00:13:56.361448",
     "status": "completed"
    },
    "tags": []
   },
   "outputs": [],
   "source": [
    "# One hot encoder\n",
    "encoder = OneHotEncoder()\n",
    "encoder = encoder.fit(np.array(all_labels).reshape(-1, 1))"
   ]
  },
  {
   "cell_type": "code",
   "execution_count": 6,
   "id": "fcb4b6ff",
   "metadata": {
    "execution": {
     "iopub.execute_input": "2024-05-03T00:13:56.431658Z",
     "iopub.status.busy": "2024-05-03T00:13:56.430773Z",
     "iopub.status.idle": "2024-05-03T00:13:57.898412Z",
     "shell.execute_reply": "2024-05-03T00:13:57.897458Z"
    },
    "executionInfo": {
     "elapsed": 2367,
     "status": "ok",
     "timestamp": 1702260888048,
     "user": {
      "displayName": "Cristian Bassotto",
      "userId": "01183163487853409209"
     },
     "user_tz": -60
    },
    "id": "DxhfkAze4kwC",
    "papermill": {
     "duration": 1.491027,
     "end_time": "2024-05-03T00:13:57.900944",
     "exception": false,
     "start_time": "2024-05-03T00:13:56.409917",
     "status": "completed"
    },
    "tags": []
   },
   "outputs": [
    {
     "data": {
      "application/vnd.jupyter.widget-view+json": {
       "model_id": "56a334a05ca345b4a8f0022fb2ba2642",
       "version_major": 2,
       "version_minor": 0
      },
      "text/plain": [
       "tokenizer_config.json:   0%|          | 0.00/25.0 [00:00<?, ?B/s]"
      ]
     },
     "metadata": {},
     "output_type": "display_data"
    },
    {
     "data": {
      "application/vnd.jupyter.widget-view+json": {
       "model_id": "a6e26137eb69430ba931115f3e698e01",
       "version_major": 2,
       "version_minor": 0
      },
      "text/plain": [
       "vocab.json:   0%|          | 0.00/899k [00:00<?, ?B/s]"
      ]
     },
     "metadata": {},
     "output_type": "display_data"
    },
    {
     "data": {
      "application/vnd.jupyter.widget-view+json": {
       "model_id": "47dd722a9fb64e00b9ee0f426f1eebb6",
       "version_major": 2,
       "version_minor": 0
      },
      "text/plain": [
       "merges.txt:   0%|          | 0.00/456k [00:00<?, ?B/s]"
      ]
     },
     "metadata": {},
     "output_type": "display_data"
    },
    {
     "data": {
      "application/vnd.jupyter.widget-view+json": {
       "model_id": "7a0aef5303334707b9fbad3322e4427f",
       "version_major": 2,
       "version_minor": 0
      },
      "text/plain": [
       "tokenizer.json:   0%|          | 0.00/1.36M [00:00<?, ?B/s]"
      ]
     },
     "metadata": {},
     "output_type": "display_data"
    },
    {
     "data": {
      "application/vnd.jupyter.widget-view+json": {
       "model_id": "80e0936ff5b14b5aa7f0d49a78837bfb",
       "version_major": 2,
       "version_minor": 0
      },
      "text/plain": [
       "config.json:   0%|          | 0.00/481 [00:00<?, ?B/s]"
      ]
     },
     "metadata": {},
     "output_type": "display_data"
    }
   ],
   "source": [
    "# Load the pre-trained BERT model and tokenizer\n",
    "tokenizer = tokenizer_class.from_pretrained(PRETRAINED_MODEL_NAME)"
   ]
  },
  {
   "cell_type": "code",
   "execution_count": 7,
   "id": "e531abd7",
   "metadata": {
    "execution": {
     "iopub.execute_input": "2024-05-03T00:13:57.945415Z",
     "iopub.status.busy": "2024-05-03T00:13:57.944947Z",
     "iopub.status.idle": "2024-05-03T00:13:57.955917Z",
     "shell.execute_reply": "2024-05-03T00:13:57.954999Z"
    },
    "executionInfo": {
     "elapsed": 14,
     "status": "ok",
     "timestamp": 1702260888049,
     "user": {
      "displayName": "Cristian Bassotto",
      "userId": "01183163487853409209"
     },
     "user_tz": -60
    },
    "id": "6COYaAPC4kv9",
    "outputId": "92976648-d165-4d47-bc14-757d3ba3bd39",
    "papermill": {
     "duration": 0.035397,
     "end_time": "2024-05-03T00:13:57.957908",
     "exception": false,
     "start_time": "2024-05-03T00:13:57.922511",
     "status": "completed"
    },
    "tags": []
   },
   "outputs": [
    {
     "name": "stdout",
     "output_type": "stream",
     "text": [
      "Max chosen length: 256\n"
     ]
    }
   ],
   "source": [
    "max_length = min(2 ** (len(tokenizer.tokenize(longest_train_data))-1).bit_length(), 512)\n",
    "print('Max chosen length:', max_length)"
   ]
  },
  {
   "cell_type": "code",
   "execution_count": 8,
   "id": "d2bb10e7",
   "metadata": {
    "execution": {
     "iopub.execute_input": "2024-05-03T00:13:58.002575Z",
     "iopub.status.busy": "2024-05-03T00:13:58.002194Z",
     "iopub.status.idle": "2024-05-03T00:13:58.012871Z",
     "shell.execute_reply": "2024-05-03T00:13:58.011852Z"
    },
    "executionInfo": {
     "elapsed": 11,
     "status": "ok",
     "timestamp": 1702260888049,
     "user": {
      "displayName": "Cristian Bassotto",
      "userId": "01183163487853409209"
     },
     "user_tz": -60
    },
    "id": "MN90sZDk4kwC",
    "papermill": {
     "duration": 0.035414,
     "end_time": "2024-05-03T00:13:58.015022",
     "exception": false,
     "start_time": "2024-05-03T00:13:57.979608",
     "status": "completed"
    },
    "tags": []
   },
   "outputs": [],
   "source": [
    "class CustomDataset(Dataset):\n",
    "    def __init__(self, tokenizer, X, y, max_length, encoder):\n",
    "        self.X = X\n",
    "        self.tokenizer = tokenizer\n",
    "        self.max_length = max_length\n",
    "        # transform the labels into one-hot encoded format\n",
    "        self.labels = encoder.transform(y)\n",
    "\n",
    "    def __len__(self):\n",
    "        return self.X.shape[0]\n",
    "\n",
    "    def __getitem__(self, idx):\n",
    "        # Encode the utterance using the provided tokenizer\n",
    "        encoding = self.tokenizer.encode_plus(\n",
    "            self.X[idx],\n",
    "            add_special_tokens=True,\n",
    "            max_length = self.max_length,\n",
    "            return_token_type_ids=True,\n",
    "            padding='max_length',\n",
    "            return_attention_mask=True,\n",
    "            truncation=False,\n",
    "            return_tensors='pt'\n",
    "        )\n",
    "        # Convert the list of strings into a one-hot encoded format\n",
    "        label = self.labels[idx]  # This should now be a binary vector instead of a list of strings\n",
    "        # Return the encoding and the label\n",
    "        return {\n",
    "            'input_ids': encoding['input_ids'].flatten(),\n",
    "            'attention_mask': encoding['attention_mask'].flatten(),\n",
    "            'labels': torch.tensor(label.toarray().squeeze(), dtype=torch.float),\n",
    "            'token_type_ids': encoding['token_type_ids'].flatten()\n",
    "        }"
   ]
  },
  {
   "cell_type": "code",
   "execution_count": 9,
   "id": "93254782",
   "metadata": {
    "execution": {
     "iopub.execute_input": "2024-05-03T00:13:58.059793Z",
     "iopub.status.busy": "2024-05-03T00:13:58.059060Z",
     "iopub.status.idle": "2024-05-03T00:13:58.075601Z",
     "shell.execute_reply": "2024-05-03T00:13:58.074625Z"
    },
    "papermill": {
     "duration": 0.041182,
     "end_time": "2024-05-03T00:13:58.077719",
     "exception": false,
     "start_time": "2024-05-03T00:13:58.036537",
     "status": "completed"
    },
    "tags": []
   },
   "outputs": [],
   "source": [
    "# Divide into train, validation and test sets\n",
    "data = data.sample(frac=1, random_state=42)\n",
    "\n",
    "train_size = int(0.70 * len(data))\n",
    "val_size = int(0.15 * len(data))\n",
    "test_size = len(data) - train_size - val_size\n",
    "\n",
    "train_dataset = data[:train_size]\n",
    "val_dataset = data[train_size:train_size+val_size]\n",
    "test_dataset = data[train_size+val_size:]\n",
    "\n",
    "# Bootstrap the data\n",
    "#train_dataset = train_dataset.sample(n=len(train_dataset) * 5, replace=True, random_state=42)\n",
    "#val_dataset = val_dataset.sample(n=len(val_dataset) * 5, replace=True, random_state=42)\n",
    "#test_dataset = test_dataset.sample(n=len(test_dataset) * 5, replace=True, random_state=42)\n",
    "\n",
    "train_dataset = CustomDataset(tokenizer, train_dataset['X'].values, train_dataset['y'].values.reshape(-1, 1), max_length, encoder)\n",
    "val_dataset = CustomDataset(tokenizer, val_dataset['X'].values, val_dataset['y'].values.reshape(-1, 1), max_length, encoder)\n",
    "test_dataset = CustomDataset(tokenizer, test_dataset['X'].values, test_dataset['y'].values.reshape(-1, 1), max_length, encoder)\n",
    "\n",
    "train_loader = DataLoader(train_dataset, batch_size=BATCH_SIZE, shuffle=True)\n",
    "val_loader = DataLoader(val_dataset, batch_size=BATCH_SIZE, shuffle=True)\n",
    "test_loader = DataLoader(test_dataset, batch_size=BATCH_SIZE, shuffle=True)"
   ]
  },
  {
   "cell_type": "code",
   "execution_count": 10,
   "id": "5074019d",
   "metadata": {
    "execution": {
     "iopub.execute_input": "2024-05-03T00:13:58.123575Z",
     "iopub.status.busy": "2024-05-03T00:13:58.122890Z",
     "iopub.status.idle": "2024-05-03T00:13:58.185454Z",
     "shell.execute_reply": "2024-05-03T00:13:58.184496Z"
    },
    "executionInfo": {
     "elapsed": 9,
     "status": "ok",
     "timestamp": 1702260888050,
     "user": {
      "displayName": "Cristian Bassotto",
      "userId": "01183163487853409209"
     },
     "user_tz": -60
    },
    "id": "RgB5SL6JmeEi",
    "outputId": "b1d33474-aab9-4772-8bbd-75ba683994ab",
    "papermill": {
     "duration": 0.087511,
     "end_time": "2024-05-03T00:13:58.187592",
     "exception": false,
     "start_time": "2024-05-03T00:13:58.100081",
     "status": "completed"
    },
    "tags": []
   },
   "outputs": [
    {
     "name": "stdout",
     "output_type": "stream",
     "text": [
      "cuda\n"
     ]
    }
   ],
   "source": [
    "device = 'cuda' if cuda.is_available() else 'cpu'\n",
    "print(device)"
   ]
  },
  {
   "cell_type": "markdown",
   "id": "63d133fa",
   "metadata": {
    "papermill": {
     "duration": 0.021291,
     "end_time": "2024-05-03T00:13:58.230210",
     "exception": false,
     "start_time": "2024-05-03T00:13:58.208919",
     "status": "completed"
    },
    "tags": []
   },
   "source": [
    "## Defining Model"
   ]
  },
  {
   "cell_type": "code",
   "execution_count": 11,
   "id": "44402c04",
   "metadata": {
    "execution": {
     "iopub.execute_input": "2024-05-03T00:13:58.274294Z",
     "iopub.status.busy": "2024-05-03T00:13:58.273667Z",
     "iopub.status.idle": "2024-05-03T00:13:58.279078Z",
     "shell.execute_reply": "2024-05-03T00:13:58.278232Z"
    },
    "executionInfo": {
     "elapsed": 7,
     "status": "ok",
     "timestamp": 1702260888050,
     "user": {
      "displayName": "Cristian Bassotto",
      "userId": "01183163487853409209"
     },
     "user_tz": -60
    },
    "id": "nqy56vk6meEj",
    "papermill": {
     "duration": 0.02942,
     "end_time": "2024-05-03T00:13:58.281006",
     "exception": false,
     "start_time": "2024-05-03T00:13:58.251586",
     "status": "completed"
    },
    "tags": []
   },
   "outputs": [],
   "source": [
    "def load_ckp(checkpoint_fpath, model, encoder):\n",
    "    checkpoint = torch.load(checkpoint_fpath, map_location=device)\n",
    "    model.load_state_dict(checkpoint['state_dict'])\n",
    "    encoder.set_params(**checkpoint['encoder'])\n",
    "    return model, encoder\n",
    "\n",
    "def save_ckp(state, best_model_path):\n",
    "    torch.save(state, best_model_path)"
   ]
  },
  {
   "cell_type": "code",
   "execution_count": 12,
   "id": "455ec612",
   "metadata": {
    "execution": {
     "iopub.execute_input": "2024-05-03T00:13:58.324993Z",
     "iopub.status.busy": "2024-05-03T00:13:58.324050Z",
     "iopub.status.idle": "2024-05-03T00:14:01.068295Z",
     "shell.execute_reply": "2024-05-03T00:14:01.067432Z"
    },
    "executionInfo": {
     "elapsed": 7284,
     "status": "ok",
     "timestamp": 1702260895328,
     "user": {
      "displayName": "Cristian Bassotto",
      "userId": "01183163487853409209"
     },
     "user_tz": -60
    },
    "id": "2CZvhR2LmeEj",
    "outputId": "3209ed7e-6a9e-4b41-93b4-b74181fffcb7",
    "papermill": {
     "duration": 2.768385,
     "end_time": "2024-05-03T00:14:01.070615",
     "exception": false,
     "start_time": "2024-05-03T00:13:58.302230",
     "status": "completed"
    },
    "tags": []
   },
   "outputs": [
    {
     "data": {
      "application/vnd.jupyter.widget-view+json": {
       "model_id": "28a126f673ab43b4a83ed1560d7d3932",
       "version_major": 2,
       "version_minor": 0
      },
      "text/plain": [
       "model.safetensors:   0%|          | 0.00/499M [00:00<?, ?B/s]"
      ]
     },
     "metadata": {},
     "output_type": "display_data"
    },
    {
     "name": "stderr",
     "output_type": "stream",
     "text": [
      "Some weights of RobertaForSequenceClassification were not initialized from the model checkpoint at roberta-base and are newly initialized: ['classifier.dense.bias', 'classifier.dense.weight', 'classifier.out_proj.bias', 'classifier.out_proj.weight']\n",
      "You should probably TRAIN this model on a down-stream task to be able to use it for predictions and inference.\n"
     ]
    }
   ],
   "source": [
    "class BERTClass(torch.nn.Module):\n",
    "    def __init__(self, pretrained_model_name, num_labels):\n",
    "        super(BERTClass, self).__init__()\n",
    "        self.num_labels = num_labels\n",
    "        self.l1 = model_class.from_pretrained(pretrained_model_name, num_labels=self.num_labels)\n",
    "        self.pre_classifier = torch.nn.Linear(self.num_labels, HIDDEN_SIZE)\n",
    "        self.dropout = torch.nn.Dropout(DROP_OUT)\n",
    "        self.classifier = torch.nn.Linear(HIDDEN_SIZE, self.num_labels)\n",
    "\n",
    "    def forward(self, input_ids, attention_mask, token_type_ids):\n",
    "        output_1 = self.l1(input_ids=input_ids, attention_mask=attention_mask, token_type_ids=token_type_ids)\n",
    "        hidden_state = output_1[0]\n",
    "        pooler = hidden_state\n",
    "        pooler = self.pre_classifier(pooler)\n",
    "        pooler = torch.nn.ReLU()(pooler)\n",
    "        pooler = self.dropout(pooler)\n",
    "        output = self.classifier(pooler)\n",
    "        output = output.view(-1, self.num_labels)  # Reshape the output\n",
    "        return output\n",
    "\n",
    "model = BERTClass(PRETRAINED_MODEL_NAME, num_labels)\n",
    "model = model.to(device)"
   ]
  },
  {
   "cell_type": "code",
   "execution_count": 13,
   "id": "1399bd9e",
   "metadata": {
    "execution": {
     "iopub.execute_input": "2024-05-03T00:14:01.116548Z",
     "iopub.status.busy": "2024-05-03T00:14:01.116202Z",
     "iopub.status.idle": "2024-05-03T00:14:01.131112Z",
     "shell.execute_reply": "2024-05-03T00:14:01.130228Z"
    },
    "executionInfo": {
     "elapsed": 12,
     "status": "ok",
     "timestamp": 1702260895328,
     "user": {
      "displayName": "Cristian Bassotto",
      "userId": "01183163487853409209"
     },
     "user_tz": -60
    },
    "id": "k8FpkZPdmeEk",
    "outputId": "f486842a-7ddf-41e8-9709-e0b0fb3f51df",
    "papermill": {
     "duration": 0.03982,
     "end_time": "2024-05-03T00:14:01.133102",
     "exception": false,
     "start_time": "2024-05-03T00:14:01.093282",
     "status": "completed"
    },
    "tags": []
   },
   "outputs": [
    {
     "name": "stderr",
     "output_type": "stream",
     "text": [
      "/opt/conda/lib/python3.10/site-packages/transformers/optimization.py:457: FutureWarning: This implementation of AdamW is deprecated and will be removed in a future version. Use the PyTorch implementation torch.optim.AdamW instead, or set `no_deprecation_warning=True` to disable this warning\n",
      "  warnings.warn(\n"
     ]
    }
   ],
   "source": [
    "if BALANCED_WEIGHTS:\n",
    "    class_weights = compute_class_weight('balanced', classes=np.array(encoder.categories_).flatten(), y=y)\n",
    "    weights = torch.tensor(class_weights, dtype=torch.float)\n",
    "    if torch.cuda.is_available():\n",
    "        weights = weights.to('cuda')\n",
    "    criterium = torch.nn.CrossEntropyLoss(weight=weights)\n",
    "else:\n",
    "    criterium = torch.nn.CrossEntropyLoss()\n",
    "\n",
    "def loss_fn(outputs, targets):\n",
    "    return criterium(outputs, targets)\n",
    "\n",
    "optimizer = AdamW(model.parameters(), lr=LEARNING_RATE, weight_decay=WEIGHT_DECAY, correct_bias=False)"
   ]
  },
  {
   "cell_type": "markdown",
   "id": "ac301844",
   "metadata": {
    "papermill": {
     "duration": 0.021122,
     "end_time": "2024-05-03T00:14:01.175743",
     "exception": false,
     "start_time": "2024-05-03T00:14:01.154621",
     "status": "completed"
    },
    "tags": []
   },
   "source": [
    "## Training"
   ]
  },
  {
   "cell_type": "code",
   "execution_count": 14,
   "id": "fac3f5c4",
   "metadata": {
    "execution": {
     "iopub.execute_input": "2024-05-03T00:14:01.234807Z",
     "iopub.status.busy": "2024-05-03T00:14:01.234370Z",
     "iopub.status.idle": "2024-05-03T00:14:01.244599Z",
     "shell.execute_reply": "2024-05-03T00:14:01.243208Z"
    },
    "papermill": {
     "duration": 0.04433,
     "end_time": "2024-05-03T00:14:01.249482",
     "exception": false,
     "start_time": "2024-05-03T00:14:01.205152",
     "status": "completed"
    },
    "tags": []
   },
   "outputs": [],
   "source": [
    "def valid(model, valid_dataloader):\n",
    "    val_targets = []\n",
    "    val_outputs = []\n",
    "    \n",
    "    model.eval()\n",
    "    val_loss = 0\n",
    "    with torch.no_grad():\n",
    "        for batch in tqdm(valid_dataloader):\n",
    "            input_ids = batch['input_ids'].to(device, dtype=torch.long)\n",
    "            attention_mask = batch['attention_mask'].to(device, dtype=torch.long)\n",
    "            token_type_ids = batch['token_type_ids'].to(device, dtype=torch.long)\n",
    "            labels = batch['labels'].to(device, dtype=torch.float)\n",
    "\n",
    "            outputs = model(input_ids, attention_mask, token_type_ids)\n",
    "\n",
    "            loss = loss_fn(outputs, labels)\n",
    "            val_loss += loss.item()\n",
    "\n",
    "            val_targets.extend(labels.cpu().detach().numpy().tolist())\n",
    "            val_outputs.extend(torch.sigmoid(outputs).cpu().detach().numpy().tolist())\n",
    "            \n",
    "\n",
    "    val_loss /= len(valid_dataloader)\n",
    "    \n",
    "    return val_loss, val_targets, val_outputs"
   ]
  },
  {
   "cell_type": "code",
   "execution_count": 15,
   "id": "15d1e5aa",
   "metadata": {
    "execution": {
     "iopub.execute_input": "2024-05-03T00:14:01.295235Z",
     "iopub.status.busy": "2024-05-03T00:14:01.294871Z",
     "iopub.status.idle": "2024-05-03T00:14:01.301848Z",
     "shell.execute_reply": "2024-05-03T00:14:01.300941Z"
    },
    "papermill": {
     "duration": 0.031195,
     "end_time": "2024-05-03T00:14:01.303774",
     "exception": false,
     "start_time": "2024-05-03T00:14:01.272579",
     "status": "completed"
    },
    "tags": []
   },
   "outputs": [],
   "source": [
    "def train(model, train_dataloader):\n",
    "    model.train()\n",
    "    train_loss = 0\n",
    "    for batch in tqdm(train_dataloader):\n",
    "        input_ids = batch['input_ids'].to(device, dtype=torch.long)\n",
    "        attention_mask = batch['attention_mask'].to(device, dtype=torch.long)\n",
    "        token_type_ids = batch['token_type_ids'].to(device, dtype=torch.long)\n",
    "        labels = batch['labels'].to(device, dtype=torch.float)\n",
    "\n",
    "        model.zero_grad()\n",
    "        outputs = model(input_ids, attention_mask, token_type_ids)\n",
    "\n",
    "        loss = loss_fn(outputs, labels)\n",
    "        train_loss += loss.item()\n",
    "\n",
    "        loss.backward()\n",
    "        optimizer.step()\n",
    "\n",
    "    train_loss /= len(train_dataloader)\n",
    "    \n",
    "    return train_loss"
   ]
  },
  {
   "cell_type": "code",
   "execution_count": 16,
   "id": "fb73cbd8",
   "metadata": {
    "execution": {
     "iopub.execute_input": "2024-05-03T00:14:01.395334Z",
     "iopub.status.busy": "2024-05-03T00:14:01.394883Z",
     "iopub.status.idle": "2024-05-03T00:14:01.407478Z",
     "shell.execute_reply": "2024-05-03T00:14:01.406518Z"
    },
    "executionInfo": {
     "elapsed": 9,
     "status": "ok",
     "timestamp": 1702260895329,
     "user": {
      "displayName": "Cristian Bassotto",
      "userId": "01183163487853409209"
     },
     "user_tz": -60
    },
    "id": "yYxcyQT3meEk",
    "papermill": {
     "duration": 0.043102,
     "end_time": "2024-05-03T00:14:01.409477",
     "exception": false,
     "start_time": "2024-05-03T00:14:01.366375",
     "status": "completed"
    },
    "tags": []
   },
   "outputs": [],
   "source": [
    "def train_model(num_epochs, train_dataloader, valid_dataloader, model, optimizer, best_model_path, patience=1):\n",
    "    valid_loss_min = np.Inf\n",
    "\n",
    "    num_not_improved = 0\n",
    "    for epoch in range(1, num_epochs):\n",
    "        print()\n",
    "        print(\"#################### Epoch {}: Training Start    ####################\".format(epoch))\n",
    "\n",
    "        train_loss = train(model, train_dataloader)\n",
    "        print('#################### Epoch {}: Training End      ####################'.format(epoch))\n",
    "\n",
    "        print()\n",
    "        print(\"#################### Epoch {}: Validation Start ####################\".format(epoch))\n",
    "\n",
    "        valid_loss, val_targets, val_outputs = valid(model, valid_dataloader)\n",
    "\n",
    "        print('Epoch: {} \\tTraining Loss: {:.6f} \\tValidation Loss: {:.6f}'.format(epoch, train_loss, valid_loss))\n",
    "\n",
    "        if valid_loss <= valid_loss_min:\n",
    "            print('Validation loss decreased ({:.6f} --> {:.6f}).  Saving model ...'.format(valid_loss_min, valid_loss))\n",
    "\n",
    "            checkpoint = {\n",
    "                        'state_dict': model.state_dict(),\n",
    "                        'encoder' : encoder.get_params()\n",
    "                    }\n",
    "\n",
    "            save_ckp(checkpoint, best_model_path)\n",
    "            valid_loss_min = valid_loss\n",
    "            num_not_improved = 0\n",
    "        else:\n",
    "            num_not_improved += 1\n",
    "            if num_not_improved >= patience:\n",
    "                print('Not improvement for more than:', num_not_improved)\n",
    "                break\n",
    "            \n",
    "        print(\"#################### Epoch {}: Validation End   ####################\".format(epoch))\n",
    "        print()\n",
    "\n",
    "    print(\"#################### Training finished     ####################\")\n",
    "    return model\n"
   ]
  },
  {
   "cell_type": "code",
   "execution_count": 17,
   "id": "29e22f98",
   "metadata": {
    "execution": {
     "iopub.execute_input": "2024-05-03T00:14:01.474087Z",
     "iopub.status.busy": "2024-05-03T00:14:01.473135Z",
     "iopub.status.idle": "2024-05-03T00:16:34.731552Z",
     "shell.execute_reply": "2024-05-03T00:16:34.730381Z"
    },
    "executionInfo": {
     "elapsed": 4865,
     "status": "ok",
     "timestamp": 1702260937162,
     "user": {
      "displayName": "Cristian Bassotto",
      "userId": "01183163487853409209"
     },
     "user_tz": -60
    },
    "id": "Rcg6WbuomeEl",
    "papermill": {
     "duration": 153.293453,
     "end_time": "2024-05-03T00:16:34.733805",
     "exception": false,
     "start_time": "2024-05-03T00:14:01.440352",
     "status": "completed"
    },
    "tags": []
   },
   "outputs": [
    {
     "name": "stdout",
     "output_type": "stream",
     "text": [
      "\n",
      "#################### Epoch 1: Training Start    ####################\n"
     ]
    },
    {
     "name": "stderr",
     "output_type": "stream",
     "text": [
      "100%|██████████| 14/14 [00:11<00:00,  1.27it/s]\n"
     ]
    },
    {
     "name": "stdout",
     "output_type": "stream",
     "text": [
      "#################### Epoch 1: Training End      ####################\n",
      "\n",
      "#################### Epoch 1: Validation Start ####################\n"
     ]
    },
    {
     "name": "stderr",
     "output_type": "stream",
     "text": [
      "100%|██████████| 3/3 [00:00<00:00,  3.72it/s]\n"
     ]
    },
    {
     "name": "stdout",
     "output_type": "stream",
     "text": [
      "Epoch: 1 \tTraining Loss: 1.964259 \tValidation Loss: 1.845037\n",
      "Validation loss decreased (inf --> 1.845037).  Saving model ...\n",
      "#################### Epoch 1: Validation End   ####################\n",
      "\n",
      "\n",
      "#################### Epoch 2: Training Start    ####################\n"
     ]
    },
    {
     "name": "stderr",
     "output_type": "stream",
     "text": [
      "100%|██████████| 14/14 [00:10<00:00,  1.37it/s]\n"
     ]
    },
    {
     "name": "stdout",
     "output_type": "stream",
     "text": [
      "#################### Epoch 2: Training End      ####################\n",
      "\n",
      "#################### Epoch 2: Validation Start ####################\n"
     ]
    },
    {
     "name": "stderr",
     "output_type": "stream",
     "text": [
      "100%|██████████| 3/3 [00:00<00:00,  3.82it/s]\n"
     ]
    },
    {
     "name": "stdout",
     "output_type": "stream",
     "text": [
      "Epoch: 2 \tTraining Loss: 1.930679 \tValidation Loss: 1.778749\n",
      "Validation loss decreased (1.845037 --> 1.778749).  Saving model ...\n",
      "#################### Epoch 2: Validation End   ####################\n",
      "\n",
      "\n",
      "#################### Epoch 3: Training Start    ####################\n"
     ]
    },
    {
     "name": "stderr",
     "output_type": "stream",
     "text": [
      "100%|██████████| 14/14 [00:10<00:00,  1.37it/s]\n"
     ]
    },
    {
     "name": "stdout",
     "output_type": "stream",
     "text": [
      "#################### Epoch 3: Training End      ####################\n",
      "\n",
      "#################### Epoch 3: Validation Start ####################\n"
     ]
    },
    {
     "name": "stderr",
     "output_type": "stream",
     "text": [
      "100%|██████████| 3/3 [00:00<00:00,  3.84it/s]\n"
     ]
    },
    {
     "name": "stdout",
     "output_type": "stream",
     "text": [
      "Epoch: 3 \tTraining Loss: 1.844712 \tValidation Loss: 1.502709\n",
      "Validation loss decreased (1.778749 --> 1.502709).  Saving model ...\n",
      "#################### Epoch 3: Validation End   ####################\n",
      "\n",
      "\n",
      "#################### Epoch 4: Training Start    ####################\n"
     ]
    },
    {
     "name": "stderr",
     "output_type": "stream",
     "text": [
      "100%|██████████| 14/14 [00:10<00:00,  1.37it/s]\n"
     ]
    },
    {
     "name": "stdout",
     "output_type": "stream",
     "text": [
      "#################### Epoch 4: Training End      ####################\n",
      "\n",
      "#################### Epoch 4: Validation Start ####################\n"
     ]
    },
    {
     "name": "stderr",
     "output_type": "stream",
     "text": [
      "100%|██████████| 3/3 [00:00<00:00,  3.84it/s]\n"
     ]
    },
    {
     "name": "stdout",
     "output_type": "stream",
     "text": [
      "Epoch: 4 \tTraining Loss: 1.560642 \tValidation Loss: 1.340738\n",
      "Validation loss decreased (1.502709 --> 1.340738).  Saving model ...\n",
      "#################### Epoch 4: Validation End   ####################\n",
      "\n",
      "\n",
      "#################### Epoch 5: Training Start    ####################\n"
     ]
    },
    {
     "name": "stderr",
     "output_type": "stream",
     "text": [
      "100%|██████████| 14/14 [00:10<00:00,  1.37it/s]\n"
     ]
    },
    {
     "name": "stdout",
     "output_type": "stream",
     "text": [
      "#################### Epoch 5: Training End      ####################\n",
      "\n",
      "#################### Epoch 5: Validation Start ####################\n"
     ]
    },
    {
     "name": "stderr",
     "output_type": "stream",
     "text": [
      "100%|██████████| 3/3 [00:00<00:00,  3.84it/s]\n"
     ]
    },
    {
     "name": "stdout",
     "output_type": "stream",
     "text": [
      "Epoch: 5 \tTraining Loss: 1.395806 \tValidation Loss: 1.274178\n",
      "Validation loss decreased (1.340738 --> 1.274178).  Saving model ...\n",
      "#################### Epoch 5: Validation End   ####################\n",
      "\n",
      "\n",
      "#################### Epoch 6: Training Start    ####################\n"
     ]
    },
    {
     "name": "stderr",
     "output_type": "stream",
     "text": [
      "100%|██████████| 14/14 [00:10<00:00,  1.37it/s]\n"
     ]
    },
    {
     "name": "stdout",
     "output_type": "stream",
     "text": [
      "#################### Epoch 6: Training End      ####################\n",
      "\n",
      "#################### Epoch 6: Validation Start ####################\n"
     ]
    },
    {
     "name": "stderr",
     "output_type": "stream",
     "text": [
      "100%|██████████| 3/3 [00:00<00:00,  3.82it/s]\n"
     ]
    },
    {
     "name": "stdout",
     "output_type": "stream",
     "text": [
      "Epoch: 6 \tTraining Loss: 1.213425 \tValidation Loss: 1.192441\n",
      "Validation loss decreased (1.274178 --> 1.192441).  Saving model ...\n",
      "#################### Epoch 6: Validation End   ####################\n",
      "\n",
      "\n",
      "#################### Epoch 7: Training Start    ####################\n"
     ]
    },
    {
     "name": "stderr",
     "output_type": "stream",
     "text": [
      "100%|██████████| 14/14 [00:10<00:00,  1.37it/s]\n"
     ]
    },
    {
     "name": "stdout",
     "output_type": "stream",
     "text": [
      "#################### Epoch 7: Training End      ####################\n",
      "\n",
      "#################### Epoch 7: Validation Start ####################\n"
     ]
    },
    {
     "name": "stderr",
     "output_type": "stream",
     "text": [
      "100%|██████████| 3/3 [00:00<00:00,  3.81it/s]\n"
     ]
    },
    {
     "name": "stdout",
     "output_type": "stream",
     "text": [
      "Epoch: 7 \tTraining Loss: 1.029111 \tValidation Loss: 1.119023\n",
      "Validation loss decreased (1.192441 --> 1.119023).  Saving model ...\n",
      "#################### Epoch 7: Validation End   ####################\n",
      "\n",
      "\n",
      "#################### Epoch 8: Training Start    ####################\n"
     ]
    },
    {
     "name": "stderr",
     "output_type": "stream",
     "text": [
      "100%|██████████| 14/14 [00:10<00:00,  1.37it/s]\n"
     ]
    },
    {
     "name": "stdout",
     "output_type": "stream",
     "text": [
      "#################### Epoch 8: Training End      ####################\n",
      "\n",
      "#################### Epoch 8: Validation Start ####################\n"
     ]
    },
    {
     "name": "stderr",
     "output_type": "stream",
     "text": [
      "100%|██████████| 3/3 [00:00<00:00,  3.82it/s]\n"
     ]
    },
    {
     "name": "stdout",
     "output_type": "stream",
     "text": [
      "Epoch: 8 \tTraining Loss: 0.870088 \tValidation Loss: 1.144156\n",
      "#################### Epoch 8: Validation End   ####################\n",
      "\n",
      "\n",
      "#################### Epoch 9: Training Start    ####################\n"
     ]
    },
    {
     "name": "stderr",
     "output_type": "stream",
     "text": [
      "100%|██████████| 14/14 [00:10<00:00,  1.37it/s]\n"
     ]
    },
    {
     "name": "stdout",
     "output_type": "stream",
     "text": [
      "#################### Epoch 9: Training End      ####################\n",
      "\n",
      "#################### Epoch 9: Validation Start ####################\n"
     ]
    },
    {
     "name": "stderr",
     "output_type": "stream",
     "text": [
      "100%|██████████| 3/3 [00:00<00:00,  3.81it/s]\n"
     ]
    },
    {
     "name": "stdout",
     "output_type": "stream",
     "text": [
      "Epoch: 9 \tTraining Loss: 0.750739 \tValidation Loss: 1.025767\n",
      "Validation loss decreased (1.119023 --> 1.025767).  Saving model ...\n",
      "#################### Epoch 9: Validation End   ####################\n",
      "\n",
      "\n",
      "#################### Epoch 10: Training Start    ####################\n"
     ]
    },
    {
     "name": "stderr",
     "output_type": "stream",
     "text": [
      "100%|██████████| 14/14 [00:10<00:00,  1.37it/s]\n"
     ]
    },
    {
     "name": "stdout",
     "output_type": "stream",
     "text": [
      "#################### Epoch 10: Training End      ####################\n",
      "\n",
      "#################### Epoch 10: Validation Start ####################\n"
     ]
    },
    {
     "name": "stderr",
     "output_type": "stream",
     "text": [
      "100%|██████████| 3/3 [00:00<00:00,  3.81it/s]\n"
     ]
    },
    {
     "name": "stdout",
     "output_type": "stream",
     "text": [
      "Epoch: 10 \tTraining Loss: 0.642849 \tValidation Loss: 1.057945\n",
      "#################### Epoch 10: Validation End   ####################\n",
      "\n",
      "\n",
      "#################### Epoch 11: Training Start    ####################\n"
     ]
    },
    {
     "name": "stderr",
     "output_type": "stream",
     "text": [
      "100%|██████████| 14/14 [00:10<00:00,  1.36it/s]\n"
     ]
    },
    {
     "name": "stdout",
     "output_type": "stream",
     "text": [
      "#################### Epoch 11: Training End      ####################\n",
      "\n",
      "#################### Epoch 11: Validation Start ####################\n"
     ]
    },
    {
     "name": "stderr",
     "output_type": "stream",
     "text": [
      "100%|██████████| 3/3 [00:00<00:00,  3.83it/s]\n"
     ]
    },
    {
     "name": "stdout",
     "output_type": "stream",
     "text": [
      "Epoch: 11 \tTraining Loss: 0.605125 \tValidation Loss: 1.007127\n",
      "Validation loss decreased (1.025767 --> 1.007127).  Saving model ...\n",
      "#################### Epoch 11: Validation End   ####################\n",
      "\n",
      "\n",
      "#################### Epoch 12: Training Start    ####################\n"
     ]
    },
    {
     "name": "stderr",
     "output_type": "stream",
     "text": [
      "100%|██████████| 14/14 [00:10<00:00,  1.36it/s]\n"
     ]
    },
    {
     "name": "stdout",
     "output_type": "stream",
     "text": [
      "#################### Epoch 12: Training End      ####################\n",
      "\n",
      "#################### Epoch 12: Validation Start ####################\n"
     ]
    },
    {
     "name": "stderr",
     "output_type": "stream",
     "text": [
      "100%|██████████| 3/3 [00:00<00:00,  3.81it/s]\n"
     ]
    },
    {
     "name": "stdout",
     "output_type": "stream",
     "text": [
      "Epoch: 12 \tTraining Loss: 0.466132 \tValidation Loss: 1.102941\n",
      "#################### Epoch 12: Validation End   ####################\n",
      "\n",
      "\n",
      "#################### Epoch 13: Training Start    ####################\n"
     ]
    },
    {
     "name": "stderr",
     "output_type": "stream",
     "text": [
      "100%|██████████| 14/14 [00:10<00:00,  1.37it/s]\n"
     ]
    },
    {
     "name": "stdout",
     "output_type": "stream",
     "text": [
      "#################### Epoch 13: Training End      ####################\n",
      "\n",
      "#################### Epoch 13: Validation Start ####################\n"
     ]
    },
    {
     "name": "stderr",
     "output_type": "stream",
     "text": [
      "100%|██████████| 3/3 [00:00<00:00,  3.81it/s]"
     ]
    },
    {
     "name": "stdout",
     "output_type": "stream",
     "text": [
      "Epoch: 13 \tTraining Loss: 0.411825 \tValidation Loss: 1.088620\n",
      "Not improvement for more than: 2\n",
      "#################### Training finished     ####################\n"
     ]
    },
    {
     "name": "stderr",
     "output_type": "stream",
     "text": [
      "\n"
     ]
    }
   ],
   "source": [
    "trained_model = train_model(EPOCHS, train_loader, val_loader, model, optimizer, best_model_path, patience=2)"
   ]
  },
  {
   "cell_type": "code",
   "execution_count": 18,
   "id": "4b9ccc75",
   "metadata": {
    "execution": {
     "iopub.execute_input": "2024-05-03T00:16:34.845675Z",
     "iopub.status.busy": "2024-05-03T00:16:34.845224Z",
     "iopub.status.idle": "2024-05-03T00:16:35.227366Z",
     "shell.execute_reply": "2024-05-03T00:16:35.226392Z"
    },
    "papermill": {
     "duration": 0.436957,
     "end_time": "2024-05-03T00:16:35.229765",
     "exception": false,
     "start_time": "2024-05-03T00:16:34.792808",
     "status": "completed"
    },
    "tags": []
   },
   "outputs": [],
   "source": [
    "best_model, encoder = load_ckp(best_model_path, model, encoder)"
   ]
  },
  {
   "cell_type": "markdown",
   "id": "61266d12",
   "metadata": {
    "papermill": {
     "duration": 0.047441,
     "end_time": "2024-05-03T00:16:35.325383",
     "exception": false,
     "start_time": "2024-05-03T00:16:35.277942",
     "status": "completed"
    },
    "tags": []
   },
   "source": [
    "## Evaluating using test set"
   ]
  },
  {
   "cell_type": "code",
   "execution_count": 19,
   "id": "8f872063",
   "metadata": {
    "execution": {
     "iopub.execute_input": "2024-05-03T00:16:35.422908Z",
     "iopub.status.busy": "2024-05-03T00:16:35.422067Z",
     "iopub.status.idle": "2024-05-03T00:16:36.245656Z",
     "shell.execute_reply": "2024-05-03T00:16:36.244627Z"
    },
    "executionInfo": {
     "elapsed": 104385,
     "status": "ok",
     "timestamp": 1702261047724,
     "user": {
      "displayName": "Cristian Bassotto",
      "userId": "01183163487853409209"
     },
     "user_tz": -60
    },
    "id": "SwCCxjqVHGOO",
    "outputId": "ef2e5975-50fe-4812-eceb-ac38c7c8f068",
    "papermill": {
     "duration": 0.875019,
     "end_time": "2024-05-03T00:16:36.247635",
     "exception": false,
     "start_time": "2024-05-03T00:16:35.372616",
     "status": "completed"
    },
    "tags": []
   },
   "outputs": [
    {
     "name": "stderr",
     "output_type": "stream",
     "text": [
      "100%|██████████| 3/3 [00:00<00:00,  3.68it/s]\n"
     ]
    }
   ],
   "source": [
    "test_loss, test_labels , test_predictions_probs = valid(best_model, test_loader)"
   ]
  },
  {
   "cell_type": "code",
   "execution_count": 20,
   "id": "d9ecce17",
   "metadata": {
    "execution": {
     "iopub.execute_input": "2024-05-03T00:16:36.347645Z",
     "iopub.status.busy": "2024-05-03T00:16:36.347305Z",
     "iopub.status.idle": "2024-05-03T00:16:36.353488Z",
     "shell.execute_reply": "2024-05-03T00:16:36.352629Z"
    },
    "papermill": {
     "duration": 0.057975,
     "end_time": "2024-05-03T00:16:36.355398",
     "exception": false,
     "start_time": "2024-05-03T00:16:36.297423",
     "status": "completed"
    },
    "tags": []
   },
   "outputs": [
    {
     "data": {
      "text/plain": [
       "1.0938159028689067"
      ]
     },
     "execution_count": 20,
     "metadata": {},
     "output_type": "execute_result"
    }
   ],
   "source": [
    "test_loss"
   ]
  },
  {
   "cell_type": "code",
   "execution_count": 21,
   "id": "f732ad4b",
   "metadata": {
    "execution": {
     "iopub.execute_input": "2024-05-03T00:16:36.452363Z",
     "iopub.status.busy": "2024-05-03T00:16:36.451653Z",
     "iopub.status.idle": "2024-05-03T00:16:36.457647Z",
     "shell.execute_reply": "2024-05-03T00:16:36.456733Z"
    },
    "papermill": {
     "duration": 0.056581,
     "end_time": "2024-05-03T00:16:36.459890",
     "exception": false,
     "start_time": "2024-05-03T00:16:36.403309",
     "status": "completed"
    },
    "tags": []
   },
   "outputs": [],
   "source": [
    "test_predictions = [ prob_list == np.max(prob_list) for prob_list in test_predictions_probs ]"
   ]
  },
  {
   "cell_type": "code",
   "execution_count": 22,
   "id": "d5dba6b0",
   "metadata": {
    "execution": {
     "iopub.execute_input": "2024-05-03T00:16:36.559143Z",
     "iopub.status.busy": "2024-05-03T00:16:36.558467Z",
     "iopub.status.idle": "2024-05-03T00:16:36.592665Z",
     "shell.execute_reply": "2024-05-03T00:16:36.591591Z"
    },
    "executionInfo": {
     "elapsed": 871,
     "status": "ok",
     "timestamp": 1702261050046,
     "user": {
      "displayName": "Cristian Bassotto",
      "userId": "01183163487853409209"
     },
     "user_tz": -60
    },
    "id": "yxsuBn7pHMCR",
    "outputId": "7d59735e-754c-47b7-fa8b-f079f69b2f47",
    "papermill": {
     "duration": 0.085042,
     "end_time": "2024-05-03T00:16:36.594766",
     "exception": false,
     "start_time": "2024-05-03T00:16:36.509724",
     "status": "completed"
    },
    "tags": []
   },
   "outputs": [
    {
     "name": "stdout",
     "output_type": "stream",
     "text": [
      "Accuracy: 0.6236559139784946\n",
      "Precision: 0.7172843577194665\n",
      "Recall: 0.6236559139784946\n",
      "F1: 0.6540632127728901\n",
      "                   precision    recall  f1-score   support\n",
      "\n",
      "     Deliberation       0.18      0.18      0.18        11\n",
      "Imaginative Entry       0.50      0.60      0.55         5\n",
      "            Other       0.33      1.00      0.50         1\n",
      "        Procedure       0.31      0.57      0.40         7\n",
      "          Seminar       0.95      0.72      0.82        57\n",
      "           Social       0.60      0.75      0.67         8\n",
      "               UX       0.14      0.25      0.18         4\n",
      "\n",
      "        micro avg       0.62      0.62      0.62        93\n",
      "        macro avg       0.43      0.58      0.47        93\n",
      "     weighted avg       0.72      0.62      0.65        93\n",
      "      samples avg       0.62      0.62      0.62        93\n",
      "\n"
     ]
    }
   ],
   "source": [
    "print('Accuracy:', accuracy_score(test_labels, test_predictions))\n",
    "print('Precision:', precision_score(test_labels, test_predictions, average='weighted'))\n",
    "print('Recall:', recall_score(test_labels, test_predictions, average='weighted'))\n",
    "print('F1:', f1_score(test_labels, test_predictions, average='weighted'))\n",
    "\n",
    "report = classification_report(test_labels, test_predictions, target_names=np.array(encoder.categories_).flatten())\n",
    "print(report)"
   ]
  },
  {
   "cell_type": "markdown",
   "id": "3997be0e",
   "metadata": {
    "papermill": {
     "duration": 0.049377,
     "end_time": "2024-05-03T00:16:36.692396",
     "exception": false,
     "start_time": "2024-05-03T00:16:36.643019",
     "status": "completed"
    },
    "tags": []
   },
   "source": [
    "## Function to predict"
   ]
  },
  {
   "cell_type": "code",
   "execution_count": 23,
   "id": "621eb10f",
   "metadata": {
    "execution": {
     "iopub.execute_input": "2024-05-03T00:16:36.791544Z",
     "iopub.status.busy": "2024-05-03T00:16:36.791204Z",
     "iopub.status.idle": "2024-05-03T00:16:36.799740Z",
     "shell.execute_reply": "2024-05-03T00:16:36.798742Z"
    },
    "papermill": {
     "duration": 0.060574,
     "end_time": "2024-05-03T00:16:36.801798",
     "exception": false,
     "start_time": "2024-05-03T00:16:36.741224",
     "status": "completed"
    },
    "tags": []
   },
   "outputs": [],
   "source": [
    "def predict(model, tokenizer, sentence):\n",
    "    model.eval()\n",
    "    device = 'cuda' if cuda.is_available() else 'cpu'\n",
    "    #sentence = parse(sentence)\n",
    "    inputs = tokenizer.encode_plus(\n",
    "            sentence,\n",
    "            add_special_tokens=True,\n",
    "            max_length = max_length,\n",
    "            return_token_type_ids=True,\n",
    "            padding='max_length',\n",
    "            return_attention_mask=True,\n",
    "            truncation=False,\n",
    "            return_tensors='pt'\n",
    "        )\n",
    "    \n",
    "\n",
    "    input_ids = inputs['input_ids'].to(device, dtype=torch.long)\n",
    "    attention_mask = inputs['attention_mask'].to(device, dtype=torch.long)\n",
    "    token_type_ids = inputs['token_type_ids'].to(device, dtype=torch.long)\n",
    "\n",
    "    outputs = model(input_ids, attention_mask, token_type_ids)\n",
    "\n",
    "    outputs = torch.sigmoid(outputs).cpu().detach().numpy()\n",
    "    threshold = 0.5\n",
    "    outputs = test_predictions = [[prob > threshold for prob in prob_list] for prob_list in outputs ]\n",
    "    \n",
    "    outputs = encoder.inverse_transform(np.array(outputs))\n",
    "    return sentence, outputs"
   ]
  }
 ],
 "metadata": {
  "accelerator": "GPU",
  "colab": {
   "gpuType": "T4",
   "provenance": []
  },
  "kaggle": {
   "accelerator": "gpu",
   "dataSources": [
    {
     "datasetId": 4927759,
     "sourceId": 8295440,
     "sourceType": "datasetVersion"
    }
   ],
   "dockerImageVersionId": 30699,
   "isGpuEnabled": true,
   "isInternetEnabled": true,
   "language": "python",
   "sourceType": "notebook"
  },
  "kernelspec": {
   "display_name": "Python 3",
   "language": "python",
   "name": "python3"
  },
  "language_info": {
   "codemirror_mode": {
    "name": "ipython",
    "version": 3
   },
   "file_extension": ".py",
   "mimetype": "text/x-python",
   "name": "python",
   "nbconvert_exporter": "python",
   "pygments_lexer": "ipython3",
   "version": "3.10.13"
  },
  "papermill": {
   "default_parameters": {},
   "duration": 175.399899,
   "end_time": "2024-05-03T00:16:39.294216",
   "environment_variables": {},
   "exception": null,
   "input_path": "__notebook__.ipynb",
   "output_path": "__notebook__.ipynb",
   "parameters": {},
   "start_time": "2024-05-03T00:13:43.894317",
   "version": "2.4.0"
  },
  "widgets": {
   "application/vnd.jupyter.widget-state+json": {
    "state": {
     "013a5e840b9e447eb6f0ad823bc415bd": {
      "model_module": "@jupyter-widgets/controls",
      "model_module_version": "1.5.0",
      "model_name": "HTMLModel",
      "state": {
       "_dom_classes": [],
       "_model_module": "@jupyter-widgets/controls",
       "_model_module_version": "1.5.0",
       "_model_name": "HTMLModel",
       "_view_count": null,
       "_view_module": "@jupyter-widgets/controls",
       "_view_module_version": "1.5.0",
       "_view_name": "HTMLView",
       "description": "",
       "description_tooltip": null,
       "layout": "IPY_MODEL_f48b533165aa4b7ea36368d707ca6cb2",
       "placeholder": "​",
       "style": "IPY_MODEL_f63fd9df11df498ea7689ffc9393f8c2",
       "value": " 499M/499M [00:01&lt;00:00, 340MB/s]"
      }
     },
     "0734f5d1da3747eca18f5bfb6be93331": {
      "model_module": "@jupyter-widgets/controls",
      "model_module_version": "1.5.0",
      "model_name": "DescriptionStyleModel",
      "state": {
       "_model_module": "@jupyter-widgets/controls",
       "_model_module_version": "1.5.0",
       "_model_name": "DescriptionStyleModel",
       "_view_count": null,
       "_view_module": "@jupyter-widgets/base",
       "_view_module_version": "1.2.0",
       "_view_name": "StyleView",
       "description_width": ""
      }
     },
     "13844c59ebec43c79b8c98529a8eaedb": {
      "model_module": "@jupyter-widgets/controls",
      "model_module_version": "1.5.0",
      "model_name": "DescriptionStyleModel",
      "state": {
       "_model_module": "@jupyter-widgets/controls",
       "_model_module_version": "1.5.0",
       "_model_name": "DescriptionStyleModel",
       "_view_count": null,
       "_view_module": "@jupyter-widgets/base",
       "_view_module_version": "1.2.0",
       "_view_name": "StyleView",
       "description_width": ""
      }
     },
     "1732869bf8494c9baf8d7c15717a973b": {
      "model_module": "@jupyter-widgets/controls",
      "model_module_version": "1.5.0",
      "model_name": "FloatProgressModel",
      "state": {
       "_dom_classes": [],
       "_model_module": "@jupyter-widgets/controls",
       "_model_module_version": "1.5.0",
       "_model_name": "FloatProgressModel",
       "_view_count": null,
       "_view_module": "@jupyter-widgets/controls",
       "_view_module_version": "1.5.0",
       "_view_name": "ProgressView",
       "bar_style": "success",
       "description": "",
       "description_tooltip": null,
       "layout": "IPY_MODEL_b2533c001c3045efaeffe8f691e7266a",
       "max": 25,
       "min": 0,
       "orientation": "horizontal",
       "style": "IPY_MODEL_7d4515d70a28490c88b91dc25e730454",
       "value": 25
      }
     },
     "192f2b2477ca4fbc9bee1866bac76b2d": {
      "model_module": "@jupyter-widgets/controls",
      "model_module_version": "1.5.0",
      "model_name": "DescriptionStyleModel",
      "state": {
       "_model_module": "@jupyter-widgets/controls",
       "_model_module_version": "1.5.0",
       "_model_name": "DescriptionStyleModel",
       "_view_count": null,
       "_view_module": "@jupyter-widgets/base",
       "_view_module_version": "1.2.0",
       "_view_name": "StyleView",
       "description_width": ""
      }
     },
     "1e95695f3ee246fab3e2e9d97e6b9d56": {
      "model_module": "@jupyter-widgets/controls",
      "model_module_version": "1.5.0",
      "model_name": "DescriptionStyleModel",
      "state": {
       "_model_module": "@jupyter-widgets/controls",
       "_model_module_version": "1.5.0",
       "_model_name": "DescriptionStyleModel",
       "_view_count": null,
       "_view_module": "@jupyter-widgets/base",
       "_view_module_version": "1.2.0",
       "_view_name": "StyleView",
       "description_width": ""
      }
     },
     "28a126f673ab43b4a83ed1560d7d3932": {
      "model_module": "@jupyter-widgets/controls",
      "model_module_version": "1.5.0",
      "model_name": "HBoxModel",
      "state": {
       "_dom_classes": [],
       "_model_module": "@jupyter-widgets/controls",
       "_model_module_version": "1.5.0",
       "_model_name": "HBoxModel",
       "_view_count": null,
       "_view_module": "@jupyter-widgets/controls",
       "_view_module_version": "1.5.0",
       "_view_name": "HBoxView",
       "box_style": "",
       "children": [
        "IPY_MODEL_b984bfe77c8e4841a87b77ebae7c395c",
        "IPY_MODEL_a00c43091c604b9895955b9eee955593",
        "IPY_MODEL_013a5e840b9e447eb6f0ad823bc415bd"
       ],
       "layout": "IPY_MODEL_d817862c9393448ba6b1180bd858155c"
      }
     },
     "3a3b098bf97f46adb1555e20e7536bf9": {
      "model_module": "@jupyter-widgets/base",
      "model_module_version": "1.2.0",
      "model_name": "LayoutModel",
      "state": {
       "_model_module": "@jupyter-widgets/base",
       "_model_module_version": "1.2.0",
       "_model_name": "LayoutModel",
       "_view_count": null,
       "_view_module": "@jupyter-widgets/base",
       "_view_module_version": "1.2.0",
       "_view_name": "LayoutView",
       "align_content": null,
       "align_items": null,
       "align_self": null,
       "border": null,
       "bottom": null,
       "display": null,
       "flex": null,
       "flex_flow": null,
       "grid_area": null,
       "grid_auto_columns": null,
       "grid_auto_flow": null,
       "grid_auto_rows": null,
       "grid_column": null,
       "grid_gap": null,
       "grid_row": null,
       "grid_template_areas": null,
       "grid_template_columns": null,
       "grid_template_rows": null,
       "height": null,
       "justify_content": null,
       "justify_items": null,
       "left": null,
       "margin": null,
       "max_height": null,
       "max_width": null,
       "min_height": null,
       "min_width": null,
       "object_fit": null,
       "object_position": null,
       "order": null,
       "overflow": null,
       "overflow_x": null,
       "overflow_y": null,
       "padding": null,
       "right": null,
       "top": null,
       "visibility": null,
       "width": null
      }
     },
     "3be5cf087e264fedbe7c9d4ad8575ffc": {
      "model_module": "@jupyter-widgets/base",
      "model_module_version": "1.2.0",
      "model_name": "LayoutModel",
      "state": {
       "_model_module": "@jupyter-widgets/base",
       "_model_module_version": "1.2.0",
       "_model_name": "LayoutModel",
       "_view_count": null,
       "_view_module": "@jupyter-widgets/base",
       "_view_module_version": "1.2.0",
       "_view_name": "LayoutView",
       "align_content": null,
       "align_items": null,
       "align_self": null,
       "border": null,
       "bottom": null,
       "display": null,
       "flex": null,
       "flex_flow": null,
       "grid_area": null,
       "grid_auto_columns": null,
       "grid_auto_flow": null,
       "grid_auto_rows": null,
       "grid_column": null,
       "grid_gap": null,
       "grid_row": null,
       "grid_template_areas": null,
       "grid_template_columns": null,
       "grid_template_rows": null,
       "height": null,
       "justify_content": null,
       "justify_items": null,
       "left": null,
       "margin": null,
       "max_height": null,
       "max_width": null,
       "min_height": null,
       "min_width": null,
       "object_fit": null,
       "object_position": null,
       "order": null,
       "overflow": null,
       "overflow_x": null,
       "overflow_y": null,
       "padding": null,
       "right": null,
       "top": null,
       "visibility": null,
       "width": null
      }
     },
     "4101fbec83c04570b3212529030a9df8": {
      "model_module": "@jupyter-widgets/controls",
      "model_module_version": "1.5.0",
      "model_name": "HTMLModel",
      "state": {
       "_dom_classes": [],
       "_model_module": "@jupyter-widgets/controls",
       "_model_module_version": "1.5.0",
       "_model_name": "HTMLModel",
       "_view_count": null,
       "_view_module": "@jupyter-widgets/controls",
       "_view_module_version": "1.5.0",
       "_view_name": "HTMLView",
       "description": "",
       "description_tooltip": null,
       "layout": "IPY_MODEL_6995c2b0665e444fa93789ff8884ae4a",
       "placeholder": "​",
       "style": "IPY_MODEL_0734f5d1da3747eca18f5bfb6be93331",
       "value": "merges.txt: 100%"
      }
     },
     "44b3999cc5c4421bbd4052e968c6d84f": {
      "model_module": "@jupyter-widgets/controls",
      "model_module_version": "1.5.0",
      "model_name": "ProgressStyleModel",
      "state": {
       "_model_module": "@jupyter-widgets/controls",
       "_model_module_version": "1.5.0",
       "_model_name": "ProgressStyleModel",
       "_view_count": null,
       "_view_module": "@jupyter-widgets/base",
       "_view_module_version": "1.2.0",
       "_view_name": "StyleView",
       "bar_color": null,
       "description_width": ""
      }
     },
     "47dd722a9fb64e00b9ee0f426f1eebb6": {
      "model_module": "@jupyter-widgets/controls",
      "model_module_version": "1.5.0",
      "model_name": "HBoxModel",
      "state": {
       "_dom_classes": [],
       "_model_module": "@jupyter-widgets/controls",
       "_model_module_version": "1.5.0",
       "_model_name": "HBoxModel",
       "_view_count": null,
       "_view_module": "@jupyter-widgets/controls",
       "_view_module_version": "1.5.0",
       "_view_name": "HBoxView",
       "box_style": "",
       "children": [
        "IPY_MODEL_4101fbec83c04570b3212529030a9df8",
        "IPY_MODEL_7769798a3fc748af9b66fac21da8cbd8",
        "IPY_MODEL_adde3770afdc4880949b1aee87430f04"
       ],
       "layout": "IPY_MODEL_8d08d954e4cf4db2816775aee43ef858"
      }
     },
     "491484c7df4e4e09a8dbcd3d9fca224e": {
      "model_module": "@jupyter-widgets/base",
      "model_module_version": "1.2.0",
      "model_name": "LayoutModel",
      "state": {
       "_model_module": "@jupyter-widgets/base",
       "_model_module_version": "1.2.0",
       "_model_name": "LayoutModel",
       "_view_count": null,
       "_view_module": "@jupyter-widgets/base",
       "_view_module_version": "1.2.0",
       "_view_name": "LayoutView",
       "align_content": null,
       "align_items": null,
       "align_self": null,
       "border": null,
       "bottom": null,
       "display": null,
       "flex": null,
       "flex_flow": null,
       "grid_area": null,
       "grid_auto_columns": null,
       "grid_auto_flow": null,
       "grid_auto_rows": null,
       "grid_column": null,
       "grid_gap": null,
       "grid_row": null,
       "grid_template_areas": null,
       "grid_template_columns": null,
       "grid_template_rows": null,
       "height": null,
       "justify_content": null,
       "justify_items": null,
       "left": null,
       "margin": null,
       "max_height": null,
       "max_width": null,
       "min_height": null,
       "min_width": null,
       "object_fit": null,
       "object_position": null,
       "order": null,
       "overflow": null,
       "overflow_x": null,
       "overflow_y": null,
       "padding": null,
       "right": null,
       "top": null,
       "visibility": null,
       "width": null
      }
     },
     "4bd5adf4c5a047b4bcba77b6791af21d": {
      "model_module": "@jupyter-widgets/controls",
      "model_module_version": "1.5.0",
      "model_name": "FloatProgressModel",
      "state": {
       "_dom_classes": [],
       "_model_module": "@jupyter-widgets/controls",
       "_model_module_version": "1.5.0",
       "_model_name": "FloatProgressModel",
       "_view_count": null,
       "_view_module": "@jupyter-widgets/controls",
       "_view_module_version": "1.5.0",
       "_view_name": "ProgressView",
       "bar_style": "success",
       "description": "",
       "description_tooltip": null,
       "layout": "IPY_MODEL_aa2b481aa665449eb3dd983597693f97",
       "max": 898823,
       "min": 0,
       "orientation": "horizontal",
       "style": "IPY_MODEL_b7e74d5eb8c94674a5d1c2f4faa9daf7",
       "value": 898823
      }
     },
     "4c06850f6df94b00b37c50e576adf2fa": {
      "model_module": "@jupyter-widgets/controls",
      "model_module_version": "1.5.0",
      "model_name": "FloatProgressModel",
      "state": {
       "_dom_classes": [],
       "_model_module": "@jupyter-widgets/controls",
       "_model_module_version": "1.5.0",
       "_model_name": "FloatProgressModel",
       "_view_count": null,
       "_view_module": "@jupyter-widgets/controls",
       "_view_module_version": "1.5.0",
       "_view_name": "ProgressView",
       "bar_style": "success",
       "description": "",
       "description_tooltip": null,
       "layout": "IPY_MODEL_beea2a34688849b9b7151aa605a1b8d4",
       "max": 481,
       "min": 0,
       "orientation": "horizontal",
       "style": "IPY_MODEL_886b6dbbd6a4413a91ab3fe9f1b8eaa5",
       "value": 481
      }
     },
     "4e567331042f4c2a80c0014b8e9e6fcd": {
      "model_module": "@jupyter-widgets/base",
      "model_module_version": "1.2.0",
      "model_name": "LayoutModel",
      "state": {
       "_model_module": "@jupyter-widgets/base",
       "_model_module_version": "1.2.0",
       "_model_name": "LayoutModel",
       "_view_count": null,
       "_view_module": "@jupyter-widgets/base",
       "_view_module_version": "1.2.0",
       "_view_name": "LayoutView",
       "align_content": null,
       "align_items": null,
       "align_self": null,
       "border": null,
       "bottom": null,
       "display": null,
       "flex": null,
       "flex_flow": null,
       "grid_area": null,
       "grid_auto_columns": null,
       "grid_auto_flow": null,
       "grid_auto_rows": null,
       "grid_column": null,
       "grid_gap": null,
       "grid_row": null,
       "grid_template_areas": null,
       "grid_template_columns": null,
       "grid_template_rows": null,
       "height": null,
       "justify_content": null,
       "justify_items": null,
       "left": null,
       "margin": null,
       "max_height": null,
       "max_width": null,
       "min_height": null,
       "min_width": null,
       "object_fit": null,
       "object_position": null,
       "order": null,
       "overflow": null,
       "overflow_x": null,
       "overflow_y": null,
       "padding": null,
       "right": null,
       "top": null,
       "visibility": null,
       "width": null
      }
     },
     "4f817b8aced347bcb4fe545bddec4d60": {
      "model_module": "@jupyter-widgets/controls",
      "model_module_version": "1.5.0",
      "model_name": "DescriptionStyleModel",
      "state": {
       "_model_module": "@jupyter-widgets/controls",
       "_model_module_version": "1.5.0",
       "_model_name": "DescriptionStyleModel",
       "_view_count": null,
       "_view_module": "@jupyter-widgets/base",
       "_view_module_version": "1.2.0",
       "_view_name": "StyleView",
       "description_width": ""
      }
     },
     "54a64a1509dd4953804a4ff3f0fd344e": {
      "model_module": "@jupyter-widgets/controls",
      "model_module_version": "1.5.0",
      "model_name": "DescriptionStyleModel",
      "state": {
       "_model_module": "@jupyter-widgets/controls",
       "_model_module_version": "1.5.0",
       "_model_name": "DescriptionStyleModel",
       "_view_count": null,
       "_view_module": "@jupyter-widgets/base",
       "_view_module_version": "1.2.0",
       "_view_name": "StyleView",
       "description_width": ""
      }
     },
     "56a334a05ca345b4a8f0022fb2ba2642": {
      "model_module": "@jupyter-widgets/controls",
      "model_module_version": "1.5.0",
      "model_name": "HBoxModel",
      "state": {
       "_dom_classes": [],
       "_model_module": "@jupyter-widgets/controls",
       "_model_module_version": "1.5.0",
       "_model_name": "HBoxModel",
       "_view_count": null,
       "_view_module": "@jupyter-widgets/controls",
       "_view_module_version": "1.5.0",
       "_view_name": "HBoxView",
       "box_style": "",
       "children": [
        "IPY_MODEL_6874732845574970b5aea28348e4e683",
        "IPY_MODEL_1732869bf8494c9baf8d7c15717a973b",
        "IPY_MODEL_6c3d8780ab1049cb8a12b42b19c7a266"
       ],
       "layout": "IPY_MODEL_5939ac5574304a29b01674a7e608f9e9"
      }
     },
     "5939ac5574304a29b01674a7e608f9e9": {
      "model_module": "@jupyter-widgets/base",
      "model_module_version": "1.2.0",
      "model_name": "LayoutModel",
      "state": {
       "_model_module": "@jupyter-widgets/base",
       "_model_module_version": "1.2.0",
       "_model_name": "LayoutModel",
       "_view_count": null,
       "_view_module": "@jupyter-widgets/base",
       "_view_module_version": "1.2.0",
       "_view_name": "LayoutView",
       "align_content": null,
       "align_items": null,
       "align_self": null,
       "border": null,
       "bottom": null,
       "display": null,
       "flex": null,
       "flex_flow": null,
       "grid_area": null,
       "grid_auto_columns": null,
       "grid_auto_flow": null,
       "grid_auto_rows": null,
       "grid_column": null,
       "grid_gap": null,
       "grid_row": null,
       "grid_template_areas": null,
       "grid_template_columns": null,
       "grid_template_rows": null,
       "height": null,
       "justify_content": null,
       "justify_items": null,
       "left": null,
       "margin": null,
       "max_height": null,
       "max_width": null,
       "min_height": null,
       "min_width": null,
       "object_fit": null,
       "object_position": null,
       "order": null,
       "overflow": null,
       "overflow_x": null,
       "overflow_y": null,
       "padding": null,
       "right": null,
       "top": null,
       "visibility": null,
       "width": null
      }
     },
     "5daf8f67f4d84f18a9087eea1e6ff764": {
      "model_module": "@jupyter-widgets/controls",
      "model_module_version": "1.5.0",
      "model_name": "HTMLModel",
      "state": {
       "_dom_classes": [],
       "_model_module": "@jupyter-widgets/controls",
       "_model_module_version": "1.5.0",
       "_model_name": "HTMLModel",
       "_view_count": null,
       "_view_module": "@jupyter-widgets/controls",
       "_view_module_version": "1.5.0",
       "_view_name": "HTMLView",
       "description": "",
       "description_tooltip": null,
       "layout": "IPY_MODEL_73750c02cf534040a6b34524ee9dee9b",
       "placeholder": "​",
       "style": "IPY_MODEL_54a64a1509dd4953804a4ff3f0fd344e",
       "value": " 481/481 [00:00&lt;00:00, 41.0kB/s]"
      }
     },
     "5faa8b2bbe32449ab998b5906a350770": {
      "model_module": "@jupyter-widgets/controls",
      "model_module_version": "1.5.0",
      "model_name": "HTMLModel",
      "state": {
       "_dom_classes": [],
       "_model_module": "@jupyter-widgets/controls",
       "_model_module_version": "1.5.0",
       "_model_name": "HTMLModel",
       "_view_count": null,
       "_view_module": "@jupyter-widgets/controls",
       "_view_module_version": "1.5.0",
       "_view_name": "HTMLView",
       "description": "",
       "description_tooltip": null,
       "layout": "IPY_MODEL_f56b7f952a2547b48ffd9025654dff56",
       "placeholder": "​",
       "style": "IPY_MODEL_4f817b8aced347bcb4fe545bddec4d60",
       "value": " 899k/899k [00:00&lt;00:00, 13.7MB/s]"
      }
     },
     "6874732845574970b5aea28348e4e683": {
      "model_module": "@jupyter-widgets/controls",
      "model_module_version": "1.5.0",
      "model_name": "HTMLModel",
      "state": {
       "_dom_classes": [],
       "_model_module": "@jupyter-widgets/controls",
       "_model_module_version": "1.5.0",
       "_model_name": "HTMLModel",
       "_view_count": null,
       "_view_module": "@jupyter-widgets/controls",
       "_view_module_version": "1.5.0",
       "_view_name": "HTMLView",
       "description": "",
       "description_tooltip": null,
       "layout": "IPY_MODEL_b0f24e041c2b47df829412e54c014a27",
       "placeholder": "​",
       "style": "IPY_MODEL_13844c59ebec43c79b8c98529a8eaedb",
       "value": "tokenizer_config.json: 100%"
      }
     },
     "6995c2b0665e444fa93789ff8884ae4a": {
      "model_module": "@jupyter-widgets/base",
      "model_module_version": "1.2.0",
      "model_name": "LayoutModel",
      "state": {
       "_model_module": "@jupyter-widgets/base",
       "_model_module_version": "1.2.0",
       "_model_name": "LayoutModel",
       "_view_count": null,
       "_view_module": "@jupyter-widgets/base",
       "_view_module_version": "1.2.0",
       "_view_name": "LayoutView",
       "align_content": null,
       "align_items": null,
       "align_self": null,
       "border": null,
       "bottom": null,
       "display": null,
       "flex": null,
       "flex_flow": null,
       "grid_area": null,
       "grid_auto_columns": null,
       "grid_auto_flow": null,
       "grid_auto_rows": null,
       "grid_column": null,
       "grid_gap": null,
       "grid_row": null,
       "grid_template_areas": null,
       "grid_template_columns": null,
       "grid_template_rows": null,
       "height": null,
       "justify_content": null,
       "justify_items": null,
       "left": null,
       "margin": null,
       "max_height": null,
       "max_width": null,
       "min_height": null,
       "min_width": null,
       "object_fit": null,
       "object_position": null,
       "order": null,
       "overflow": null,
       "overflow_x": null,
       "overflow_y": null,
       "padding": null,
       "right": null,
       "top": null,
       "visibility": null,
       "width": null
      }
     },
     "6c3d8780ab1049cb8a12b42b19c7a266": {
      "model_module": "@jupyter-widgets/controls",
      "model_module_version": "1.5.0",
      "model_name": "HTMLModel",
      "state": {
       "_dom_classes": [],
       "_model_module": "@jupyter-widgets/controls",
       "_model_module_version": "1.5.0",
       "_model_name": "HTMLModel",
       "_view_count": null,
       "_view_module": "@jupyter-widgets/controls",
       "_view_module_version": "1.5.0",
       "_view_name": "HTMLView",
       "description": "",
       "description_tooltip": null,
       "layout": "IPY_MODEL_d0a79f1a15894b13ae0ca0f106d7722f",
       "placeholder": "​",
       "style": "IPY_MODEL_d3c9062a9b414e4a856b1d34ffc59cca",
       "value": " 25.0/25.0 [00:00&lt;00:00, 1.84kB/s]"
      }
     },
     "73750c02cf534040a6b34524ee9dee9b": {
      "model_module": "@jupyter-widgets/base",
      "model_module_version": "1.2.0",
      "model_name": "LayoutModel",
      "state": {
       "_model_module": "@jupyter-widgets/base",
       "_model_module_version": "1.2.0",
       "_model_name": "LayoutModel",
       "_view_count": null,
       "_view_module": "@jupyter-widgets/base",
       "_view_module_version": "1.2.0",
       "_view_name": "LayoutView",
       "align_content": null,
       "align_items": null,
       "align_self": null,
       "border": null,
       "bottom": null,
       "display": null,
       "flex": null,
       "flex_flow": null,
       "grid_area": null,
       "grid_auto_columns": null,
       "grid_auto_flow": null,
       "grid_auto_rows": null,
       "grid_column": null,
       "grid_gap": null,
       "grid_row": null,
       "grid_template_areas": null,
       "grid_template_columns": null,
       "grid_template_rows": null,
       "height": null,
       "justify_content": null,
       "justify_items": null,
       "left": null,
       "margin": null,
       "max_height": null,
       "max_width": null,
       "min_height": null,
       "min_width": null,
       "object_fit": null,
       "object_position": null,
       "order": null,
       "overflow": null,
       "overflow_x": null,
       "overflow_y": null,
       "padding": null,
       "right": null,
       "top": null,
       "visibility": null,
       "width": null
      }
     },
     "7769798a3fc748af9b66fac21da8cbd8": {
      "model_module": "@jupyter-widgets/controls",
      "model_module_version": "1.5.0",
      "model_name": "FloatProgressModel",
      "state": {
       "_dom_classes": [],
       "_model_module": "@jupyter-widgets/controls",
       "_model_module_version": "1.5.0",
       "_model_name": "FloatProgressModel",
       "_view_count": null,
       "_view_module": "@jupyter-widgets/controls",
       "_view_module_version": "1.5.0",
       "_view_name": "ProgressView",
       "bar_style": "success",
       "description": "",
       "description_tooltip": null,
       "layout": "IPY_MODEL_d54dfc3a46ec4adc8472f234af12817b",
       "max": 456318,
       "min": 0,
       "orientation": "horizontal",
       "style": "IPY_MODEL_8ed6c8ed875f4da787e3972194e202b3",
       "value": 456318
      }
     },
     "7a0aef5303334707b9fbad3322e4427f": {
      "model_module": "@jupyter-widgets/controls",
      "model_module_version": "1.5.0",
      "model_name": "HBoxModel",
      "state": {
       "_dom_classes": [],
       "_model_module": "@jupyter-widgets/controls",
       "_model_module_version": "1.5.0",
       "_model_name": "HBoxModel",
       "_view_count": null,
       "_view_module": "@jupyter-widgets/controls",
       "_view_module_version": "1.5.0",
       "_view_name": "HBoxView",
       "box_style": "",
       "children": [
        "IPY_MODEL_f22b7de6b82d48b4afaab0f755e8e5f9",
        "IPY_MODEL_d1d44255acfb4535a4a6755953afbd92",
        "IPY_MODEL_935ca2f603344695a1f6d917e6031c2f"
       ],
       "layout": "IPY_MODEL_fbe8b1ded4044671ba6f61ae6c88f72c"
      }
     },
     "7d4515d70a28490c88b91dc25e730454": {
      "model_module": "@jupyter-widgets/controls",
      "model_module_version": "1.5.0",
      "model_name": "ProgressStyleModel",
      "state": {
       "_model_module": "@jupyter-widgets/controls",
       "_model_module_version": "1.5.0",
       "_model_name": "ProgressStyleModel",
       "_view_count": null,
       "_view_module": "@jupyter-widgets/base",
       "_view_module_version": "1.2.0",
       "_view_name": "StyleView",
       "bar_color": null,
       "description_width": ""
      }
     },
     "80e0936ff5b14b5aa7f0d49a78837bfb": {
      "model_module": "@jupyter-widgets/controls",
      "model_module_version": "1.5.0",
      "model_name": "HBoxModel",
      "state": {
       "_dom_classes": [],
       "_model_module": "@jupyter-widgets/controls",
       "_model_module_version": "1.5.0",
       "_model_name": "HBoxModel",
       "_view_count": null,
       "_view_module": "@jupyter-widgets/controls",
       "_view_module_version": "1.5.0",
       "_view_name": "HBoxView",
       "box_style": "",
       "children": [
        "IPY_MODEL_afaadb70aa224557b6daae8873213bf8",
        "IPY_MODEL_4c06850f6df94b00b37c50e576adf2fa",
        "IPY_MODEL_5daf8f67f4d84f18a9087eea1e6ff764"
       ],
       "layout": "IPY_MODEL_4e567331042f4c2a80c0014b8e9e6fcd"
      }
     },
     "886b6dbbd6a4413a91ab3fe9f1b8eaa5": {
      "model_module": "@jupyter-widgets/controls",
      "model_module_version": "1.5.0",
      "model_name": "ProgressStyleModel",
      "state": {
       "_model_module": "@jupyter-widgets/controls",
       "_model_module_version": "1.5.0",
       "_model_name": "ProgressStyleModel",
       "_view_count": null,
       "_view_module": "@jupyter-widgets/base",
       "_view_module_version": "1.2.0",
       "_view_name": "StyleView",
       "bar_color": null,
       "description_width": ""
      }
     },
     "8d08d954e4cf4db2816775aee43ef858": {
      "model_module": "@jupyter-widgets/base",
      "model_module_version": "1.2.0",
      "model_name": "LayoutModel",
      "state": {
       "_model_module": "@jupyter-widgets/base",
       "_model_module_version": "1.2.0",
       "_model_name": "LayoutModel",
       "_view_count": null,
       "_view_module": "@jupyter-widgets/base",
       "_view_module_version": "1.2.0",
       "_view_name": "LayoutView",
       "align_content": null,
       "align_items": null,
       "align_self": null,
       "border": null,
       "bottom": null,
       "display": null,
       "flex": null,
       "flex_flow": null,
       "grid_area": null,
       "grid_auto_columns": null,
       "grid_auto_flow": null,
       "grid_auto_rows": null,
       "grid_column": null,
       "grid_gap": null,
       "grid_row": null,
       "grid_template_areas": null,
       "grid_template_columns": null,
       "grid_template_rows": null,
       "height": null,
       "justify_content": null,
       "justify_items": null,
       "left": null,
       "margin": null,
       "max_height": null,
       "max_width": null,
       "min_height": null,
       "min_width": null,
       "object_fit": null,
       "object_position": null,
       "order": null,
       "overflow": null,
       "overflow_x": null,
       "overflow_y": null,
       "padding": null,
       "right": null,
       "top": null,
       "visibility": null,
       "width": null
      }
     },
     "8ed6c8ed875f4da787e3972194e202b3": {
      "model_module": "@jupyter-widgets/controls",
      "model_module_version": "1.5.0",
      "model_name": "ProgressStyleModel",
      "state": {
       "_model_module": "@jupyter-widgets/controls",
       "_model_module_version": "1.5.0",
       "_model_name": "ProgressStyleModel",
       "_view_count": null,
       "_view_module": "@jupyter-widgets/base",
       "_view_module_version": "1.2.0",
       "_view_name": "StyleView",
       "bar_color": null,
       "description_width": ""
      }
     },
     "935ca2f603344695a1f6d917e6031c2f": {
      "model_module": "@jupyter-widgets/controls",
      "model_module_version": "1.5.0",
      "model_name": "HTMLModel",
      "state": {
       "_dom_classes": [],
       "_model_module": "@jupyter-widgets/controls",
       "_model_module_version": "1.5.0",
       "_model_name": "HTMLModel",
       "_view_count": null,
       "_view_module": "@jupyter-widgets/controls",
       "_view_module_version": "1.5.0",
       "_view_name": "HTMLView",
       "description": "",
       "description_tooltip": null,
       "layout": "IPY_MODEL_bc3989e86e304a1da1d404c4baaf69f6",
       "placeholder": "​",
       "style": "IPY_MODEL_be449d51055b4fda9919b54f78dc35e6",
       "value": " 1.36M/1.36M [00:00&lt;00:00, 55.1MB/s]"
      }
     },
     "9deed2f2f38546a5937bb25a8c1a1543": {
      "model_module": "@jupyter-widgets/controls",
      "model_module_version": "1.5.0",
      "model_name": "DescriptionStyleModel",
      "state": {
       "_model_module": "@jupyter-widgets/controls",
       "_model_module_version": "1.5.0",
       "_model_name": "DescriptionStyleModel",
       "_view_count": null,
       "_view_module": "@jupyter-widgets/base",
       "_view_module_version": "1.2.0",
       "_view_name": "StyleView",
       "description_width": ""
      }
     },
     "a00c43091c604b9895955b9eee955593": {
      "model_module": "@jupyter-widgets/controls",
      "model_module_version": "1.5.0",
      "model_name": "FloatProgressModel",
      "state": {
       "_dom_classes": [],
       "_model_module": "@jupyter-widgets/controls",
       "_model_module_version": "1.5.0",
       "_model_name": "FloatProgressModel",
       "_view_count": null,
       "_view_module": "@jupyter-widgets/controls",
       "_view_module_version": "1.5.0",
       "_view_name": "ProgressView",
       "bar_style": "success",
       "description": "",
       "description_tooltip": null,
       "layout": "IPY_MODEL_3a3b098bf97f46adb1555e20e7536bf9",
       "max": 498818054,
       "min": 0,
       "orientation": "horizontal",
       "style": "IPY_MODEL_44b3999cc5c4421bbd4052e968c6d84f",
       "value": 498818054
      }
     },
     "a6e26137eb69430ba931115f3e698e01": {
      "model_module": "@jupyter-widgets/controls",
      "model_module_version": "1.5.0",
      "model_name": "HBoxModel",
      "state": {
       "_dom_classes": [],
       "_model_module": "@jupyter-widgets/controls",
       "_model_module_version": "1.5.0",
       "_model_name": "HBoxModel",
       "_view_count": null,
       "_view_module": "@jupyter-widgets/controls",
       "_view_module_version": "1.5.0",
       "_view_name": "HBoxView",
       "box_style": "",
       "children": [
        "IPY_MODEL_e729b1dfa5fb442c8e73ff2a78560540",
        "IPY_MODEL_4bd5adf4c5a047b4bcba77b6791af21d",
        "IPY_MODEL_5faa8b2bbe32449ab998b5906a350770"
       ],
       "layout": "IPY_MODEL_491484c7df4e4e09a8dbcd3d9fca224e"
      }
     },
     "aa2b481aa665449eb3dd983597693f97": {
      "model_module": "@jupyter-widgets/base",
      "model_module_version": "1.2.0",
      "model_name": "LayoutModel",
      "state": {
       "_model_module": "@jupyter-widgets/base",
       "_model_module_version": "1.2.0",
       "_model_name": "LayoutModel",
       "_view_count": null,
       "_view_module": "@jupyter-widgets/base",
       "_view_module_version": "1.2.0",
       "_view_name": "LayoutView",
       "align_content": null,
       "align_items": null,
       "align_self": null,
       "border": null,
       "bottom": null,
       "display": null,
       "flex": null,
       "flex_flow": null,
       "grid_area": null,
       "grid_auto_columns": null,
       "grid_auto_flow": null,
       "grid_auto_rows": null,
       "grid_column": null,
       "grid_gap": null,
       "grid_row": null,
       "grid_template_areas": null,
       "grid_template_columns": null,
       "grid_template_rows": null,
       "height": null,
       "justify_content": null,
       "justify_items": null,
       "left": null,
       "margin": null,
       "max_height": null,
       "max_width": null,
       "min_height": null,
       "min_width": null,
       "object_fit": null,
       "object_position": null,
       "order": null,
       "overflow": null,
       "overflow_x": null,
       "overflow_y": null,
       "padding": null,
       "right": null,
       "top": null,
       "visibility": null,
       "width": null
      }
     },
     "ac204b4e25b04532a42beaad60b69072": {
      "model_module": "@jupyter-widgets/controls",
      "model_module_version": "1.5.0",
      "model_name": "DescriptionStyleModel",
      "state": {
       "_model_module": "@jupyter-widgets/controls",
       "_model_module_version": "1.5.0",
       "_model_name": "DescriptionStyleModel",
       "_view_count": null,
       "_view_module": "@jupyter-widgets/base",
       "_view_module_version": "1.2.0",
       "_view_name": "StyleView",
       "description_width": ""
      }
     },
     "adde3770afdc4880949b1aee87430f04": {
      "model_module": "@jupyter-widgets/controls",
      "model_module_version": "1.5.0",
      "model_name": "HTMLModel",
      "state": {
       "_dom_classes": [],
       "_model_module": "@jupyter-widgets/controls",
       "_model_module_version": "1.5.0",
       "_model_name": "HTMLModel",
       "_view_count": null,
       "_view_module": "@jupyter-widgets/controls",
       "_view_module_version": "1.5.0",
       "_view_name": "HTMLView",
       "description": "",
       "description_tooltip": null,
       "layout": "IPY_MODEL_fe5aa90d7bb74cacb88441bb09f168f6",
       "placeholder": "​",
       "style": "IPY_MODEL_192f2b2477ca4fbc9bee1866bac76b2d",
       "value": " 456k/456k [00:00&lt;00:00, 33.1MB/s]"
      }
     },
     "af6ad3443fa14bb897a644d5b64ebdcc": {
      "model_module": "@jupyter-widgets/base",
      "model_module_version": "1.2.0",
      "model_name": "LayoutModel",
      "state": {
       "_model_module": "@jupyter-widgets/base",
       "_model_module_version": "1.2.0",
       "_model_name": "LayoutModel",
       "_view_count": null,
       "_view_module": "@jupyter-widgets/base",
       "_view_module_version": "1.2.0",
       "_view_name": "LayoutView",
       "align_content": null,
       "align_items": null,
       "align_self": null,
       "border": null,
       "bottom": null,
       "display": null,
       "flex": null,
       "flex_flow": null,
       "grid_area": null,
       "grid_auto_columns": null,
       "grid_auto_flow": null,
       "grid_auto_rows": null,
       "grid_column": null,
       "grid_gap": null,
       "grid_row": null,
       "grid_template_areas": null,
       "grid_template_columns": null,
       "grid_template_rows": null,
       "height": null,
       "justify_content": null,
       "justify_items": null,
       "left": null,
       "margin": null,
       "max_height": null,
       "max_width": null,
       "min_height": null,
       "min_width": null,
       "object_fit": null,
       "object_position": null,
       "order": null,
       "overflow": null,
       "overflow_x": null,
       "overflow_y": null,
       "padding": null,
       "right": null,
       "top": null,
       "visibility": null,
       "width": null
      }
     },
     "afaadb70aa224557b6daae8873213bf8": {
      "model_module": "@jupyter-widgets/controls",
      "model_module_version": "1.5.0",
      "model_name": "HTMLModel",
      "state": {
       "_dom_classes": [],
       "_model_module": "@jupyter-widgets/controls",
       "_model_module_version": "1.5.0",
       "_model_name": "HTMLModel",
       "_view_count": null,
       "_view_module": "@jupyter-widgets/controls",
       "_view_module_version": "1.5.0",
       "_view_name": "HTMLView",
       "description": "",
       "description_tooltip": null,
       "layout": "IPY_MODEL_df4f008d1fa14e0a9a74661b27956318",
       "placeholder": "​",
       "style": "IPY_MODEL_c5e08e68f4e34376967ea6cfbc9711e7",
       "value": "config.json: 100%"
      }
     },
     "b0f24e041c2b47df829412e54c014a27": {
      "model_module": "@jupyter-widgets/base",
      "model_module_version": "1.2.0",
      "model_name": "LayoutModel",
      "state": {
       "_model_module": "@jupyter-widgets/base",
       "_model_module_version": "1.2.0",
       "_model_name": "LayoutModel",
       "_view_count": null,
       "_view_module": "@jupyter-widgets/base",
       "_view_module_version": "1.2.0",
       "_view_name": "LayoutView",
       "align_content": null,
       "align_items": null,
       "align_self": null,
       "border": null,
       "bottom": null,
       "display": null,
       "flex": null,
       "flex_flow": null,
       "grid_area": null,
       "grid_auto_columns": null,
       "grid_auto_flow": null,
       "grid_auto_rows": null,
       "grid_column": null,
       "grid_gap": null,
       "grid_row": null,
       "grid_template_areas": null,
       "grid_template_columns": null,
       "grid_template_rows": null,
       "height": null,
       "justify_content": null,
       "justify_items": null,
       "left": null,
       "margin": null,
       "max_height": null,
       "max_width": null,
       "min_height": null,
       "min_width": null,
       "object_fit": null,
       "object_position": null,
       "order": null,
       "overflow": null,
       "overflow_x": null,
       "overflow_y": null,
       "padding": null,
       "right": null,
       "top": null,
       "visibility": null,
       "width": null
      }
     },
     "b2533c001c3045efaeffe8f691e7266a": {
      "model_module": "@jupyter-widgets/base",
      "model_module_version": "1.2.0",
      "model_name": "LayoutModel",
      "state": {
       "_model_module": "@jupyter-widgets/base",
       "_model_module_version": "1.2.0",
       "_model_name": "LayoutModel",
       "_view_count": null,
       "_view_module": "@jupyter-widgets/base",
       "_view_module_version": "1.2.0",
       "_view_name": "LayoutView",
       "align_content": null,
       "align_items": null,
       "align_self": null,
       "border": null,
       "bottom": null,
       "display": null,
       "flex": null,
       "flex_flow": null,
       "grid_area": null,
       "grid_auto_columns": null,
       "grid_auto_flow": null,
       "grid_auto_rows": null,
       "grid_column": null,
       "grid_gap": null,
       "grid_row": null,
       "grid_template_areas": null,
       "grid_template_columns": null,
       "grid_template_rows": null,
       "height": null,
       "justify_content": null,
       "justify_items": null,
       "left": null,
       "margin": null,
       "max_height": null,
       "max_width": null,
       "min_height": null,
       "min_width": null,
       "object_fit": null,
       "object_position": null,
       "order": null,
       "overflow": null,
       "overflow_x": null,
       "overflow_y": null,
       "padding": null,
       "right": null,
       "top": null,
       "visibility": null,
       "width": null
      }
     },
     "b7e74d5eb8c94674a5d1c2f4faa9daf7": {
      "model_module": "@jupyter-widgets/controls",
      "model_module_version": "1.5.0",
      "model_name": "ProgressStyleModel",
      "state": {
       "_model_module": "@jupyter-widgets/controls",
       "_model_module_version": "1.5.0",
       "_model_name": "ProgressStyleModel",
       "_view_count": null,
       "_view_module": "@jupyter-widgets/base",
       "_view_module_version": "1.2.0",
       "_view_name": "StyleView",
       "bar_color": null,
       "description_width": ""
      }
     },
     "b984bfe77c8e4841a87b77ebae7c395c": {
      "model_module": "@jupyter-widgets/controls",
      "model_module_version": "1.5.0",
      "model_name": "HTMLModel",
      "state": {
       "_dom_classes": [],
       "_model_module": "@jupyter-widgets/controls",
       "_model_module_version": "1.5.0",
       "_model_name": "HTMLModel",
       "_view_count": null,
       "_view_module": "@jupyter-widgets/controls",
       "_view_module_version": "1.5.0",
       "_view_name": "HTMLView",
       "description": "",
       "description_tooltip": null,
       "layout": "IPY_MODEL_ea4ae9e855194b498c9d3cdaa558120d",
       "placeholder": "​",
       "style": "IPY_MODEL_1e95695f3ee246fab3e2e9d97e6b9d56",
       "value": "model.safetensors: 100%"
      }
     },
     "bc3989e86e304a1da1d404c4baaf69f6": {
      "model_module": "@jupyter-widgets/base",
      "model_module_version": "1.2.0",
      "model_name": "LayoutModel",
      "state": {
       "_model_module": "@jupyter-widgets/base",
       "_model_module_version": "1.2.0",
       "_model_name": "LayoutModel",
       "_view_count": null,
       "_view_module": "@jupyter-widgets/base",
       "_view_module_version": "1.2.0",
       "_view_name": "LayoutView",
       "align_content": null,
       "align_items": null,
       "align_self": null,
       "border": null,
       "bottom": null,
       "display": null,
       "flex": null,
       "flex_flow": null,
       "grid_area": null,
       "grid_auto_columns": null,
       "grid_auto_flow": null,
       "grid_auto_rows": null,
       "grid_column": null,
       "grid_gap": null,
       "grid_row": null,
       "grid_template_areas": null,
       "grid_template_columns": null,
       "grid_template_rows": null,
       "height": null,
       "justify_content": null,
       "justify_items": null,
       "left": null,
       "margin": null,
       "max_height": null,
       "max_width": null,
       "min_height": null,
       "min_width": null,
       "object_fit": null,
       "object_position": null,
       "order": null,
       "overflow": null,
       "overflow_x": null,
       "overflow_y": null,
       "padding": null,
       "right": null,
       "top": null,
       "visibility": null,
       "width": null
      }
     },
     "be449d51055b4fda9919b54f78dc35e6": {
      "model_module": "@jupyter-widgets/controls",
      "model_module_version": "1.5.0",
      "model_name": "DescriptionStyleModel",
      "state": {
       "_model_module": "@jupyter-widgets/controls",
       "_model_module_version": "1.5.0",
       "_model_name": "DescriptionStyleModel",
       "_view_count": null,
       "_view_module": "@jupyter-widgets/base",
       "_view_module_version": "1.2.0",
       "_view_name": "StyleView",
       "description_width": ""
      }
     },
     "beea2a34688849b9b7151aa605a1b8d4": {
      "model_module": "@jupyter-widgets/base",
      "model_module_version": "1.2.0",
      "model_name": "LayoutModel",
      "state": {
       "_model_module": "@jupyter-widgets/base",
       "_model_module_version": "1.2.0",
       "_model_name": "LayoutModel",
       "_view_count": null,
       "_view_module": "@jupyter-widgets/base",
       "_view_module_version": "1.2.0",
       "_view_name": "LayoutView",
       "align_content": null,
       "align_items": null,
       "align_self": null,
       "border": null,
       "bottom": null,
       "display": null,
       "flex": null,
       "flex_flow": null,
       "grid_area": null,
       "grid_auto_columns": null,
       "grid_auto_flow": null,
       "grid_auto_rows": null,
       "grid_column": null,
       "grid_gap": null,
       "grid_row": null,
       "grid_template_areas": null,
       "grid_template_columns": null,
       "grid_template_rows": null,
       "height": null,
       "justify_content": null,
       "justify_items": null,
       "left": null,
       "margin": null,
       "max_height": null,
       "max_width": null,
       "min_height": null,
       "min_width": null,
       "object_fit": null,
       "object_position": null,
       "order": null,
       "overflow": null,
       "overflow_x": null,
       "overflow_y": null,
       "padding": null,
       "right": null,
       "top": null,
       "visibility": null,
       "width": null
      }
     },
     "c5e08e68f4e34376967ea6cfbc9711e7": {
      "model_module": "@jupyter-widgets/controls",
      "model_module_version": "1.5.0",
      "model_name": "DescriptionStyleModel",
      "state": {
       "_model_module": "@jupyter-widgets/controls",
       "_model_module_version": "1.5.0",
       "_model_name": "DescriptionStyleModel",
       "_view_count": null,
       "_view_module": "@jupyter-widgets/base",
       "_view_module_version": "1.2.0",
       "_view_name": "StyleView",
       "description_width": ""
      }
     },
     "d0a79f1a15894b13ae0ca0f106d7722f": {
      "model_module": "@jupyter-widgets/base",
      "model_module_version": "1.2.0",
      "model_name": "LayoutModel",
      "state": {
       "_model_module": "@jupyter-widgets/base",
       "_model_module_version": "1.2.0",
       "_model_name": "LayoutModel",
       "_view_count": null,
       "_view_module": "@jupyter-widgets/base",
       "_view_module_version": "1.2.0",
       "_view_name": "LayoutView",
       "align_content": null,
       "align_items": null,
       "align_self": null,
       "border": null,
       "bottom": null,
       "display": null,
       "flex": null,
       "flex_flow": null,
       "grid_area": null,
       "grid_auto_columns": null,
       "grid_auto_flow": null,
       "grid_auto_rows": null,
       "grid_column": null,
       "grid_gap": null,
       "grid_row": null,
       "grid_template_areas": null,
       "grid_template_columns": null,
       "grid_template_rows": null,
       "height": null,
       "justify_content": null,
       "justify_items": null,
       "left": null,
       "margin": null,
       "max_height": null,
       "max_width": null,
       "min_height": null,
       "min_width": null,
       "object_fit": null,
       "object_position": null,
       "order": null,
       "overflow": null,
       "overflow_x": null,
       "overflow_y": null,
       "padding": null,
       "right": null,
       "top": null,
       "visibility": null,
       "width": null
      }
     },
     "d1d44255acfb4535a4a6755953afbd92": {
      "model_module": "@jupyter-widgets/controls",
      "model_module_version": "1.5.0",
      "model_name": "FloatProgressModel",
      "state": {
       "_dom_classes": [],
       "_model_module": "@jupyter-widgets/controls",
       "_model_module_version": "1.5.0",
       "_model_name": "FloatProgressModel",
       "_view_count": null,
       "_view_module": "@jupyter-widgets/controls",
       "_view_module_version": "1.5.0",
       "_view_name": "ProgressView",
       "bar_style": "success",
       "description": "",
       "description_tooltip": null,
       "layout": "IPY_MODEL_3be5cf087e264fedbe7c9d4ad8575ffc",
       "max": 1355863,
       "min": 0,
       "orientation": "horizontal",
       "style": "IPY_MODEL_ed975f7c14a0468aba212cee053ef122",
       "value": 1355863
      }
     },
     "d3c9062a9b414e4a856b1d34ffc59cca": {
      "model_module": "@jupyter-widgets/controls",
      "model_module_version": "1.5.0",
      "model_name": "DescriptionStyleModel",
      "state": {
       "_model_module": "@jupyter-widgets/controls",
       "_model_module_version": "1.5.0",
       "_model_name": "DescriptionStyleModel",
       "_view_count": null,
       "_view_module": "@jupyter-widgets/base",
       "_view_module_version": "1.2.0",
       "_view_name": "StyleView",
       "description_width": ""
      }
     },
     "d54dfc3a46ec4adc8472f234af12817b": {
      "model_module": "@jupyter-widgets/base",
      "model_module_version": "1.2.0",
      "model_name": "LayoutModel",
      "state": {
       "_model_module": "@jupyter-widgets/base",
       "_model_module_version": "1.2.0",
       "_model_name": "LayoutModel",
       "_view_count": null,
       "_view_module": "@jupyter-widgets/base",
       "_view_module_version": "1.2.0",
       "_view_name": "LayoutView",
       "align_content": null,
       "align_items": null,
       "align_self": null,
       "border": null,
       "bottom": null,
       "display": null,
       "flex": null,
       "flex_flow": null,
       "grid_area": null,
       "grid_auto_columns": null,
       "grid_auto_flow": null,
       "grid_auto_rows": null,
       "grid_column": null,
       "grid_gap": null,
       "grid_row": null,
       "grid_template_areas": null,
       "grid_template_columns": null,
       "grid_template_rows": null,
       "height": null,
       "justify_content": null,
       "justify_items": null,
       "left": null,
       "margin": null,
       "max_height": null,
       "max_width": null,
       "min_height": null,
       "min_width": null,
       "object_fit": null,
       "object_position": null,
       "order": null,
       "overflow": null,
       "overflow_x": null,
       "overflow_y": null,
       "padding": null,
       "right": null,
       "top": null,
       "visibility": null,
       "width": null
      }
     },
     "d817862c9393448ba6b1180bd858155c": {
      "model_module": "@jupyter-widgets/base",
      "model_module_version": "1.2.0",
      "model_name": "LayoutModel",
      "state": {
       "_model_module": "@jupyter-widgets/base",
       "_model_module_version": "1.2.0",
       "_model_name": "LayoutModel",
       "_view_count": null,
       "_view_module": "@jupyter-widgets/base",
       "_view_module_version": "1.2.0",
       "_view_name": "LayoutView",
       "align_content": null,
       "align_items": null,
       "align_self": null,
       "border": null,
       "bottom": null,
       "display": null,
       "flex": null,
       "flex_flow": null,
       "grid_area": null,
       "grid_auto_columns": null,
       "grid_auto_flow": null,
       "grid_auto_rows": null,
       "grid_column": null,
       "grid_gap": null,
       "grid_row": null,
       "grid_template_areas": null,
       "grid_template_columns": null,
       "grid_template_rows": null,
       "height": null,
       "justify_content": null,
       "justify_items": null,
       "left": null,
       "margin": null,
       "max_height": null,
       "max_width": null,
       "min_height": null,
       "min_width": null,
       "object_fit": null,
       "object_position": null,
       "order": null,
       "overflow": null,
       "overflow_x": null,
       "overflow_y": null,
       "padding": null,
       "right": null,
       "top": null,
       "visibility": null,
       "width": null
      }
     },
     "df4f008d1fa14e0a9a74661b27956318": {
      "model_module": "@jupyter-widgets/base",
      "model_module_version": "1.2.0",
      "model_name": "LayoutModel",
      "state": {
       "_model_module": "@jupyter-widgets/base",
       "_model_module_version": "1.2.0",
       "_model_name": "LayoutModel",
       "_view_count": null,
       "_view_module": "@jupyter-widgets/base",
       "_view_module_version": "1.2.0",
       "_view_name": "LayoutView",
       "align_content": null,
       "align_items": null,
       "align_self": null,
       "border": null,
       "bottom": null,
       "display": null,
       "flex": null,
       "flex_flow": null,
       "grid_area": null,
       "grid_auto_columns": null,
       "grid_auto_flow": null,
       "grid_auto_rows": null,
       "grid_column": null,
       "grid_gap": null,
       "grid_row": null,
       "grid_template_areas": null,
       "grid_template_columns": null,
       "grid_template_rows": null,
       "height": null,
       "justify_content": null,
       "justify_items": null,
       "left": null,
       "margin": null,
       "max_height": null,
       "max_width": null,
       "min_height": null,
       "min_width": null,
       "object_fit": null,
       "object_position": null,
       "order": null,
       "overflow": null,
       "overflow_x": null,
       "overflow_y": null,
       "padding": null,
       "right": null,
       "top": null,
       "visibility": null,
       "width": null
      }
     },
     "e4dbcea4900a4d8eb19934f924a9acbc": {
      "model_module": "@jupyter-widgets/base",
      "model_module_version": "1.2.0",
      "model_name": "LayoutModel",
      "state": {
       "_model_module": "@jupyter-widgets/base",
       "_model_module_version": "1.2.0",
       "_model_name": "LayoutModel",
       "_view_count": null,
       "_view_module": "@jupyter-widgets/base",
       "_view_module_version": "1.2.0",
       "_view_name": "LayoutView",
       "align_content": null,
       "align_items": null,
       "align_self": null,
       "border": null,
       "bottom": null,
       "display": null,
       "flex": null,
       "flex_flow": null,
       "grid_area": null,
       "grid_auto_columns": null,
       "grid_auto_flow": null,
       "grid_auto_rows": null,
       "grid_column": null,
       "grid_gap": null,
       "grid_row": null,
       "grid_template_areas": null,
       "grid_template_columns": null,
       "grid_template_rows": null,
       "height": null,
       "justify_content": null,
       "justify_items": null,
       "left": null,
       "margin": null,
       "max_height": null,
       "max_width": null,
       "min_height": null,
       "min_width": null,
       "object_fit": null,
       "object_position": null,
       "order": null,
       "overflow": null,
       "overflow_x": null,
       "overflow_y": null,
       "padding": null,
       "right": null,
       "top": null,
       "visibility": null,
       "width": null
      }
     },
     "e729b1dfa5fb442c8e73ff2a78560540": {
      "model_module": "@jupyter-widgets/controls",
      "model_module_version": "1.5.0",
      "model_name": "HTMLModel",
      "state": {
       "_dom_classes": [],
       "_model_module": "@jupyter-widgets/controls",
       "_model_module_version": "1.5.0",
       "_model_name": "HTMLModel",
       "_view_count": null,
       "_view_module": "@jupyter-widgets/controls",
       "_view_module_version": "1.5.0",
       "_view_name": "HTMLView",
       "description": "",
       "description_tooltip": null,
       "layout": "IPY_MODEL_e4dbcea4900a4d8eb19934f924a9acbc",
       "placeholder": "​",
       "style": "IPY_MODEL_9deed2f2f38546a5937bb25a8c1a1543",
       "value": "vocab.json: 100%"
      }
     },
     "ea4ae9e855194b498c9d3cdaa558120d": {
      "model_module": "@jupyter-widgets/base",
      "model_module_version": "1.2.0",
      "model_name": "LayoutModel",
      "state": {
       "_model_module": "@jupyter-widgets/base",
       "_model_module_version": "1.2.0",
       "_model_name": "LayoutModel",
       "_view_count": null,
       "_view_module": "@jupyter-widgets/base",
       "_view_module_version": "1.2.0",
       "_view_name": "LayoutView",
       "align_content": null,
       "align_items": null,
       "align_self": null,
       "border": null,
       "bottom": null,
       "display": null,
       "flex": null,
       "flex_flow": null,
       "grid_area": null,
       "grid_auto_columns": null,
       "grid_auto_flow": null,
       "grid_auto_rows": null,
       "grid_column": null,
       "grid_gap": null,
       "grid_row": null,
       "grid_template_areas": null,
       "grid_template_columns": null,
       "grid_template_rows": null,
       "height": null,
       "justify_content": null,
       "justify_items": null,
       "left": null,
       "margin": null,
       "max_height": null,
       "max_width": null,
       "min_height": null,
       "min_width": null,
       "object_fit": null,
       "object_position": null,
       "order": null,
       "overflow": null,
       "overflow_x": null,
       "overflow_y": null,
       "padding": null,
       "right": null,
       "top": null,
       "visibility": null,
       "width": null
      }
     },
     "ed975f7c14a0468aba212cee053ef122": {
      "model_module": "@jupyter-widgets/controls",
      "model_module_version": "1.5.0",
      "model_name": "ProgressStyleModel",
      "state": {
       "_model_module": "@jupyter-widgets/controls",
       "_model_module_version": "1.5.0",
       "_model_name": "ProgressStyleModel",
       "_view_count": null,
       "_view_module": "@jupyter-widgets/base",
       "_view_module_version": "1.2.0",
       "_view_name": "StyleView",
       "bar_color": null,
       "description_width": ""
      }
     },
     "f22b7de6b82d48b4afaab0f755e8e5f9": {
      "model_module": "@jupyter-widgets/controls",
      "model_module_version": "1.5.0",
      "model_name": "HTMLModel",
      "state": {
       "_dom_classes": [],
       "_model_module": "@jupyter-widgets/controls",
       "_model_module_version": "1.5.0",
       "_model_name": "HTMLModel",
       "_view_count": null,
       "_view_module": "@jupyter-widgets/controls",
       "_view_module_version": "1.5.0",
       "_view_name": "HTMLView",
       "description": "",
       "description_tooltip": null,
       "layout": "IPY_MODEL_af6ad3443fa14bb897a644d5b64ebdcc",
       "placeholder": "​",
       "style": "IPY_MODEL_ac204b4e25b04532a42beaad60b69072",
       "value": "tokenizer.json: 100%"
      }
     },
     "f48b533165aa4b7ea36368d707ca6cb2": {
      "model_module": "@jupyter-widgets/base",
      "model_module_version": "1.2.0",
      "model_name": "LayoutModel",
      "state": {
       "_model_module": "@jupyter-widgets/base",
       "_model_module_version": "1.2.0",
       "_model_name": "LayoutModel",
       "_view_count": null,
       "_view_module": "@jupyter-widgets/base",
       "_view_module_version": "1.2.0",
       "_view_name": "LayoutView",
       "align_content": null,
       "align_items": null,
       "align_self": null,
       "border": null,
       "bottom": null,
       "display": null,
       "flex": null,
       "flex_flow": null,
       "grid_area": null,
       "grid_auto_columns": null,
       "grid_auto_flow": null,
       "grid_auto_rows": null,
       "grid_column": null,
       "grid_gap": null,
       "grid_row": null,
       "grid_template_areas": null,
       "grid_template_columns": null,
       "grid_template_rows": null,
       "height": null,
       "justify_content": null,
       "justify_items": null,
       "left": null,
       "margin": null,
       "max_height": null,
       "max_width": null,
       "min_height": null,
       "min_width": null,
       "object_fit": null,
       "object_position": null,
       "order": null,
       "overflow": null,
       "overflow_x": null,
       "overflow_y": null,
       "padding": null,
       "right": null,
       "top": null,
       "visibility": null,
       "width": null
      }
     },
     "f56b7f952a2547b48ffd9025654dff56": {
      "model_module": "@jupyter-widgets/base",
      "model_module_version": "1.2.0",
      "model_name": "LayoutModel",
      "state": {
       "_model_module": "@jupyter-widgets/base",
       "_model_module_version": "1.2.0",
       "_model_name": "LayoutModel",
       "_view_count": null,
       "_view_module": "@jupyter-widgets/base",
       "_view_module_version": "1.2.0",
       "_view_name": "LayoutView",
       "align_content": null,
       "align_items": null,
       "align_self": null,
       "border": null,
       "bottom": null,
       "display": null,
       "flex": null,
       "flex_flow": null,
       "grid_area": null,
       "grid_auto_columns": null,
       "grid_auto_flow": null,
       "grid_auto_rows": null,
       "grid_column": null,
       "grid_gap": null,
       "grid_row": null,
       "grid_template_areas": null,
       "grid_template_columns": null,
       "grid_template_rows": null,
       "height": null,
       "justify_content": null,
       "justify_items": null,
       "left": null,
       "margin": null,
       "max_height": null,
       "max_width": null,
       "min_height": null,
       "min_width": null,
       "object_fit": null,
       "object_position": null,
       "order": null,
       "overflow": null,
       "overflow_x": null,
       "overflow_y": null,
       "padding": null,
       "right": null,
       "top": null,
       "visibility": null,
       "width": null
      }
     },
     "f63fd9df11df498ea7689ffc9393f8c2": {
      "model_module": "@jupyter-widgets/controls",
      "model_module_version": "1.5.0",
      "model_name": "DescriptionStyleModel",
      "state": {
       "_model_module": "@jupyter-widgets/controls",
       "_model_module_version": "1.5.0",
       "_model_name": "DescriptionStyleModel",
       "_view_count": null,
       "_view_module": "@jupyter-widgets/base",
       "_view_module_version": "1.2.0",
       "_view_name": "StyleView",
       "description_width": ""
      }
     },
     "fbe8b1ded4044671ba6f61ae6c88f72c": {
      "model_module": "@jupyter-widgets/base",
      "model_module_version": "1.2.0",
      "model_name": "LayoutModel",
      "state": {
       "_model_module": "@jupyter-widgets/base",
       "_model_module_version": "1.2.0",
       "_model_name": "LayoutModel",
       "_view_count": null,
       "_view_module": "@jupyter-widgets/base",
       "_view_module_version": "1.2.0",
       "_view_name": "LayoutView",
       "align_content": null,
       "align_items": null,
       "align_self": null,
       "border": null,
       "bottom": null,
       "display": null,
       "flex": null,
       "flex_flow": null,
       "grid_area": null,
       "grid_auto_columns": null,
       "grid_auto_flow": null,
       "grid_auto_rows": null,
       "grid_column": null,
       "grid_gap": null,
       "grid_row": null,
       "grid_template_areas": null,
       "grid_template_columns": null,
       "grid_template_rows": null,
       "height": null,
       "justify_content": null,
       "justify_items": null,
       "left": null,
       "margin": null,
       "max_height": null,
       "max_width": null,
       "min_height": null,
       "min_width": null,
       "object_fit": null,
       "object_position": null,
       "order": null,
       "overflow": null,
       "overflow_x": null,
       "overflow_y": null,
       "padding": null,
       "right": null,
       "top": null,
       "visibility": null,
       "width": null
      }
     },
     "fe5aa90d7bb74cacb88441bb09f168f6": {
      "model_module": "@jupyter-widgets/base",
      "model_module_version": "1.2.0",
      "model_name": "LayoutModel",
      "state": {
       "_model_module": "@jupyter-widgets/base",
       "_model_module_version": "1.2.0",
       "_model_name": "LayoutModel",
       "_view_count": null,
       "_view_module": "@jupyter-widgets/base",
       "_view_module_version": "1.2.0",
       "_view_name": "LayoutView",
       "align_content": null,
       "align_items": null,
       "align_self": null,
       "border": null,
       "bottom": null,
       "display": null,
       "flex": null,
       "flex_flow": null,
       "grid_area": null,
       "grid_auto_columns": null,
       "grid_auto_flow": null,
       "grid_auto_rows": null,
       "grid_column": null,
       "grid_gap": null,
       "grid_row": null,
       "grid_template_areas": null,
       "grid_template_columns": null,
       "grid_template_rows": null,
       "height": null,
       "justify_content": null,
       "justify_items": null,
       "left": null,
       "margin": null,
       "max_height": null,
       "max_width": null,
       "min_height": null,
       "min_width": null,
       "object_fit": null,
       "object_position": null,
       "order": null,
       "overflow": null,
       "overflow_x": null,
       "overflow_y": null,
       "padding": null,
       "right": null,
       "top": null,
       "visibility": null,
       "width": null
      }
     }
    },
    "version_major": 2,
    "version_minor": 0
   }
  }
 },
 "nbformat": 4,
 "nbformat_minor": 5
}
