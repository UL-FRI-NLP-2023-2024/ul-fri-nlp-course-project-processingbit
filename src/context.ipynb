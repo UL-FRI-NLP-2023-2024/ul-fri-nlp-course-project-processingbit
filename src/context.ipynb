{
 "cells": [
  {
   "cell_type": "markdown",
   "metadata": {},
   "source": [
    "# Context for LLMs"
   ]
  },
  {
   "cell_type": "markdown",
   "metadata": {},
   "source": [
    "### Create story context"
   ]
  },
  {
   "cell_type": "code",
   "execution_count": null,
   "metadata": {},
   "outputs": [
    {
     "ename": "",
     "evalue": "",
     "output_type": "error",
     "traceback": [
      "\u001b[1;31mRunning cells with 'base (Python 3.12.2)' requires the ipykernel package.\n",
      "\u001b[1;31mRun the following command to install 'ipykernel' into the Python environment. \n",
      "\u001b[1;31mCommand: 'conda install -n base ipykernel --update-deps --force-reinstall'"
     ]
    }
   ],
   "source": [
    "# retrive xml file from LadyOrThetigerIMapBook.xml and parse it to get the text\n",
    "from xml.dom import minidom\n",
    "import os\n",
    "import sys\n",
    "import re\n",
    "import json\n",
    "import argparse\n",
    "\n",
    "def get_text_from_xml(xml_file):\n",
    "    # parse an xml file by name\n",
    "    mydoc = minidom.parse(xml_file)\n",
    "    items = mydoc.getElementsByTagName('text')\n",
    "    text = ''\n",
    "    for elem in items:\n",
    "        text += elem.firstChild.data\n",
    "    return text\n"
   ]
  },
  {
   "cell_type": "markdown",
   "metadata": {},
   "source": [
    "### Create class context"
   ]
  },
  {
   "cell_type": "code",
   "execution_count": null,
   "metadata": {},
   "outputs": [],
   "source": []
  }
 ],
 "metadata": {
  "kernelspec": {
   "display_name": "base",
   "language": "python",
   "name": "python3"
  },
  "language_info": {
   "name": "python",
   "version": "3.12.2"
  }
 },
 "nbformat": 4,
 "nbformat_minor": 2
}
