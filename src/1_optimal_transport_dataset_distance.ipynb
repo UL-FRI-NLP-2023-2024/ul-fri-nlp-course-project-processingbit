{
 "cells": [
  {
   "attachments": {},
   "cell_type": "markdown",
   "metadata": {},
   "source": [
    "# OTDD Dataset Comparison"
   ]
  },
  {
   "attachments": {},
   "cell_type": "markdown",
   "metadata": {},
   "source": [
    "### Imports"
   ]
  },
  {
   "cell_type": "code",
   "execution_count": 1,
   "metadata": {},
   "outputs": [
    {
     "name": "stderr",
     "output_type": "stream",
     "text": [
      "/opt/homebrew/Caskroom/miniforge/base/envs/otdd/lib/python3.8/site-packages/otdd/pytorch/distance.py:23: TqdmExperimentalWarning: Using `tqdm.autonotebook.tqdm` in notebook mode. Use `tqdm.tqdm` instead to force console mode (e.g. in jupyter console)\n",
      "  from tqdm.autonotebook import tqdm\n"
     ]
    },
    {
     "name": "stdout",
     "output_type": "stream",
     "text": [
      "[KeOps] Warning : omp.h header is not in the path, disabling OpenMP. To fix this, you can set the environment\n",
      "                  variable OMP_PATH to the location of the header before importing keopscore or pykeops,\n",
      "                  e.g. using os.environ: import os; os.environ['OMP_PATH'] = '/path/to/omp/header'\n",
      "[KeOps] Warning : Cuda libraries were not detected on the system or could not be loaded ; using cpu only mode\n"
     ]
    },
    {
     "name": "stderr",
     "output_type": "stream",
     "text": [
      "ot.gpu not found - coupling computation will be in cpu\n"
     ]
    }
   ],
   "source": [
    "import pandas as pd\n",
    "import numpy as np\n",
    "from word2number import w2n\n",
    "\n",
    "from otdd.pytorch.distance import DatasetDistance\n",
    "from sentence_transformers import SentenceTransformer\n",
    "\n",
    "import torch\n",
    "from torch.utils.data import DataLoader, TensorDataset\n",
    "\n",
    "import warnings\n",
    "warnings.filterwarnings('ignore')"
   ]
  },
  {
   "attachments": {},
   "cell_type": "markdown",
   "metadata": {},
   "source": [
    "### Preprocessing"
   ]
  },
  {
   "cell_type": "code",
   "execution_count": 2,
   "metadata": {},
   "outputs": [],
   "source": [
    "data1 = pd.read_csv('./data/cleaned_data.csv')\n",
    "data2 = pd.read_csv('./data/clean_data2.csv')"
   ]
  },
  {
   "cell_type": "code",
   "execution_count": 3,
   "metadata": {},
   "outputs": [],
   "source": [
    "# rename Book ID and Chat0CREW1 to book_id and chat_crew\n",
    "columns_to_rename = {'Dialogic Spell': 'dialogic_spell',\n",
    "                     'Discussion' : 'discussion_type',\n",
    "                     'Pivot' : 'pivot',\n",
    "                     'Question' : 'question',\n",
    "                     'Uptake' : 'uptake',\n",
    "                     }\n",
    "data1.rename(columns=columns_to_rename, inplace=True)"
   ]
  },
  {
   "cell_type": "code",
   "execution_count": 4,
   "metadata": {},
   "outputs": [
    {
     "data": {
      "text/plain": [
       "['book_id',\n",
       " 'bookclub',\n",
       " 'chat_crew',\n",
       " 'course',\n",
       " 'dialogic_spell',\n",
       " 'discussion_type',\n",
       " 'is_answer',\n",
       " 'message',\n",
       " 'page',\n",
       " 'pivot',\n",
       " 'pseudonym',\n",
       " 'question',\n",
       " 'response_number',\n",
       " 'time',\n",
       " 'topic',\n",
       " 'uptake']"
      ]
     },
     "execution_count": 4,
     "metadata": {},
     "output_type": "execute_result"
    }
   ],
   "source": [
    "sorted(data1.columns)"
   ]
  },
  {
   "cell_type": "code",
   "execution_count": 5,
   "metadata": {},
   "outputs": [
    {
     "data": {
      "text/plain": [
       "['book_id',\n",
       " 'bookclub',\n",
       " 'dialogic_spell',\n",
       " 'discussion_type',\n",
       " 'is_answer',\n",
       " 'message',\n",
       " 'page',\n",
       " 'pivot',\n",
       " 'pseudonym',\n",
       " 'question',\n",
       " 'time',\n",
       " 'topic',\n",
       " 'uptake']"
      ]
     },
     "execution_count": 5,
     "metadata": {},
     "output_type": "execute_result"
    }
   ],
   "source": [
    "sorted(data2.columns)"
   ]
  },
  {
   "cell_type": "code",
   "execution_count": 6,
   "metadata": {},
   "outputs": [
    {
     "name": "stdout",
     "output_type": "stream",
     "text": [
      "Columns will be removed: ['course', 'chat_crew', 'response_number']\n"
     ]
    }
   ],
   "source": [
    "columns_to_remove = list(set(data1.columns) - set(data2.columns))\n",
    "print('Columns will be removed: {}'.format(columns_to_remove))"
   ]
  },
  {
   "cell_type": "code",
   "execution_count": 7,
   "metadata": {},
   "outputs": [],
   "source": [
    "data1.drop(columns=columns_to_remove, inplace=True)"
   ]
  },
  {
   "cell_type": "code",
   "execution_count": 8,
   "metadata": {},
   "outputs": [],
   "source": [
    "# test if the columns are the same\n",
    "assert list(set(data1.columns) - set(data2.columns)) == []"
   ]
  },
  {
   "cell_type": "code",
   "execution_count": 9,
   "metadata": {},
   "outputs": [
    {
     "data": {
      "text/html": [
       "<div>\n",
       "<style scoped>\n",
       "    .dataframe tbody tr th:only-of-type {\n",
       "        vertical-align: middle;\n",
       "    }\n",
       "\n",
       "    .dataframe tbody tr th {\n",
       "        vertical-align: top;\n",
       "    }\n",
       "\n",
       "    .dataframe thead th {\n",
       "        text-align: right;\n",
       "    }\n",
       "</style>\n",
       "<table border=\"1\" class=\"dataframe\">\n",
       "  <thead>\n",
       "    <tr style=\"text-align: right;\">\n",
       "      <th></th>\n",
       "      <th>book_id</th>\n",
       "      <th>topic</th>\n",
       "      <th>bookclub</th>\n",
       "      <th>pseudonym</th>\n",
       "      <th>message</th>\n",
       "      <th>time</th>\n",
       "      <th>is_answer</th>\n",
       "      <th>page</th>\n",
       "      <th>discussion_type</th>\n",
       "      <th>dialogic_spell</th>\n",
       "      <th>uptake</th>\n",
       "      <th>question</th>\n",
       "      <th>pivot</th>\n",
       "    </tr>\n",
       "  </thead>\n",
       "  <tbody>\n",
       "    <tr>\n",
       "      <th>0</th>\n",
       "      <td>260</td>\n",
       "      <td>Part 1: What happens next? What is behind the ...</td>\n",
       "      <td>1</td>\n",
       "      <td>pim-01</td>\n",
       "      <td>Hello.</td>\n",
       "      <td>2020-10-20 17:06:00</td>\n",
       "      <td>False</td>\n",
       "      <td>10.0</td>\n",
       "      <td>Social</td>\n",
       "      <td>1.0</td>\n",
       "      <td>NaN</td>\n",
       "      <td>NaN</td>\n",
       "      <td>NaN</td>\n",
       "    </tr>\n",
       "    <tr>\n",
       "      <th>1</th>\n",
       "      <td>260</td>\n",
       "      <td>Part 1: What happens next? What is behind the ...</td>\n",
       "      <td>1</td>\n",
       "      <td>pim-01</td>\n",
       "      <td>My assumption is</td>\n",
       "      <td>2020-10-20 17:06:00</td>\n",
       "      <td>False</td>\n",
       "      <td>10.0</td>\n",
       "      <td>Seminar</td>\n",
       "      <td>1.0</td>\n",
       "      <td>NaN</td>\n",
       "      <td>NaN</td>\n",
       "      <td>from Social/Procedure/UX to Seminar</td>\n",
       "    </tr>\n",
       "    <tr>\n",
       "      <th>2</th>\n",
       "      <td>260</td>\n",
       "      <td>Part 1: What happens next? What is behind the ...</td>\n",
       "      <td>1</td>\n",
       "      <td>pim-01</td>\n",
       "      <td>that the emphasis on barbarism implies that sh...</td>\n",
       "      <td>2020-10-20 17:06:00</td>\n",
       "      <td>False</td>\n",
       "      <td>10.0</td>\n",
       "      <td>Seminar</td>\n",
       "      <td>1.0</td>\n",
       "      <td>NaN</td>\n",
       "      <td>NaN</td>\n",
       "      <td>NaN</td>\n",
       "    </tr>\n",
       "    <tr>\n",
       "      <th>3</th>\n",
       "      <td>260</td>\n",
       "      <td>Part 1: What happens next? What is behind the ...</td>\n",
       "      <td>1</td>\n",
       "      <td>pim-03</td>\n",
       "      <td>I agree with Cassandra's noticing</td>\n",
       "      <td>2020-10-27 17:58:00</td>\n",
       "      <td>False</td>\n",
       "      <td>10.0</td>\n",
       "      <td>Seminar</td>\n",
       "      <td>1.0</td>\n",
       "      <td>Affirm</td>\n",
       "      <td>NaN</td>\n",
       "      <td>NaN</td>\n",
       "    </tr>\n",
       "    <tr>\n",
       "      <th>4</th>\n",
       "      <td>260</td>\n",
       "      <td>Part 1: What happens next? What is behind the ...</td>\n",
       "      <td>1</td>\n",
       "      <td>pim-03</td>\n",
       "      <td>of the author's word choice of barbarism.</td>\n",
       "      <td>2020-10-27 17:58:00</td>\n",
       "      <td>False</td>\n",
       "      <td>10.0</td>\n",
       "      <td>Seminar</td>\n",
       "      <td>1.0</td>\n",
       "      <td>Affirm</td>\n",
       "      <td>NaN</td>\n",
       "      <td>NaN</td>\n",
       "    </tr>\n",
       "  </tbody>\n",
       "</table>\n",
       "</div>"
      ],
      "text/plain": [
       "   book_id                                              topic  bookclub  \\\n",
       "0      260  Part 1: What happens next? What is behind the ...         1   \n",
       "1      260  Part 1: What happens next? What is behind the ...         1   \n",
       "2      260  Part 1: What happens next? What is behind the ...         1   \n",
       "3      260  Part 1: What happens next? What is behind the ...         1   \n",
       "4      260  Part 1: What happens next? What is behind the ...         1   \n",
       "\n",
       "  pseudonym                                            message  \\\n",
       "0    pim-01                                            Hello.    \n",
       "1    pim-01                                   My assumption is   \n",
       "2    pim-01  that the emphasis on barbarism implies that sh...   \n",
       "3    pim-03                 I agree with Cassandra's noticing    \n",
       "4    pim-03          of the author's word choice of barbarism.   \n",
       "\n",
       "                  time  is_answer  page discussion_type  dialogic_spell  \\\n",
       "0  2020-10-20 17:06:00      False  10.0          Social             1.0   \n",
       "1  2020-10-20 17:06:00      False  10.0         Seminar             1.0   \n",
       "2  2020-10-20 17:06:00      False  10.0         Seminar             1.0   \n",
       "3  2020-10-27 17:58:00      False  10.0         Seminar             1.0   \n",
       "4  2020-10-27 17:58:00      False  10.0         Seminar             1.0   \n",
       "\n",
       "   uptake question                                pivot  \n",
       "0     NaN      NaN                                  NaN  \n",
       "1     NaN      NaN  from Social/Procedure/UX to Seminar  \n",
       "2     NaN      NaN                                  NaN  \n",
       "3  Affirm      NaN                                  NaN  \n",
       "4  Affirm      NaN                                  NaN  "
      ]
     },
     "execution_count": 9,
     "metadata": {},
     "output_type": "execute_result"
    }
   ],
   "source": [
    "data1.head()"
   ]
  },
  {
   "cell_type": "code",
   "execution_count": 10,
   "metadata": {},
   "outputs": [
    {
     "data": {
      "text/html": [
       "<div>\n",
       "<style scoped>\n",
       "    .dataframe tbody tr th:only-of-type {\n",
       "        vertical-align: middle;\n",
       "    }\n",
       "\n",
       "    .dataframe tbody tr th {\n",
       "        vertical-align: top;\n",
       "    }\n",
       "\n",
       "    .dataframe thead th {\n",
       "        text-align: right;\n",
       "    }\n",
       "</style>\n",
       "<table border=\"1\" class=\"dataframe\">\n",
       "  <thead>\n",
       "    <tr style=\"text-align: right;\">\n",
       "      <th></th>\n",
       "      <th>book_id</th>\n",
       "      <th>topic</th>\n",
       "      <th>bookclub</th>\n",
       "      <th>message</th>\n",
       "      <th>time</th>\n",
       "      <th>is_answer</th>\n",
       "      <th>page</th>\n",
       "      <th>question</th>\n",
       "      <th>pivot</th>\n",
       "      <th>dialogic_spell</th>\n",
       "      <th>discussion_type</th>\n",
       "      <th>uptake</th>\n",
       "      <th>pseudonym</th>\n",
       "    </tr>\n",
       "  </thead>\n",
       "  <tbody>\n",
       "    <tr>\n",
       "      <th>0</th>\n",
       "      <td>306</td>\n",
       "      <td>Using the chat discussion to the right, discus...</td>\n",
       "      <td>Book Club One</td>\n",
       "      <td>hello</td>\n",
       "      <td>2022-03-01 14:41:05</td>\n",
       "      <td>No</td>\n",
       "      <td>8.0</td>\n",
       "      <td>NaN</td>\n",
       "      <td>NaN</td>\n",
       "      <td>NaN</td>\n",
       "      <td>Social</td>\n",
       "      <td>Filler</td>\n",
       "      <td>430.0 (Ava)</td>\n",
       "    </tr>\n",
       "    <tr>\n",
       "      <th>1</th>\n",
       "      <td>306</td>\n",
       "      <td>Using the chat discussion to the right, discus...</td>\n",
       "      <td>Book Club One</td>\n",
       "      <td>yoooo wasssupppp</td>\n",
       "      <td>2022-03-01 14:41:21</td>\n",
       "      <td>No</td>\n",
       "      <td>8.0</td>\n",
       "      <td>NaN</td>\n",
       "      <td>NaN</td>\n",
       "      <td>NaN</td>\n",
       "      <td>Social</td>\n",
       "      <td>Filler</td>\n",
       "      <td>407.0 (Samiran)</td>\n",
       "    </tr>\n",
       "    <tr>\n",
       "      <th>2</th>\n",
       "      <td>306</td>\n",
       "      <td>Using the chat discussion to the right, discus...</td>\n",
       "      <td>Book Club One</td>\n",
       "      <td>hola</td>\n",
       "      <td>2022-03-01 14:41:42</td>\n",
       "      <td>No</td>\n",
       "      <td>6.0</td>\n",
       "      <td>NaN</td>\n",
       "      <td>NaN</td>\n",
       "      <td>NaN</td>\n",
       "      <td>Social</td>\n",
       "      <td>Filler</td>\n",
       "      <td>416.0 (Nicholas)</td>\n",
       "    </tr>\n",
       "    <tr>\n",
       "      <th>3</th>\n",
       "      <td>306</td>\n",
       "      <td>Using the chat discussion to the right, discus...</td>\n",
       "      <td>Book Club One</td>\n",
       "      <td>yoooo wasssupppp yooo</td>\n",
       "      <td>2022-03-01 14:42:04</td>\n",
       "      <td>No</td>\n",
       "      <td>8.0</td>\n",
       "      <td>NaN</td>\n",
       "      <td>NaN</td>\n",
       "      <td>NaN</td>\n",
       "      <td>Social</td>\n",
       "      <td>Filler</td>\n",
       "      <td>407.0 (Samiran)</td>\n",
       "    </tr>\n",
       "    <tr>\n",
       "      <th>4</th>\n",
       "      <td>306</td>\n",
       "      <td>Using the chat discussion to the right, discus...</td>\n",
       "      <td>Book Club One</td>\n",
       "      <td>so lets start out</td>\n",
       "      <td>2022-03-01 14:42:54</td>\n",
       "      <td>No</td>\n",
       "      <td>8.0</td>\n",
       "      <td>NaN</td>\n",
       "      <td>NaN</td>\n",
       "      <td>NaN</td>\n",
       "      <td>Deliberation</td>\n",
       "      <td>Prompt</td>\n",
       "      <td>430.0 (Ava)</td>\n",
       "    </tr>\n",
       "  </tbody>\n",
       "</table>\n",
       "</div>"
      ],
      "text/plain": [
       "  book_id                                              topic       bookclub  \\\n",
       "0     306  Using the chat discussion to the right, discus...  Book Club One   \n",
       "1     306  Using the chat discussion to the right, discus...  Book Club One   \n",
       "2     306  Using the chat discussion to the right, discus...  Book Club One   \n",
       "3     306  Using the chat discussion to the right, discus...  Book Club One   \n",
       "4     306  Using the chat discussion to the right, discus...  Book Club One   \n",
       "\n",
       "                 message                 time is_answer  page  question  \\\n",
       "0                  hello  2022-03-01 14:41:05        No   8.0       NaN   \n",
       "1       yoooo wasssupppp  2022-03-01 14:41:21        No   8.0       NaN   \n",
       "2                   hola  2022-03-01 14:41:42        No   6.0       NaN   \n",
       "3  yoooo wasssupppp yooo  2022-03-01 14:42:04        No   8.0       NaN   \n",
       "4      so lets start out  2022-03-01 14:42:54        No   8.0       NaN   \n",
       "\n",
       "   pivot  dialogic_spell discussion_type  uptake         pseudonym  \n",
       "0    NaN             NaN          Social  Filler       430.0 (Ava)  \n",
       "1    NaN             NaN          Social  Filler   407.0 (Samiran)  \n",
       "2    NaN             NaN          Social  Filler  416.0 (Nicholas)  \n",
       "3    NaN             NaN          Social  Filler   407.0 (Samiran)  \n",
       "4    NaN             NaN    Deliberation  Prompt       430.0 (Ava)  "
      ]
     },
     "execution_count": 10,
     "metadata": {},
     "output_type": "execute_result"
    }
   ],
   "source": [
    "data2.head()"
   ]
  },
  {
   "cell_type": "code",
   "execution_count": 11,
   "metadata": {},
   "outputs": [
    {
     "data": {
      "text/plain": [
       "book_id\n",
       "260    427\n",
       "306    288\n",
       "261    190\n",
       "Name: count, dtype: int64"
      ]
     },
     "execution_count": 11,
     "metadata": {},
     "output_type": "execute_result"
    }
   ],
   "source": [
    "data1.book_id.value_counts()"
   ]
  },
  {
   "cell_type": "code",
   "execution_count": 12,
   "metadata": {},
   "outputs": [
    {
     "data": {
      "text/plain": [
       "book_id\n",
       "306                                        288\n",
       "'transport make 10% of emissions' pg 10      1\n",
       "where was this quote found?                  1\n",
       "Name: count, dtype: int64"
      ]
     },
     "execution_count": 12,
     "metadata": {},
     "output_type": "execute_result"
    }
   ],
   "source": [
    "data2.book_id.value_counts()"
   ]
  },
  {
   "cell_type": "code",
   "execution_count": 13,
   "metadata": {},
   "outputs": [],
   "source": [
    "data1 = data1[data1['book_id'] != 306]"
   ]
  },
  {
   "cell_type": "code",
   "execution_count": 14,
   "metadata": {},
   "outputs": [],
   "source": [
    "data2 = data2[data2['book_id'] == '306']"
   ]
  },
  {
   "cell_type": "code",
   "execution_count": 15,
   "metadata": {},
   "outputs": [
    {
     "data": {
      "text/plain": [
       "bookclub\n",
       "1    82\n",
       "7    50\n",
       "3    48\n",
       "2    44\n",
       "6    38\n",
       "5    26\n",
       "Name: count, dtype: int64"
      ]
     },
     "execution_count": 15,
     "metadata": {},
     "output_type": "execute_result"
    }
   ],
   "source": [
    "# bookclub always starts with Book\n",
    "data2['bookclub'] = data2['bookclub'].fillna('').astype(str)\n",
    "data2 = data2[data2['bookclub'].str.startswith('Book')]\n",
    "\n",
    "# map Book Club One to 1, Book Club Two to 2, etc\n",
    "data2['bookclub'] = data2['bookclub'].apply(lambda x: w2n.word_to_num(x.split(' ')[-1]))\n",
    "data2['bookclub'].value_counts()"
   ]
  },
  {
   "cell_type": "code",
   "execution_count": 16,
   "metadata": {},
   "outputs": [],
   "source": [
    "# if Is Answer is nan or ' ' then it is True, otherwise False\n",
    "data2['is_answer'] = data2['is_answer'].isna() | data2['is_answer'].str.isspace()"
   ]
  },
  {
   "cell_type": "code",
   "execution_count": 17,
   "metadata": {},
   "outputs": [],
   "source": [
    "data2.book_id = data2.book_id.astype(int)"
   ]
  },
  {
   "cell_type": "code",
   "execution_count": 18,
   "metadata": {},
   "outputs": [],
   "source": [
    "columns = list(data1.columns)\n",
    "data2 = data2[columns] # re-order columns"
   ]
  },
  {
   "cell_type": "code",
   "execution_count": 19,
   "metadata": {},
   "outputs": [
    {
     "name": "stdout",
     "output_type": "stream",
     "text": [
      "<class 'pandas.core.frame.DataFrame'>\n",
      "Index: 617 entries, 0 to 616\n",
      "Data columns (total 13 columns):\n",
      " #   Column           Non-Null Count  Dtype  \n",
      "---  ------           --------------  -----  \n",
      " 0   book_id          617 non-null    int64  \n",
      " 1   topic            609 non-null    object \n",
      " 2   bookclub         617 non-null    int64  \n",
      " 3   pseudonym        617 non-null    object \n",
      " 4   message          617 non-null    object \n",
      " 5   time             617 non-null    object \n",
      " 6   is_answer        617 non-null    bool   \n",
      " 7   page             515 non-null    float64\n",
      " 8   discussion_type  617 non-null    object \n",
      " 9   dialogic_spell   467 non-null    float64\n",
      " 10  uptake           374 non-null    object \n",
      " 11  question         84 non-null     object \n",
      " 12  pivot            47 non-null     object \n",
      "dtypes: bool(1), float64(2), int64(2), object(8)\n",
      "memory usage: 63.3+ KB\n"
     ]
    },
    {
     "data": {
      "text/plain": [
       "None"
      ]
     },
     "metadata": {},
     "output_type": "display_data"
    },
    {
     "name": "stdout",
     "output_type": "stream",
     "text": [
      "--------------------------------------------------\n",
      "<class 'pandas.core.frame.DataFrame'>\n",
      "Index: 288 entries, 0 to 289\n",
      "Data columns (total 13 columns):\n",
      " #   Column           Non-Null Count  Dtype  \n",
      "---  ------           --------------  -----  \n",
      " 0   book_id          288 non-null    int64  \n",
      " 1   topic            288 non-null    object \n",
      " 2   bookclub         288 non-null    int64  \n",
      " 3   pseudonym        288 non-null    object \n",
      " 4   message          288 non-null    object \n",
      " 5   time             287 non-null    object \n",
      " 6   is_answer        288 non-null    bool   \n",
      " 7   page             287 non-null    float64\n",
      " 8   discussion_type  288 non-null    object \n",
      " 9   dialogic_spell   176 non-null    float64\n",
      " 10  uptake           279 non-null    object \n",
      " 11  question         0 non-null      float64\n",
      " 12  pivot            0 non-null      float64\n",
      "dtypes: bool(1), float64(4), int64(2), object(6)\n",
      "memory usage: 29.5+ KB\n"
     ]
    },
    {
     "data": {
      "text/plain": [
       "None"
      ]
     },
     "metadata": {},
     "output_type": "display_data"
    }
   ],
   "source": [
    "display(data1.info())\n",
    "print('-'*50)\n",
    "display(data2.info())"
   ]
  },
  {
   "cell_type": "code",
   "execution_count": 20,
   "metadata": {},
   "outputs": [],
   "source": [
    "target_labels = ['discussion_type', 'uptake']"
   ]
  },
  {
   "cell_type": "code",
   "execution_count": 24,
   "metadata": {},
   "outputs": [],
   "source": [
    "for label in target_labels:\n",
    "    data1[label] = data1[label].astype(str)\n",
    "    data2[label] = data2[label].astype(str)"
   ]
  },
  {
   "attachments": {},
   "cell_type": "markdown",
   "metadata": {},
   "source": [
    "### OTDD"
   ]
  },
  {
   "cell_type": "code",
   "execution_count": 25,
   "metadata": {},
   "outputs": [],
   "source": [
    "model_path = 'all-MiniLM-L6-v2'"
   ]
  },
  {
   "cell_type": "code",
   "execution_count": 26,
   "metadata": {},
   "outputs": [],
   "source": [
    "model = SentenceTransformer(model_path)"
   ]
  },
  {
   "cell_type": "code",
   "execution_count": null,
   "metadata": {},
   "outputs": [],
   "source": [
    "# Getting the embeddings\n",
    "emb1 = model.encode(data1.message.tolist())\n",
    "emb2 = model.encode(data2.message.tolist())"
   ]
  },
  {
   "cell_type": "code",
   "execution_count": 32,
   "metadata": {},
   "outputs": [],
   "source": [
    "def create_data_loader(df, emb, target_label, batch_size=32):\n",
    "    \n",
    "    # Create label tensors\n",
    "    ul = df[target_label].unique()\n",
    "    mapper = dict(zip(ul, range(len(ul))))\n",
    "    labels = [mapper[c] for c in df[target_label].tolist()]\n",
    "    label_tensor = torch.tensor(labels)\n",
    "        \n",
    "    # Create embeddings tensor\n",
    "    embeddings = torch.tensor(emb)\n",
    "\n",
    "    # Create a TensorDataset\n",
    "    dataset = TensorDataset(embeddings, label_tensor)\n",
    "    \n",
    "    # Create a DataLoader\n",
    "    batch_size = batch_size\n",
    "    dataloader = DataLoader(dataset, batch_size=batch_size, shuffle=True)\n",
    "    \n",
    "    return dataloader"
   ]
  },
  {
   "cell_type": "code",
   "execution_count": null,
   "metadata": {},
   "outputs": [],
   "source": [
    "# Create data loaders\n",
    "for label in target_labels:\n",
    "    \n",
    "    d1 = create_data_loader(data1, emb1, label)\n",
    "    d2 = create_data_loader(data2, emb2, label)\n",
    "\n",
    "    # Compute the distance\n",
    "    try:\n",
    "        dist = DatasetDistance(d1, d2,\n",
    "                    inner_ot_method = 'means_only',\n",
    "                    debiased_loss = True,\n",
    "                    p = 2, entreg = 1e-1,\n",
    "                    device='cpu')\n",
    "    except Exception as e:\n",
    "        print('Error:', e)\n",
    "        \n",
    "    print(f'Distance for label {label}: {dist.distance(maxsamples = 10000)}')"
   ]
  },
  {
   "attachments": {},
   "cell_type": "markdown",
   "metadata": {},
   "source": [
    "- Distance for label discussion_type: 0.5095193386077881\n",
    "- Distance for label uptake: 0.5094767212867737"
   ]
  }
 ],
 "metadata": {
  "kernelspec": {
   "display_name": "otdd",
   "language": "python",
   "name": "python3"
  },
  "language_info": {
   "codemirror_mode": {
    "name": "ipython",
    "version": 3
   },
   "file_extension": ".py",
   "mimetype": "text/x-python",
   "name": "python",
   "nbconvert_exporter": "python",
   "pygments_lexer": "ipython3",
   "version": "3.8.19"
  },
  "orig_nbformat": 4,
  "vscode": {
   "interpreter": {
    "hash": "fed728b97888bfc4ff3542bafd4165e079f8f9e61671a05735ff622345bf6765"
   }
  }
 },
 "nbformat": 4,
 "nbformat_minor": 2
}
