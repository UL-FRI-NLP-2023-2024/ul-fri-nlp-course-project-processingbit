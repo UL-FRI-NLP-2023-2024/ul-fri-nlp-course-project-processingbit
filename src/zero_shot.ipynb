{
 "cells": [
  {
   "attachments": {},
   "cell_type": "markdown",
   "metadata": {},
   "source": [
    "# Zero Shot Classification"
   ]
  },
  {
   "attachments": {},
   "cell_type": "markdown",
   "metadata": {},
   "source": [
    "### Import Packages"
   ]
  },
  {
   "cell_type": "code",
   "execution_count": 62,
   "metadata": {},
   "outputs": [],
   "source": [
    "from transformers import pipeline\n",
    "\n",
    "import pandas as pd\n",
    "import numpy as np\n",
    "\n",
    "from sklearn.metrics import classification_report"
   ]
  },
  {
   "attachments": {},
   "cell_type": "markdown",
   "metadata": {},
   "source": [
    "### Read Data"
   ]
  },
  {
   "cell_type": "code",
   "execution_count": 2,
   "metadata": {},
   "outputs": [],
   "source": [
    "df = pd.read_csv('./data/cleaned_data.csv')"
   ]
  },
  {
   "attachments": {},
   "cell_type": "markdown",
   "metadata": {},
   "source": [
    "### Model"
   ]
  },
  {
   "cell_type": "code",
   "execution_count": 5,
   "metadata": {},
   "outputs": [
    {
     "data": {
      "application/vnd.jupyter.widget-view+json": {
       "model_id": "a1ffa40fb4f24db5882a827ecd239bad",
       "version_major": 2,
       "version_minor": 0
      },
      "text/plain": [
       "config.json:   0%|          | 0.00/1.05k [00:00<?, ?B/s]"
      ]
     },
     "metadata": {},
     "output_type": "display_data"
    },
    {
     "data": {
      "application/vnd.jupyter.widget-view+json": {
       "model_id": "8b7b20259b8840cbbd2e60a88eb584be",
       "version_major": 2,
       "version_minor": 0
      },
      "text/plain": [
       "pytorch_model.bin:   0%|          | 0.00/738M [00:00<?, ?B/s]"
      ]
     },
     "metadata": {},
     "output_type": "display_data"
    },
    {
     "name": "stderr",
     "output_type": "stream",
     "text": [
      "/opt/homebrew/Caskroom/miniforge/base/lib/python3.10/site-packages/torch/_utils.py:831: UserWarning: TypedStorage is deprecated. It will be removed in the future and UntypedStorage will be the only storage class. This should only matter to you if you are using storages directly.  To access UntypedStorage directly, use tensor.untyped_storage() instead of tensor.storage()\n",
      "  return self.fget.__get__(instance, owner)()\n"
     ]
    },
    {
     "data": {
      "application/vnd.jupyter.widget-view+json": {
       "model_id": "c148bf6c3ae94049b1a2dc0360a25b50",
       "version_major": 2,
       "version_minor": 0
      },
      "text/plain": [
       "tokenizer_config.json:   0%|          | 0.00/417 [00:00<?, ?B/s]"
      ]
     },
     "metadata": {},
     "output_type": "display_data"
    },
    {
     "data": {
      "application/vnd.jupyter.widget-view+json": {
       "model_id": "9b158596222a468687685ce028cf9cd6",
       "version_major": 2,
       "version_minor": 0
      },
      "text/plain": [
       "spm.model:   0%|          | 0.00/2.46M [00:00<?, ?B/s]"
      ]
     },
     "metadata": {},
     "output_type": "display_data"
    },
    {
     "data": {
      "application/vnd.jupyter.widget-view+json": {
       "model_id": "62c415c5ca7148d2a1bcff124b152260",
       "version_major": 2,
       "version_minor": 0
      },
      "text/plain": [
       "added_tokens.json:   0%|          | 0.00/18.0 [00:00<?, ?B/s]"
      ]
     },
     "metadata": {},
     "output_type": "display_data"
    },
    {
     "data": {
      "application/vnd.jupyter.widget-view+json": {
       "model_id": "f6ccb09e36c64071a043a3f9516f8623",
       "version_major": 2,
       "version_minor": 0
      },
      "text/plain": [
       "special_tokens_map.json:   0%|          | 0.00/156 [00:00<?, ?B/s]"
      ]
     },
     "metadata": {},
     "output_type": "display_data"
    },
    {
     "name": "stderr",
     "output_type": "stream",
     "text": [
      "/opt/homebrew/Caskroom/miniforge/base/lib/python3.10/site-packages/transformers/convert_slow_tokenizer.py:560: UserWarning: The sentencepiece tokenizer that you are converting to a fast tokenizer uses the byte fallback option which is not implemented in the fast tokenizers. In practice this means that the fast version of the tokenizer can produce unknown tokens whereas the sentencepiece version would have converted these unknown tokens into a sequence of byte tokens matching the original piece of text.\n",
      "  warnings.warn(\n"
     ]
    }
   ],
   "source": [
    "classifier = pipeline(\"zero-shot-classification\", model='cross-encoder/nli-deberta-v3-base')"
   ]
  },
  {
   "cell_type": "code",
   "execution_count": 100,
   "metadata": {},
   "outputs": [],
   "source": [
    "def zero_shot_classification(target_class: str):\n",
    "    # extract labels and messages\n",
    "    labels = list(df[target_class].unique())\n",
    "    messages = list(df['message'].values)\n",
    "    \n",
    "    sent = messages\n",
    "    candidate_labels = labels\n",
    "    res = classifier(sent, candidate_labels)\n",
    "    \n",
    "    res_df = pd.DataFrame(res)\n",
    "    \n",
    "    # Get final predictions based on highest score\n",
    "    preds = []\n",
    "    for i, scores in enumerate(res_df['scores'].values):\n",
    "        idx = np.argmax(scores)\n",
    "        preds.append(res_df['labels'].iloc[i][idx])\n",
    "        \n",
    "    res_df['predictions'] = preds\n",
    "    \n",
    "    return res_df\n",
    "\n",
    "def report(df:pd.DataFrame, res_df:pd.DataFrame, target_class:str):\n",
    "    print(f'Predictions for {target_class.lower()}:')\n",
    "    print('-' * 60)\n",
    "    report = classification_report(df[target_class].astype(str), res_df['predictions'])\n",
    "    print(report)"
   ]
  },
  {
   "attachments": {},
   "cell_type": "markdown",
   "metadata": {},
   "source": [
    "### Results"
   ]
  },
  {
   "attachments": {},
   "cell_type": "markdown",
   "metadata": {},
   "source": [
    "#### Discussion"
   ]
  },
  {
   "cell_type": "code",
   "execution_count": 57,
   "metadata": {},
   "outputs": [],
   "source": [
    "res_df_dis = zero_shot_classification('Discussion')"
   ]
  },
  {
   "cell_type": "code",
   "execution_count": 72,
   "metadata": {},
   "outputs": [
    {
     "name": "stdout",
     "output_type": "stream",
     "text": [
      "Predictions for discussion:\n",
      "------------------------------------------------------------\n",
      "                   precision    recall  f1-score   support\n",
      "\n",
      "     Deliberation       0.20      0.24      0.22       228\n",
      "Imaginative Entry       0.03      0.21      0.06        29\n",
      "            Other       0.00      0.00      0.00        10\n",
      "        Procedure       0.04      0.09      0.06        65\n",
      "          Seminar       0.50      0.02      0.03       445\n",
      "           Social       0.23      0.57      0.33        79\n",
      "               UX       0.50      0.04      0.08        49\n",
      "\n",
      "         accuracy                           0.13       905\n",
      "        macro avg       0.22      0.17      0.11       905\n",
      "     weighted avg       0.35      0.13      0.11       905\n",
      "\n"
     ]
    }
   ],
   "source": [
    "report(res_df_dis, 'Discussion')"
   ]
  },
  {
   "attachments": {},
   "cell_type": "markdown",
   "metadata": {},
   "source": [
    "#### Uptake"
   ]
  },
  {
   "cell_type": "code",
   "execution_count": 93,
   "metadata": {},
   "outputs": [],
   "source": [
    "res_df_up = zero_shot_classification('Uptake')\n",
    "res_df_up.predictions = res_df_up.predictions.astype(str)"
   ]
  },
  {
   "cell_type": "code",
   "execution_count": 99,
   "metadata": {},
   "outputs": [
    {
     "name": "stdout",
     "output_type": "stream",
     "text": [
      "Predictions for uptake:\n",
      "------------------------------------------------------------\n",
      "              precision    recall  f1-score   support\n",
      "\n",
      "      Affirm       0.46      0.45      0.45       193\n",
      "     Clarify       0.32      0.30      0.31       136\n",
      "    Disagree       0.06      0.38      0.11        21\n",
      "   Elaborate       0.24      0.26      0.25       190\n",
      "      Filler       0.09      0.11      0.10        92\n",
      "      Prompt       0.03      0.19      0.05        21\n",
      "         nan       0.20      0.00      0.01       252\n",
      "\n",
      "    accuracy                           0.22       905\n",
      "   macro avg       0.20      0.24      0.18       905\n",
      "weighted avg       0.26      0.22      0.21       905\n",
      "\n"
     ]
    }
   ],
   "source": [
    "report(df, res_df_up, 'Uptake')"
   ]
  }
 ],
 "metadata": {
  "kernelspec": {
   "display_name": "base",
   "language": "python",
   "name": "python3"
  },
  "language_info": {
   "codemirror_mode": {
    "name": "ipython",
    "version": 3
   },
   "file_extension": ".py",
   "mimetype": "text/x-python",
   "name": "python",
   "nbconvert_exporter": "python",
   "pygments_lexer": "ipython3",
   "version": "3.10.8"
  },
  "orig_nbformat": 4,
  "vscode": {
   "interpreter": {
    "hash": "c6e4e9f98eb68ad3b7c296f83d20e6de614cb42e90992a65aa266555a3137d0d"
   }
  }
 },
 "nbformat": 4,
 "nbformat_minor": 2
}
